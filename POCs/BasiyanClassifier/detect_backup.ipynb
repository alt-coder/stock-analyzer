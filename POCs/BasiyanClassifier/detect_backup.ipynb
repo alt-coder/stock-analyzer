{
  "cells": [
    {
      "cell_type": "code",
      "execution_count": 1,
      "metadata": {
        "id": "hX8ljQZ-dNEj",
        "outputId": "cb72f29b-f8e0-418c-d924-daca63a191e3"
      },
      "outputs": [
        {
          "name": "stdout",
          "output_type": "stream",
          "text": [
            "^C\n"
          ]
        },
        {
          "name": "stdout",
          "output_type": "stream",
          "text": [
            "Requirement already satisfied: mplfinance in c:\\users\\shubham soni\\documents\\megasync\\stock-analyzer\\stock-analyzer\\lib\\site-packages (0.12.10b0)\n",
            "Requirement already satisfied: matplotlib in c:\\users\\shubham soni\\documents\\megasync\\stock-analyzer\\stock-analyzer\\lib\\site-packages (from mplfinance) (3.8.2)\n",
            "Requirement already satisfied: pandas in c:\\users\\shubham soni\\documents\\megasync\\stock-analyzer\\stock-analyzer\\lib\\site-packages (from mplfinance) (2.1.4)\n",
            "Requirement already satisfied: contourpy>=1.0.1 in c:\\users\\shubham soni\\documents\\megasync\\stock-analyzer\\stock-analyzer\\lib\\site-packages (from matplotlib->mplfinance) (1.2.0)\n",
            "Requirement already satisfied: cycler>=0.10 in c:\\users\\shubham soni\\documents\\megasync\\stock-analyzer\\stock-analyzer\\lib\\site-packages (from matplotlib->mplfinance) (0.12.1)\n",
            "Requirement already satisfied: fonttools>=4.22.0 in c:\\users\\shubham soni\\documents\\megasync\\stock-analyzer\\stock-analyzer\\lib\\site-packages (from matplotlib->mplfinance) (4.47.2)\n",
            "Requirement already satisfied: kiwisolver>=1.3.1 in c:\\users\\shubham soni\\documents\\megasync\\stock-analyzer\\stock-analyzer\\lib\\site-packages (from matplotlib->mplfinance) (1.4.5)\n",
            "Requirement already satisfied: numpy<2,>=1.21 in c:\\users\\shubham soni\\documents\\megasync\\stock-analyzer\\stock-analyzer\\lib\\site-packages (from matplotlib->mplfinance) (1.26.3)\n",
            "Requirement already satisfied: packaging>=20.0 in c:\\users\\shubham soni\\documents\\megasync\\stock-analyzer\\stock-analyzer\\lib\\site-packages (from matplotlib->mplfinance) (23.2)\n",
            "Requirement already satisfied: pillow>=8 in c:\\users\\shubham soni\\documents\\megasync\\stock-analyzer\\stock-analyzer\\lib\\site-packages (from matplotlib->mplfinance) (10.2.0)\n",
            "Requirement already satisfied: pyparsing>=2.3.1 in c:\\users\\shubham soni\\documents\\megasync\\stock-analyzer\\stock-analyzer\\lib\\site-packages (from matplotlib->mplfinance) (3.1.1)\n",
            "Requirement already satisfied: python-dateutil>=2.7 in c:\\users\\shubham soni\\documents\\megasync\\stock-analyzer\\stock-analyzer\\lib\\site-packages (from matplotlib->mplfinance) (2.8.2)\n",
            "Requirement already satisfied: pytz>=2020.1 in c:\\users\\shubham soni\\documents\\megasync\\stock-analyzer\\stock-analyzer\\lib\\site-packages (from pandas->mplfinance) (2023.3.post1)\n",
            "Requirement already satisfied: tzdata>=2022.1 in c:\\users\\shubham soni\\documents\\megasync\\stock-analyzer\\stock-analyzer\\lib\\site-packages (from pandas->mplfinance) (2023.4)\n",
            "Requirement already satisfied: six>=1.5 in c:\\users\\shubham soni\\documents\\megasync\\stock-analyzer\\stock-analyzer\\lib\\site-packages (from python-dateutil>=2.7->matplotlib->mplfinance) (1.16.0)\n"
          ]
        },
        {
          "name": "stderr",
          "output_type": "stream",
          "text": [
            "\n",
            "[notice] A new release of pip available: 22.3.1 -> 24.0\n",
            "[notice] To update, run: python.exe -m pip install --upgrade pip\n"
          ]
        }
      ],
      "source": [
        "!pip install mplfinance"
      ]
    },
    {
      "cell_type": "code",
      "execution_count": 2,
      "metadata": {
        "id": "xYLpfqWtdNEm"
      },
      "outputs": [],
      "source": [
        "# imports\n",
        "import pandas as pd\n",
        "import yfinance as yf\n",
        "import numpy as np\n",
        "import mplfinance as mpf"
      ]
    },
    {
      "cell_type": "code",
      "execution_count": 29,
      "metadata": {
        "id": "uu0vqkDEdNEn",
        "outputId": "f64d0c56-245c-4eb2-9784-6ca191ae2947"
      },
      "outputs": [
        {
          "name": "stderr",
          "output_type": "stream",
          "text": [
            "[*********************100%%**********************]  1 of 1 completed\n"
          ]
        },
        {
          "data": {
            "text/html": [
              "<div>\n",
              "<style scoped>\n",
              "    .dataframe tbody tr th:only-of-type {\n",
              "        vertical-align: middle;\n",
              "    }\n",
              "\n",
              "    .dataframe tbody tr th {\n",
              "        vertical-align: top;\n",
              "    }\n",
              "\n",
              "    .dataframe thead th {\n",
              "        text-align: right;\n",
              "    }\n",
              "</style>\n",
              "<table border=\"1\" class=\"dataframe\">\n",
              "  <thead>\n",
              "    <tr style=\"text-align: right;\">\n",
              "      <th></th>\n",
              "      <th>Open</th>\n",
              "      <th>High</th>\n",
              "      <th>Low</th>\n",
              "      <th>Close</th>\n",
              "      <th>Adj Close</th>\n",
              "      <th>Volume</th>\n",
              "      <th>pct_change</th>\n",
              "    </tr>\n",
              "    <tr>\n",
              "      <th>Date</th>\n",
              "      <th></th>\n",
              "      <th></th>\n",
              "      <th></th>\n",
              "      <th></th>\n",
              "      <th></th>\n",
              "      <th></th>\n",
              "      <th></th>\n",
              "    </tr>\n",
              "  </thead>\n",
              "  <tbody>\n",
              "    <tr>\n",
              "      <th>2022-11-21</th>\n",
              "      <td>58.549999</td>\n",
              "      <td>58.799999</td>\n",
              "      <td>56.349998</td>\n",
              "      <td>56.900002</td>\n",
              "      <td>56.890629</td>\n",
              "      <td>113381</td>\n",
              "      <td>-0.827983</td>\n",
              "    </tr>\n",
              "    <tr>\n",
              "      <th>2022-11-22</th>\n",
              "      <td>57.900002</td>\n",
              "      <td>57.900002</td>\n",
              "      <td>55.599998</td>\n",
              "      <td>56.049999</td>\n",
              "      <td>56.040764</td>\n",
              "      <td>115515</td>\n",
              "      <td>-1.112346</td>\n",
              "    </tr>\n",
              "    <tr>\n",
              "      <th>2022-11-23</th>\n",
              "      <td>57.400002</td>\n",
              "      <td>57.400002</td>\n",
              "      <td>55.099998</td>\n",
              "      <td>55.799999</td>\n",
              "      <td>55.790806</td>\n",
              "      <td>128608</td>\n",
              "      <td>-0.764203</td>\n",
              "    </tr>\n",
              "    <tr>\n",
              "      <th>2022-11-24</th>\n",
              "      <td>55.799999</td>\n",
              "      <td>58.400002</td>\n",
              "      <td>54.849998</td>\n",
              "      <td>56.650002</td>\n",
              "      <td>56.640667</td>\n",
              "      <td>187303</td>\n",
              "      <td>-0.255785</td>\n",
              "    </tr>\n",
              "    <tr>\n",
              "      <th>2022-11-25</th>\n",
              "      <td>57.450001</td>\n",
              "      <td>57.900002</td>\n",
              "      <td>56.150002</td>\n",
              "      <td>56.400002</td>\n",
              "      <td>56.390709</td>\n",
              "      <td>58550</td>\n",
              "      <td>-0.294092</td>\n",
              "    </tr>\n",
              "  </tbody>\n",
              "</table>\n",
              "</div>"
            ],
            "text/plain": [
              "                 Open       High        Low      Close  Adj Close  Volume  \\\n",
              "Date                                                                        \n",
              "2022-11-21  58.549999  58.799999  56.349998  56.900002  56.890629  113381   \n",
              "2022-11-22  57.900002  57.900002  55.599998  56.049999  56.040764  115515   \n",
              "2022-11-23  57.400002  57.400002  55.099998  55.799999  55.790806  128608   \n",
              "2022-11-24  55.799999  58.400002  54.849998  56.650002  56.640667  187303   \n",
              "2022-11-25  57.450001  57.900002  56.150002  56.400002  56.390709   58550   \n",
              "\n",
              "            pct_change  \n",
              "Date                    \n",
              "2022-11-21   -0.827983  \n",
              "2022-11-22   -1.112346  \n",
              "2022-11-23   -0.764203  \n",
              "2022-11-24   -0.255785  \n",
              "2022-11-25   -0.294092  "
            ]
          },
          "execution_count": 29,
          "metadata": {},
          "output_type": "execute_result"
        }
      ],
      "source": [
        "## add dataset to the project\n",
        "def load_stock_memory(name):\n",
        "    path = f'../Data/{name}.csv'\n",
        "    data = pd.read_csv(path, parse_dates=['Date'], index_col='Date') #index_col='Date'\n",
        "    # data['Date'] = pd.to_datetime(data['Date'])\n",
        "\n",
        "    data['Prev_Close'] = data.Close.shift(1)\n",
        "    data = data.iloc[1:]\n",
        "    return data\n",
        "def load_stock_yfinance(name,start=\"2021-01-01\", end=\"2024-02-01\", interval=\"1d\"):\n",
        "    data = yf.download(name, start=start, end=end, interval=interval)\n",
        "    return data\n",
        "\n",
        "stock_data = load_stock_yfinance(\"TRU.NS\")\n",
        "stock_data['pct_change'] = stock_data['Close'].pct_change().rolling(7).mean() *100\n",
        "stock_data = stock_data.iloc[7:]\n",
        "stock_data = stock_data[stock_data['Volume'] != 0]\n",
        "stock_data.head()"
      ]
    },
    {
      "cell_type": "code",
      "execution_count": 9,
      "metadata": {
        "id": "gV0EA2P5dNEo"
      },
      "outputs": [],
      "source": [
        "# getRelativeValues return the relative of High, Close, Low for a given index i and stock_data\n",
        "def getRelativeValues(i, stock_data):\n",
        "    # use the index i to get the High, Close, Low values\n",
        "    high = stock_data.iloc[i]['High']\n",
        "    close = stock_data.iloc[i]['Close']\n",
        "    low = stock_data.iloc[i]['Low']\n",
        "    op = stock_data.iloc[i]['Open']\n",
        "    return high/op , close/op, low/op\n",
        "\n",
        "# calculate relative midpoints based on index i and j\n",
        "def calculateMidpoints(i, j, k, stock_data):\n",
        "    # get the relative values of High, Close, Low for index i and j\n",
        "    # high_i, _, low_i = getRelativeValues(i, stock_data)\n",
        "    # high_j, _, low_j = getRelativeValues(j, stock_data)\n",
        "    # # calculate relative midpoints\n",
        "    # mi = ((high_i - low_i) / 2) + low_i\n",
        "    # mj = ((high_j - low_j) / 2) + low_j\n",
        "    close_i = stock_data.iloc[i]['Close']\n",
        "    high_i = stock_data.iloc[i]['High']\n",
        "    low_i = stock_data.iloc[i]['Low']\n",
        "    op_i = stock_data.iloc[i]['Open']\n",
        "    close_j = stock_data.iloc[j]['Close']\n",
        "    high_j = stock_data.iloc[j]['High']\n",
        "    low_j = stock_data.iloc[j]['Low']\n",
        "    op_j = stock_data.iloc[j]['Open']\n",
        "    close_k = stock_data.iloc[k]['Close']\n",
        "    high_k = stock_data.iloc[k]['High']\n",
        "    low_k = stock_data.iloc[k]['Low']\n",
        "    op_k = stock_data.iloc[k]['Open']\n",
        "\n",
        "    # calculate the reference , that is minimum of all lows\n",
        "    min_low = min(low_i, low_j, low_k)\n",
        "\n",
        "    # high_i_rel = high_i / min_low\n",
        "    # low_i_rel = low_i / min_low\n",
        "    # high_j_rel = high_j / min_low\n",
        "    # low_j_rel = low_j / min_low\n",
        "    # high_k_rel = high_k / min_low\n",
        "    # low_k_rel = low_k / min_low\n",
        "    # open_i_rel = op_i / min_low\n",
        "    # open_j_rel = op_j / min_low\n",
        "    # open_k_rel = op_k / min_low\n",
        "    # close_i_rel = close_i / min_low\n",
        "    # close_j_rel = close_j / min_low\n",
        "    # close_k_rel = close_k / min_low\n",
        "\n",
        "    m1 = (((high_i - low_i) / 2) + (low_i-min_low)) / min_low\n",
        "    m2 = (((high_j - low_j) / 2) + (low_j-min_low)) / min_low\n",
        "    m3 = (((high_k - low_k) / 2) + (low_k-min_low)) / min_low\n",
        "\n",
        "    m1_close = (((close_i - op_i) / 2) + (op_i-min_low) ) / min_low\n",
        "    m2_close = (((close_j - op_j) / 2) + (op_j-min_low) ) / min_low\n",
        "    m3_close = (((close_k - op_k) / 2) + (op_k-min_low) ) / min_low\n",
        "    # return (high_i_rel, low_i_rel, high_j_rel, low_j_rel, high_k_rel, low_k_rel, open_i_rel, open_j_rel, open_k_rel, close_i_rel, close_j_rel, close_k_rel, m1, m2, m3,  m1_close, m2_close, m3_close )\n",
        "    return ( m1, m2, m3,  m1_close, m2_close, m3_close)"
      ]
    },
    {
      "cell_type": "code",
      "execution_count": 10,
      "metadata": {
        "id": "PwC9Jz8OdNEo"
      },
      "outputs": [],
      "source": [
        "class StockPattern():\n",
        "    def __init__(self, i, patt, dir):\n",
        "        self.pattern = patt\n",
        "        self.i = i\n",
        "        self.dir = dir\n",
        "    def __getitem__(self, index):\n",
        "        return self.pattern[index]\n",
        "\n",
        "    def __len__(self):\n",
        "        return len(self.pattern)\n"
      ]
    },
    {
      "cell_type": "code",
      "execution_count": 11,
      "metadata": {
        "id": "mCgHuuuodNEp",
        "outputId": "2817918f-19c7-4979-8d2e-65da2e00a820"
      },
      "outputs": [
        {
          "data": {
            "text/plain": [
              "defaultdict(int, {-1: 68, 1: 157})"
            ]
          },
          "execution_count": 11,
          "metadata": {},
          "output_type": "execute_result"
        }
      ],
      "source": [
        "# patt_index = {}\n",
        "patterns = []\n",
        "threshold = 0.02\n",
        "for i in range(len(stock_data)-6):\n",
        "    up = False\n",
        "    down = False\n",
        "    # check if any of the value of high in the range i+3 to i+6 is 3% greater than i+2 close value\n",
        "    for j in range(i+3, i+4):\n",
        "        if stock_data.iloc[j]['High'] >= stock_data.iloc[i+2]['Close'] * (1+threshold):\n",
        "            up=True\n",
        "            break\n",
        "        elif stock_data.iloc[j]['Low']<= stock_data.iloc[i+2]['Close'] * (1-threshold):\n",
        "            down = True\n",
        "            break\n",
        "    if up or down:\n",
        "        cs_t_2 = getRelativeValues(i,stock_data)\n",
        "        cs_t_1 = getRelativeValues(i+1,stock_data)\n",
        "        cs_t = getRelativeValues(i+2,stock_data)\n",
        "        relative_features = calculateMidpoints(i,i+1,i+2,stock_data)\n",
        "\n",
        "        if up :\n",
        "            patterns.append(StockPattern(i,np.array([*cs_t_2,*cs_t_1,*cs_t,*relative_features]),1))\n",
        "            # patterns.append(StockPattern(i,np.array([*relative_features]),1))\n",
        "\n",
        "        if down:\n",
        "            patterns.append(StockPattern(i,np.array([*cs_t_2,*cs_t_1,*cs_t,*relative_features]),-1))\n",
        "            # patterns.append(StockPattern(i,np.array([*relative_features]),-1))\n",
        "\n",
        "\n",
        "from collections import defaultdict\n",
        "mp = defaultdict(int)\n",
        "for pat in patterns:\n",
        "    mp[pat.dir]+=1\n",
        "mp"
      ]
    },
    {
      "cell_type": "code",
      "execution_count": 12,
      "metadata": {
        "id": "TZ1UrGrQdNEp"
      },
      "outputs": [],
      "source": [
        "# cluster all the patterns using agglomerative clustering\n",
        "from sklearn.cluster import AgglomerativeClustering\n",
        "\n"
      ]
    },
    {
      "cell_type": "code",
      "execution_count": 13,
      "metadata": {
        "id": "_QMFATj3dNEq"
      },
      "outputs": [],
      "source": [
        "from matplotlib import pyplot as plt\n",
        "from scipy.cluster.hierarchy import dendrogram\n",
        "\n",
        "from sklearn.cluster import AgglomerativeClustering\n",
        "\n",
        "\n",
        "def plot_dendrogram(model, **kwargs):\n",
        "    # Create linkage matrix and then plot the dendrogram\n",
        "\n",
        "    # create the counts of samples under each node\n",
        "    counts = np.zeros(model.children_.shape[0])\n",
        "    n_samples = len(model.labels_)\n",
        "    for i, merge in enumerate(model.children_):\n",
        "        current_count = 0\n",
        "        for child_idx in merge:\n",
        "            if child_idx < n_samples:\n",
        "                current_count += 1  # leaf node\n",
        "            else:\n",
        "                current_count += counts[child_idx - n_samples]\n",
        "        counts[i] = current_count\n",
        "\n",
        "    linkage_matrix = np.column_stack(\n",
        "        [model.children_, model.distances_, counts]\n",
        "    ).astype(float)\n",
        "    print(pd.DataFrame(linkage_matrix))\n",
        "\n",
        "    # Plot the corresponding dendrogram\n",
        "    dendrogram(linkage_matrix, **kwargs)\n",
        "\n",
        "\n",
        "cluster = AgglomerativeClustering(compute_full_tree=True, n_clusters=None, linkage='average', distance_threshold=0)\n",
        "model = cluster.fit(patterns)\n",
        "\n",
        "\n"
      ]
    },
    {
      "cell_type": "code",
      "execution_count": 14,
      "metadata": {
        "id": "4HgX-aIDdNEq"
      },
      "outputs": [],
      "source": [
        "# plt.figure(figsize=(24, 18))\n",
        "# plt.title(\"Hierarchical Clustering Dendrogram\")\n",
        "# # plot the top three levels of the dendrogram\n",
        "# plot_dendrogram(model, truncate_mode=\"level\", )\n",
        "# plt.xlabel(\"Number of points in node (or index of point if no parenthesis).\")\n",
        "# plt.show()"
      ]
    },
    {
      "cell_type": "code",
      "execution_count": 15,
      "metadata": {
        "id": "ocQT7SYydNEq"
      },
      "outputs": [],
      "source": [
        "import itertools\n",
        "ii = itertools.count(np.array(patterns).shape[0])\n",
        "tree = {next(ii) : {'left': x[0], 'right':x[1]} for x in model.children_}\n",
        "root = max(tree.keys())\n",
        "class Node:\n",
        "    def __init__(self, left, right,id):\n",
        "        self.children = []\n",
        "        self.left = left\n",
        "        self.right = right\n",
        "        self.id = id\n",
        "new_tree = {}\n",
        "def build_tree(node):\n",
        "    if node not in tree:\n",
        "        leaf = Node(None, None,node)\n",
        "        leaf.children = [patterns[node]]\n",
        "        return leaf\n",
        "    left = build_tree(tree[node]['left'])\n",
        "    right = build_tree(tree[node]['right'])\n",
        "    new_node = Node(left, right,node)\n",
        "    new_node.children = left.children + right.children\n",
        "    new_tree[node] = new_node\n",
        "    return new_node\n",
        "\n",
        "root_node = build_tree(root)\n"
      ]
    },
    {
      "cell_type": "code",
      "execution_count": 16,
      "metadata": {
        "id": "4Csu_a53dNEr"
      },
      "outputs": [],
      "source": [
        "def reliability(node):\n",
        "    ups = len([x for x in node.children if x.dir == 1])\n",
        "    down = len([x for x in node.children if x.dir == -1])\n",
        "    most = max(ups, down)\n",
        "    final_dir = \"up\" if ups == most else \"down\"\n",
        "\n",
        "    return most/len(node.children) ,final_dir"
      ]
    },
    {
      "cell_type": "code",
      "execution_count": 17,
      "metadata": {
        "id": "r7JcLlb0dNEr"
      },
      "outputs": [],
      "source": [
        "# plot the pattern discovered\n",
        "\n",
        "# plot_pattern is a function that takes and index i and stock_data and finally plots three candles from the index i\n",
        "def plot_pattern(i, stock_data, direction):\n",
        "    # plot the pattern discovered\n",
        "    df = stock_data.iloc[i:i+3]\n",
        "    plt.figure(figsize=(10/4,5/4))\n",
        "    mpf.plot(df, type='candle', style='yahoo', title=direction, ylabel='Price',\n",
        "         ylabel_lower='Volume', volume=True, figsize=(10/4,5/4))\n",
        "\n",
        "# plot_pattern(100, stock_data, 'bullish')"
      ]
    },
    {
      "cell_type": "code",
      "execution_count": 18,
      "metadata": {
        "id": "wQnRFw0TdNEr",
        "outputId": "3aac07c9-097c-4228-b1d4-4ddb7dc2ba7a"
      },
      "outputs": [
        {
          "name": "stdout",
          "output_type": "stream",
          "text": [
            "down 0 []\n",
            "up 8 [<__main__.Node object at 0x00000220C2521210>, <__main__.Node object at 0x00000220C2521290>, <__main__.Node object at 0x00000220C2521310>, <__main__.Node object at 0x00000220C2521390>, <__main__.Node object at 0x00000220C2521410>, <__main__.Node object at 0x00000220C2521910>, <__main__.Node object at 0x00000220C251E710>, <__main__.Node object at 0x00000220C251CB50>]\n"
          ]
        }
      ],
      "source": [
        "all_patterns = {\"up\" : [], \"down\": []}\n",
        "reliability_threshold = 0.75\n",
        "repeatability_threshold = 15\n",
        "def get_pattern(node):\n",
        "    if node is None :\n",
        "        return 0 ,0 , \"\"\n",
        "    rel , dir = reliability(node)\n",
        "    combine = 0\n",
        "    rel_r , combine_r, dir_r = get_pattern(node.right)\n",
        "    combine += combine_r\n",
        "    if combine_r == 0 and (rel_r > reliability_threshold and len(node.right.children) >= repeatability_threshold) :\n",
        "\n",
        "        all_patterns[dir_r].append(node.right)\n",
        "    rel_l , combine_l, dir_l = get_pattern(node.left)\n",
        "    combine += combine_l\n",
        "    if combine_l == 0 and (rel_l > reliability_threshold and len(node.left.children) >= repeatability_threshold) :\n",
        "\n",
        "        all_patterns[dir_l].append(node.left)\n",
        "    return rel, combine, dir\n",
        "\n",
        "get_pattern(root_node)\n",
        "print(\"down\",len(all_patterns[\"down\"]),all_patterns[\"down\"])\n",
        "print(\"up\",len(all_patterns[\"up\"]),all_patterns[\"up\"])\n",
        "\n"
      ]
    },
    {
      "cell_type": "code",
      "execution_count": 19,
      "metadata": {
        "id": "S765o9oxdNEs"
      },
      "outputs": [
        {
          "name": "stdout",
          "output_type": "stream",
          "text": [
            "pattern 0 with children 21\n",
            "[1.02551735 0.99811245 0.98111049 1.02068652 0.99453411 0.97878198\n",
            " 1.01529596 0.99130758 0.97803069 0.02970693 0.02649746 0.0238115\n",
            " 0.0253533  0.02398434 0.02278342]\n",
            "pattern 1 with children 27\n",
            "[1.02295743 0.9978187  0.9814184  1.01827292 0.99423118 0.97830197\n",
            " 1.01974742 0.99651644 0.98105173 0.02821915 0.02550906 0.02688187\n",
            " 0.02486705 0.02432416 0.02469295]\n",
            "pattern 2 with children 37\n",
            "[1.01901019 0.99278428 0.97671343 1.02023639 0.99698672 0.98108295\n",
            " 1.01719773 0.99554757 0.9789363  0.02888106 0.02732188 0.02680878\n",
            " 0.02739523 0.02510953 0.02652126]\n",
            "pattern 3 with children 39\n",
            "[1.02047972 0.99297468 0.97683649 1.02183788 0.99733182 0.98157135\n",
            " 1.01732893 0.99577152 0.97915417 0.0294204  0.02768138 0.02669012\n",
            " 0.0272153  0.02458574 0.02633695]\n",
            "pattern 4 with children 45\n",
            "[1.02004954 0.99345725 0.97811241 1.0244418  1.00025286 0.9820999\n",
            " 1.01741357 0.99311024 0.9768319  0.02910834 0.02890008 0.02788971\n",
            " 0.02671271 0.02569627 0.02732125]\n",
            "pattern 5 with children 50\n",
            "[1.02425963 0.99666986 0.9795496  1.02394256 0.99952839 0.98144539\n",
            " 1.01914232 0.99422329 0.97757995 0.02979769 0.02973346 0.02855905\n",
            " 0.0261743  0.02675025 0.0272974 ]\n",
            "pattern 6 with children 19\n",
            "[1.0508572  1.02971921 0.98011956 1.01840496 0.96962082 0.9525256\n",
            " 1.01463    0.98024456 0.96392853 0.05252802 0.06034045 0.03404734\n",
            " 0.05196056 0.05961983 0.03492897]\n",
            "pattern 7 with children 17\n",
            "[1.01463278 0.98257367 0.9682312  1.07497045 1.0460458  0.98411156\n",
            " 1.02720709 0.98987825 0.97226656 0.0289124  0.05586724 0.07563224\n",
            " 0.02876459 0.04918954 0.07047218]\n"
          ]
        }
      ],
      "source": [
        "for key, val in all_patterns.items():\n",
        "    for i,node in enumerate(val):\n",
        "        print(f\"pattern {i} with children {len(node.children)}\")\n",
        "        start = node.children[0].pattern\n",
        "        for x in range(1,len(node.children)):\n",
        "            start = np.add(start,node.children[x].pattern)\n",
        "        print(start/len(node.children))\n",
        "        # for child in node.children:\n",
        "        #     plot_pattern(child.i,stock_data,str(child.dir)+\" \"+key)"
      ]
    },
    {
      "cell_type": "code",
      "execution_count": 20,
      "metadata": {
        "id": "odsKEVO3dNEs"
      },
      "outputs": [],
      "source": [
        "# calculate mean vector from list of pattern vector\n",
        "def mean_vector(vectors):\n",
        "    return np.sum(vectors, axis=0) / len(vectors)"
      ]
    },
    {
      "cell_type": "code",
      "execution_count": 21,
      "metadata": {
        "id": "v7kQoYRjdNEs"
      },
      "outputs": [],
      "source": [
        "def distance(a, b):\n",
        "    a_min_b = a - b\n",
        "    return np.sqrt(np.sum(a_min_b ** 2))"
      ]
    },
    {
      "cell_type": "code",
      "execution_count": 48,
      "metadata": {
        "id": "9d05JzY_dNEs",
        "outputId": "2b230b34-4838-4c4d-8200-a553c1b6b962"
      },
      "outputs": [
        {
          "name": "stdout",
          "output_type": "stream",
          "text": [
            "______________=================== pattern 0 with children 21 ================_______________\n",
            "______________=================== pattern 1 with children 27 ================_______________\n",
            "______________=================== pattern 2 with children 37 ================_______________\n",
            "______________=================== pattern 3 with children 39 ================_______________\n",
            "______________=================== pattern 4 with children 45 ================_______________\n",
            "______________=================== pattern 5 with children 50 ================_______________\n",
            "______________=================== pattern 6 with children 19 ================_______________\n",
            "______________=================== pattern 7 with children 17 ================_______________\n"
          ]
        }
      ],
      "source": [
        "mean_pat = {\"up\" : [], \"down\" : []}\n",
        "for key, val in all_patterns.items():\n",
        "    for i,node in enumerate(val):\n",
        "        trend = 1 if key == \"up\" else -1\n",
        "        pat = {}\n",
        "        # mean_vec = mean_vector(node.children)\n",
        "        \n",
        "        print(f\"______________=================== pattern {i} with children {len(node.children)} ================_______________\")\n",
        "        mean_vec = np.mean([stockPat for stockPat in node.children if stockPat.dir == trend], axis=0)\n",
        "        pat[\"mean_vec\"]=mean_vec\n",
        "        distances = np.array([distance(vec.pattern, mean_vec) for vec in node.children])\n",
        "        std = np.std(distances)\n",
        "        mean = np.mean(distances)\n",
        "        pat[\"std\"]=std\n",
        "        pat[\"mean\"]=mean\n",
        "        pat[\"threshold\"]=mean+std\n",
        "        pat[\"total\"] = 0\n",
        "        pat[\"success\"] = 0\n",
        "        mean_pat[key].append(pat)\n",
        "        # for vec in node.children:\n",
        "\n",
        "        #     if distace(vec.pattern, mean_vec) > mean+std:\n",
        "        #         print(distace(vec.pattern, mean_vec))\n",
        "        #         plot_pattern(vec.i,stock_data,str(vec.dir)+\" \"+key)\n"
      ]
    },
    {
      "cell_type": "code",
      "execution_count": 27,
      "metadata": {
        "id": "aQ380wbZdNEt"
      },
      "outputs": [],
      "source": [
        "# patt_index = {}\n",
        "\n",
        "patterns = []\n",
        "threshold = 0.01\n",
        "for i in range(len(stock_data)-6):\n",
        "\n",
        "    cs_t_2 = getRelativeValues(i,stock_data)\n",
        "    cs_t_1 = getRelativeValues(i+1,stock_data)\n",
        "    cs_t = getRelativeValues(i+2,stock_data)\n",
        "    relative_features = calculateMidpoints(i,i+1,i+2,stock_data)\n",
        "    # check if any pattern is found. A pattern is found if the distance between the pattern is less than the mean pattern and its standard deviation.\n",
        "    test_vec = np.array([*cs_t_2,*cs_t_1,*cs_t,*relative_features])\n",
        "    # test_vec = np.array([*relative_features])\n",
        "\n",
        "    for key in  mean_pat.keys():\n",
        "        for pat in mean_pat[key]:\n",
        "            if distance(pat[\"mean_vec\"],test_vec) < pat[\"mean\"] + pat[\"std\"] *1.125:\n",
        "                pat[\"total\"]+=1\n",
        "                # check if the market went up or down\n",
        "                up = False\n",
        "                down = False\n",
        "                for j in range(i+3, i+4):\n",
        "                    if stock_data.iloc[j]['High'] >= stock_data.iloc[i+2]['Close'] * (1+threshold):\n",
        "                        up=True\n",
        "                        break\n",
        "                    elif stock_data.iloc[j]['Low']<= stock_data.iloc[i+2]['Close'] * (1-threshold):\n",
        "                        down = True\n",
        "                        break\n",
        "                if (up and key == \"up\") or (down and key == \"down\") :\n",
        "                    pat[\"success\"]+=1\n",
        "                    break\n",
        "\n"
      ]
    },
    {
      "cell_type": "code",
      "execution_count": 28,
      "metadata": {
        "id": "c_dUzYx0dNEt",
        "outputId": "f646e256-02a5-497f-936c-f11b31491334"
      },
      "outputs": [
        {
          "data": {
            "text/plain": [
              "{'up': [{'mean_vec': array([1.02637401, 0.99789137, 0.98057794, 1.02205528, 0.99488844,\n",
              "          0.98030055, 1.01528627, 0.9901182 , 0.97828252, 0.02965372,\n",
              "          0.02690838, 0.02393262, 0.02502588, 0.02309268, 0.02216258]),\n",
              "   'std': 0.007352616132989003,\n",
              "   'mean': 0.03345912727983253,\n",
              "   'threshold': 0.04081174341282153,\n",
              "   'total': 28,\n",
              "   'success': 25},\n",
              "  {'mean_vec': array([1.02382382, 0.99762059, 0.98081024, 1.0193582 , 0.99436141,\n",
              "          0.97945139, 1.01848188, 0.99539433, 0.98110673, 0.02853274,\n",
              "          0.02607825, 0.02651303, 0.02495093, 0.02381252, 0.02435763]),\n",
              "   'std': 0.008468315506225522,\n",
              "   'mean': 0.035734238880208255,\n",
              "   'threshold': 0.04420255438643378,\n",
              "   'total': 13,\n",
              "   'success': 10},\n",
              "  {'mean_vec': array([1.01959659, 0.99331803, 0.97693276, 1.02058041, 0.99695121,\n",
              "          0.98196518, 1.01681584, 0.99543907, 0.97944647, 0.02838599,\n",
              "          0.02739909, 0.02687035, 0.02677174, 0.02453877, 0.02645398]),\n",
              "   'std': 0.008604083113471018,\n",
              "   'mean': 0.03839702829491077,\n",
              "   'threshold': 0.047001111408381785,\n",
              "   'total': 13,\n",
              "   'success': 9},\n",
              "  {'mean_vec': array([1.02135092, 0.99351672, 0.97706903, 1.02251072, 0.99737402,\n",
              "          0.98250528, 1.01699961, 0.99571879, 0.97968011, 0.02907425,\n",
              "          0.0278324 , 0.0267219 , 0.02659143, 0.02393607, 0.02623356]),\n",
              "   'std': 0.00885478409187862,\n",
              "   'mean': 0.03907557867114543,\n",
              "   'threshold': 0.04793036276302405,\n",
              "   'total': 5,\n",
              "   'success': 0},\n",
              "  {'mean_vec': array([1.0206006 , 0.9938648 , 0.97757723, 1.02455115, 0.99922025,\n",
              "          0.98255631, 1.01726542, 0.99429972, 0.97886767, 0.02825794,\n",
              "          0.02882276, 0.02757125, 0.02607498, 0.02480462, 0.0266271 ]),\n",
              "   'std': 0.010092402941118506,\n",
              "   'mean': 0.040874436879668526,\n",
              "   'threshold': 0.050966839820787035,\n",
              "   'total': 10,\n",
              "   'success': 5},\n",
              "  {'mean_vec': array([1.02396852, 0.99660168, 0.97896394, 1.02395558, 0.99893936,\n",
              "          0.98192845, 1.01843766, 0.9949504 , 0.97929769, 0.02873579,\n",
              "          0.02950465, 0.0282203 , 0.02553552, 0.02597489, 0.02678844]),\n",
              "   'std': 0.013108299613204056,\n",
              "   'mean': 0.043713151533463154,\n",
              "   'threshold': 0.05682145114666721,\n",
              "   'total': 12,\n",
              "   'success': 6},\n",
              "  {'mean_vec': array([1.05024971, 1.02948079, 0.98215306, 1.02013778, 0.97046001,\n",
              "          0.95363009, 1.01568215, 0.98185641, 0.96582344, 0.05093795,\n",
              "          0.05937385, 0.03457222, 0.0495113 , 0.05755546, 0.03475554]),\n",
              "   'std': 0.013494938599682123,\n",
              "   'mean': 0.05951840001571326,\n",
              "   'threshold': 0.07301333861539538,\n",
              "   'total': 31,\n",
              "   'success': 29},\n",
              "  {'mean_vec': array([1.0159371 , 0.98342991, 0.96837974, 1.07514115, 1.04341362,\n",
              "          0.98355877, 1.02716305, 0.98914951, 0.97085034, 0.02865079,\n",
              "          0.05775808, 0.0774132 , 0.02819374, 0.04991188, 0.07261972]),\n",
              "   'std': 0.012279218205171569,\n",
              "   'mean': 0.06011256266585123,\n",
              "   'threshold': 0.0723917808710228,\n",
              "   'total': 19,\n",
              "   'success': 16}],\n",
              " 'down': []}"
            ]
          },
          "execution_count": 28,
          "metadata": {},
          "output_type": "execute_result"
        }
      ],
      "source": [
        "mean_pat"
      ]
    },
    {
      "cell_type": "code",
      "execution_count": 49,
      "metadata": {
        "id": "xY8tYwS_dNEt"
      },
      "outputs": [],
      "source": [
        "\n",
        "for i in range(len(stock_data)-6):\n",
        "    \n",
        "    cs_t_2 = getRelativeValues(i,stock_data)\n",
        "    cs_t_1 = getRelativeValues(i+1,stock_data)\n",
        "    cs_t = getRelativeValues(i+2,stock_data)\n",
        "    relative_features = calculateMidpoints(i,i+1,i+2,stock_data)\n",
        "    # check if any pattern is found. A pattern is found if the distance between the pattern is less than the mean pattern and its standard deviation.\n",
        "    test_vec = np.array([*cs_t_2,*cs_t_1,*cs_t,*relative_features])\n",
        "    # test_vec = np.array([*relative_features])\n",
        "    # test_vec = get_candle_vector(i,3,stock_data)\n",
        "    \n",
        "    for key in  mean_pat.keys():\n",
        "        \n",
        "        for x,pat in enumerate(mean_pat[key]):\n",
        "            if \"unSuccess\" not in pat : pat[\"unSuccess\"] = 0\n",
        "            if distance(pat[\"mean_vec\"],test_vec) < pat[\"mean\"] + pat[\"std\"] *1.5:\n",
        "                pat[\"total\"]+=1\n",
        "                # check if the market went up or down\n",
        "                up = False\n",
        "                down = False\n",
        "                threshold = stock_data.iloc[i+2]['pct_change']\n",
        "                checkForUpTrend = True\n",
        "                checkForDownTrend = True\n",
        "                # if x==2 :\n",
        "                #     plot_pattern(i,stock_data,key)\n",
        "                # check if any of the value of high in the range i+3 to i+6 is 3% greater than i+2 close #value\n",
        "                if key ==\"up\":\n",
        "                    for j in range(i+3, len(stock_data)):\n",
        "                            lowerbound = stock_data.iloc[i+2]['Low'] - (threshold *2)\n",
        "                            bottom_gap = stock_data.iloc[i+3]['Open'] - lowerbound\n",
        "                            upperbound = stock_data.iloc[i+3]['Open'] + (bottom_gap * 1.5)\n",
        "                            if checkForUpTrend and stock_data.iloc[j]['Low'] <= lowerbound:\n",
        "                                checkForUpTrend = False\n",
        "                                pat[\"unSuccess\"]+=1\n",
        "                                break\n",
        "                            elif checkForUpTrend and  stock_data.iloc[j]['High'] >= upperbound:\n",
        "                                up=True\n",
        "                                checkForUpTrend = False\n",
        "                                pat[\"success\"]+=1\n",
        "                                break\n",
        "                else:\n",
        "                    for j in range(i+3, len(stock_data)):\n",
        "                            upperbound = stock_data.iloc[i+2]['High'] + threshold\n",
        "                            top_gap = upperbound - stock_data.iloc[i+3]['Open']\n",
        "                            lowerbound = stock_data.iloc[i+3]['Open'] - (top_gap * 1.5)\n",
        "                            if  checkForDownTrend and stock_data.iloc[j]['High'] >= upperbound:\n",
        "                                checkForDownTrend = False\n",
        "                                pat[\"unSuccess\"]+=1\n",
        "                                break\n",
        "                            elif checkForDownTrend and stock_data.iloc[j]['Low'] <= lowerbound:\n",
        "                                down = True\n",
        "                                pat[\"success\"]+=1\n",
        "                                \n",
        "                                break\n",
        "                    \n",
        "                \n"
      ]
    },
    {
      "cell_type": "code",
      "execution_count": 50,
      "metadata": {
        "id": "R1EQrg9YdNEt"
      },
      "outputs": [
        {
          "data": {
            "text/plain": [
              "{'up': [{'mean_vec': array([1.02637401, 0.99789137, 0.98057794, 1.02205528, 0.99488844,\n",
              "          0.98030055, 1.01528627, 0.9901182 , 0.97828252, 0.02965372,\n",
              "          0.02690838, 0.02393262, 0.02502588, 0.02309268, 0.02216258]),\n",
              "   'std': 0.007352616132989003,\n",
              "   'mean': 0.03345912727983253,\n",
              "   'threshold': 0.04081174341282153,\n",
              "   'total': 36,\n",
              "   'success': 11,\n",
              "   'unSuccess': 25},\n",
              "  {'mean_vec': array([1.02382382, 0.99762059, 0.98081024, 1.0193582 , 0.99436141,\n",
              "          0.97945139, 1.01848188, 0.99539433, 0.98110673, 0.02853274,\n",
              "          0.02607825, 0.02651303, 0.02495093, 0.02381252, 0.02435763]),\n",
              "   'std': 0.008468315506225522,\n",
              "   'mean': 0.035734238880208255,\n",
              "   'threshold': 0.04420255438643378,\n",
              "   'total': 44,\n",
              "   'success': 13,\n",
              "   'unSuccess': 31},\n",
              "  {'mean_vec': array([1.01959659, 0.99331803, 0.97693276, 1.02058041, 0.99695121,\n",
              "          0.98196518, 1.01681584, 0.99543907, 0.97944647, 0.02838599,\n",
              "          0.02739909, 0.02687035, 0.02677174, 0.02453877, 0.02645398]),\n",
              "   'std': 0.008604083113471018,\n",
              "   'mean': 0.03839702829491077,\n",
              "   'threshold': 0.047001111408381785,\n",
              "   'total': 52,\n",
              "   'success': 14,\n",
              "   'unSuccess': 38},\n",
              "  {'mean_vec': array([1.02135092, 0.99351672, 0.97706903, 1.02251072, 0.99737402,\n",
              "          0.98250528, 1.01699961, 0.99571879, 0.97968011, 0.02907425,\n",
              "          0.0278324 , 0.0267219 , 0.02659143, 0.02393607, 0.02623356]),\n",
              "   'std': 0.00885478409187862,\n",
              "   'mean': 0.03907557867114543,\n",
              "   'threshold': 0.04793036276302405,\n",
              "   'total': 53,\n",
              "   'success': 14,\n",
              "   'unSuccess': 39},\n",
              "  {'mean_vec': array([1.0206006 , 0.9938648 , 0.97757723, 1.02455115, 0.99922025,\n",
              "          0.98255631, 1.01726542, 0.99429972, 0.97886767, 0.02825794,\n",
              "          0.02882276, 0.02757125, 0.02607498, 0.02480462, 0.0266271 ]),\n",
              "   'std': 0.010092402941118506,\n",
              "   'mean': 0.040874436879668526,\n",
              "   'threshold': 0.050966839820787035,\n",
              "   'total': 58,\n",
              "   'success': 15,\n",
              "   'unSuccess': 43},\n",
              "  {'mean_vec': array([1.02396852, 0.99660168, 0.97896394, 1.02395558, 0.99893936,\n",
              "          0.98192845, 1.01843766, 0.9949504 , 0.97929769, 0.02873579,\n",
              "          0.02950465, 0.0282203 , 0.02553552, 0.02597489, 0.02678844]),\n",
              "   'std': 0.013108299613204056,\n",
              "   'mean': 0.043713151533463154,\n",
              "   'threshold': 0.05682145114666721,\n",
              "   'total': 73,\n",
              "   'success': 15,\n",
              "   'unSuccess': 58},\n",
              "  {'mean_vec': array([1.05024971, 1.02948079, 0.98215306, 1.02013778, 0.97046001,\n",
              "          0.95363009, 1.01568215, 0.98185641, 0.96582344, 0.05093795,\n",
              "          0.05937385, 0.03457222, 0.0495113 , 0.05755546, 0.03475554]),\n",
              "   'std': 0.013494938599682123,\n",
              "   'mean': 0.05951840001571326,\n",
              "   'threshold': 0.07301333861539538,\n",
              "   'total': 46,\n",
              "   'success': 12,\n",
              "   'unSuccess': 34},\n",
              "  {'mean_vec': array([1.0159371 , 0.98342991, 0.96837974, 1.07514115, 1.04341362,\n",
              "          0.98355877, 1.02716305, 0.98914951, 0.97085034, 0.02865079,\n",
              "          0.05775808, 0.0774132 , 0.02819374, 0.04991188, 0.07261972]),\n",
              "   'std': 0.012279218205171569,\n",
              "   'mean': 0.06011256266585123,\n",
              "   'threshold': 0.0723917808710228,\n",
              "   'total': 22,\n",
              "   'success': 8,\n",
              "   'unSuccess': 14}],\n",
              " 'down': []}"
            ]
          },
          "execution_count": 50,
          "metadata": {},
          "output_type": "execute_result"
        }
      ],
      "source": [
        "mean_pat"
      ]
    },
    {
      "cell_type": "code",
      "execution_count": null,
      "metadata": {
        "id": "hOv_ExeddNEt"
      },
      "outputs": [],
      "source": []
    }
  ],
  "metadata": {
    "colab": {
      "provenance": []
    },
    "kernelspec": {
      "display_name": "stock-analyzer",
      "language": "python",
      "name": "python3"
    },
    "language_info": {
      "codemirror_mode": {
        "name": "ipython",
        "version": 3
      },
      "file_extension": ".py",
      "mimetype": "text/x-python",
      "name": "python",
      "nbconvert_exporter": "python",
      "pygments_lexer": "ipython3",
      "version": "3.11.2"
    }
  },
  "nbformat": 4,
  "nbformat_minor": 0
}
