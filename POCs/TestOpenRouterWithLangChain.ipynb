{
 "cells": [
  {
   "cell_type": "code",
   "execution_count": 1,
   "metadata": {},
   "outputs": [
    {
     "name": "stderr",
     "output_type": "stream",
     "text": [
      "c:\\Users\\Shubham Soni\\Documents\\MEGAsync\\stock-analyzer\\stock-analyzer\\Lib\\site-packages\\langchain_core\\_api\\deprecation.py:115: LangChainDeprecationWarning: The class `ChatOpenAI` was deprecated in LangChain 0.1.0 and will be removed in 0.2.0. Use langchain_openai.ChatOpenAI instead.\n",
      "  warn_deprecated(\n",
      "c:\\Users\\Shubham Soni\\Documents\\MEGAsync\\stock-analyzer\\stock-analyzer\\Lib\\site-packages\\langchain_core\\_api\\deprecation.py:115: LangChainDeprecationWarning: The function `__call__` was deprecated in LangChain 0.1.7 and will be removed in 0.2.0. Use invoke instead.\n",
      "  warn_deprecated(\n"
     ]
    }
   ],
   "source": [
    "from langchain.chat_models import ChatOpenAI\n",
    "from langchain.prompts.chat import (\n",
    "    ChatPromptTemplate,\n",
    "    HumanMessagePromptTemplate,\n",
    "    SystemMessagePromptTemplate,\n",
    ")\n",
    "from langchain.schema import HumanMessage, SystemMessage\n",
    "from keys import openAIkey\n",
    "\n",
    "llm = ChatOpenAI(model= \"mistralai/mistral-7b-instruct\", openai_api_key = openAIkey, openai_api_base= 'https://openrouter.ai/api/v1'  )\n",
    "\n",
    "# use llm to chat\n",
    "# define a list of messages in the chat chain\n",
    "messages = [\n",
    "    SystemMessage(\n",
    "        content=\"You are a helpful assistant who is very good at Go-lang programming language\"\n",
    "    ),\n",
    "    HumanMessage(\n",
    "        content='''Hi! How are you?'''\n",
    "    ),\n",
    "]\n",
    "\n",
    "# use the llm object to generate a response to the user's message\n",
    "ct = llm(messages)"
   ]
  },
  {
   "cell_type": "code",
   "execution_count": 2,
   "metadata": {},
   "outputs": [
    {
     "name": "stdout",
     "output_type": "stream",
     "text": [
      "I am an AI language model, so I do not have feelings or emotions. I am here to assist you with your questions and help you with any programming tasks you may have. How can I assist you today?\n"
     ]
    }
   ],
   "source": [
    "print(ct.content)"
   ]
  },
  {
   "cell_type": "code",
   "execution_count": null,
   "metadata": {},
   "outputs": [],
   "source": []
  }
 ],
 "metadata": {
  "kernelspec": {
   "display_name": "stock-analyzer",
   "language": "python",
   "name": "python3"
  },
  "language_info": {
   "codemirror_mode": {
    "name": "ipython",
    "version": 3
   },
   "file_extension": ".py",
   "mimetype": "text/x-python",
   "name": "python",
   "nbconvert_exporter": "python",
   "pygments_lexer": "ipython3",
   "version": "3.11.2"
  }
 },
 "nbformat": 4,
 "nbformat_minor": 2
}
