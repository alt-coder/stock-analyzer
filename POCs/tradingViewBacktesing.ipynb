{
 "cells": [
  {
   "cell_type": "code",
   "execution_count": 1,
   "metadata": {},
   "outputs": [
    {
     "name": "stdout",
     "output_type": "stream",
     "text": [
      "Collecting selenium\n",
      "  Downloading selenium-4.17.2-py3-none-any.whl.metadata (6.9 kB)\n",
      "Collecting webdriver-manager\n",
      "  Downloading webdriver_manager-4.0.1-py2.py3-none-any.whl.metadata (12 kB)\n",
      "Requirement already satisfied: urllib3<3,>=1.26 in c:\\users\\shubham\\documents\\stock-analyzer\\stock-analyzer\\.venv\\lib\\site-packages (from urllib3[socks]<3,>=1.26->selenium) (1.26.18)\n",
      "Collecting trio~=0.17 (from selenium)\n",
      "  Downloading trio-0.24.0-py3-none-any.whl.metadata (4.9 kB)\n",
      "Collecting trio-websocket~=0.9 (from selenium)\n",
      "  Downloading trio_websocket-0.11.1-py3-none-any.whl.metadata (4.7 kB)\n",
      "Requirement already satisfied: certifi>=2021.10.8 in c:\\users\\shubham\\documents\\stock-analyzer\\stock-analyzer\\.venv\\lib\\site-packages (from selenium) (2023.11.17)\n",
      "Requirement already satisfied: typing_extensions>=4.9.0 in c:\\users\\shubham\\documents\\stock-analyzer\\stock-analyzer\\.venv\\lib\\site-packages (from selenium) (4.9.0)\n",
      "Requirement already satisfied: requests in c:\\users\\shubham\\documents\\stock-analyzer\\stock-analyzer\\.venv\\lib\\site-packages (from webdriver-manager) (2.31.0)\n",
      "Requirement already satisfied: python-dotenv in c:\\users\\shubham\\documents\\stock-analyzer\\stock-analyzer\\.venv\\lib\\site-packages (from webdriver-manager) (1.0.1)\n",
      "Requirement already satisfied: packaging in c:\\users\\shubham\\documents\\stock-analyzer\\stock-analyzer\\.venv\\lib\\site-packages (from webdriver-manager) (23.2)\n",
      "Requirement already satisfied: attrs>=20.1.0 in c:\\users\\shubham\\documents\\stock-analyzer\\stock-analyzer\\.venv\\lib\\site-packages (from trio~=0.17->selenium) (23.2.0)\n",
      "Collecting sortedcontainers (from trio~=0.17->selenium)\n",
      "  Downloading sortedcontainers-2.4.0-py2.py3-none-any.whl (29 kB)\n",
      "Requirement already satisfied: idna in c:\\users\\shubham\\documents\\stock-analyzer\\stock-analyzer\\.venv\\lib\\site-packages (from trio~=0.17->selenium) (3.6)\n",
      "Collecting outcome (from trio~=0.17->selenium)\n",
      "  Downloading outcome-1.3.0.post0-py2.py3-none-any.whl.metadata (2.6 kB)\n",
      "Collecting sniffio>=1.3.0 (from trio~=0.17->selenium)\n",
      "  Downloading sniffio-1.3.0-py3-none-any.whl (10 kB)\n",
      "Requirement already satisfied: cffi>=1.14 in c:\\users\\shubham\\documents\\stock-analyzer\\stock-analyzer\\.venv\\lib\\site-packages (from trio~=0.17->selenium) (1.16.0)\n",
      "Requirement already satisfied: exceptiongroup in c:\\users\\shubham\\documents\\stock-analyzer\\stock-analyzer\\.venv\\lib\\site-packages (from trio~=0.17->selenium) (1.2.0)\n",
      "Requirement already satisfied: wsproto>=0.14 in c:\\users\\shubham\\documents\\stock-analyzer\\stock-analyzer\\.venv\\lib\\site-packages (from trio-websocket~=0.9->selenium) (1.2.0)\n",
      "Collecting PySocks!=1.5.7,<2.0,>=1.5.6 (from urllib3[socks]<3,>=1.26->selenium)\n",
      "  Downloading PySocks-1.7.1-py3-none-any.whl (16 kB)\n",
      "Requirement already satisfied: charset-normalizer<4,>=2 in c:\\users\\shubham\\documents\\stock-analyzer\\stock-analyzer\\.venv\\lib\\site-packages (from requests->webdriver-manager) (3.3.2)\n",
      "Requirement already satisfied: pycparser in c:\\users\\shubham\\documents\\stock-analyzer\\stock-analyzer\\.venv\\lib\\site-packages (from cffi>=1.14->trio~=0.17->selenium) (2.21)\n",
      "Requirement already satisfied: h11<1,>=0.9.0 in c:\\users\\shubham\\documents\\stock-analyzer\\stock-analyzer\\.venv\\lib\\site-packages (from wsproto>=0.14->trio-websocket~=0.9->selenium) (0.14.0)\n",
      "Downloading selenium-4.17.2-py3-none-any.whl (9.9 MB)\n",
      "   ---------------------------------------- 0.0/9.9 MB ? eta -:--:--\n",
      "    --------------------------------------- 0.2/9.9 MB 6.3 MB/s eta 0:00:02\n",
      "   -- ------------------------------------- 0.6/9.9 MB 7.6 MB/s eta 0:00:02\n",
      "   --- ------------------------------------ 0.7/9.9 MB 6.8 MB/s eta 0:00:02\n",
      "   ----- ---------------------------------- 1.5/9.9 MB 7.7 MB/s eta 0:00:02\n",
      "   ------- -------------------------------- 1.9/9.9 MB 8.2 MB/s eta 0:00:01\n",
      "   -------- ------------------------------- 2.1/9.9 MB 7.3 MB/s eta 0:00:02\n",
      "   ----------- ---------------------------- 2.8/9.9 MB 8.6 MB/s eta 0:00:01\n",
      "   ------------- -------------------------- 3.3/9.9 MB 8.4 MB/s eta 0:00:01\n",
      "   -------------- ------------------------- 3.6/9.9 MB 8.2 MB/s eta 0:00:01\n",
      "   ---------------- ----------------------- 4.2/9.9 MB 8.6 MB/s eta 0:00:01\n",
      "   ------------------ --------------------- 4.7/9.9 MB 8.8 MB/s eta 0:00:01\n",
      "   -------------------- ------------------- 5.0/9.9 MB 8.8 MB/s eta 0:00:01\n",
      "   ---------------------- ----------------- 5.5/9.9 MB 9.0 MB/s eta 0:00:01\n",
      "   ----------------------- ---------------- 5.9/9.9 MB 8.9 MB/s eta 0:00:01\n",
      "   ------------------------- -------------- 6.2/9.9 MB 9.1 MB/s eta 0:00:01\n",
      "   --------------------------- ------------ 6.7/9.9 MB 9.0 MB/s eta 0:00:01\n",
      "   ----------------------------- ---------- 7.2/9.9 MB 9.2 MB/s eta 0:00:01\n",
      "   ------------------------------ --------- 7.6/9.9 MB 9.1 MB/s eta 0:00:01\n",
      "   -------------------------------- ------- 8.0/9.9 MB 9.0 MB/s eta 0:00:01\n",
      "   ---------------------------------- ----- 8.5/9.9 MB 9.0 MB/s eta 0:00:01\n",
      "   ----------------------------------- ---- 8.9/9.9 MB 9.2 MB/s eta 0:00:01\n",
      "   ------------------------------------- -- 9.3/9.9 MB 9.1 MB/s eta 0:00:01\n",
      "   -------------------------------------- - 9.6/9.9 MB 9.1 MB/s eta 0:00:01\n",
      "   ---------------------------------------  9.9/9.9 MB 8.9 MB/s eta 0:00:01\n",
      "   ---------------------------------------  9.9/9.9 MB 8.9 MB/s eta 0:00:01\n",
      "   ---------------------------------------- 9.9/9.9 MB 8.3 MB/s eta 0:00:00\n",
      "Downloading webdriver_manager-4.0.1-py2.py3-none-any.whl (27 kB)\n",
      "Downloading trio-0.24.0-py3-none-any.whl (460 kB)\n",
      "   ---------------------------------------- 0.0/460.2 kB ? eta -:--:--\n",
      "   ------------------------ --------------- 286.7/460.2 kB 8.9 MB/s eta 0:00:01\n",
      "   ---------------------------------------- 460.2/460.2 kB 7.3 MB/s eta 0:00:00\n",
      "Downloading trio_websocket-0.11.1-py3-none-any.whl (17 kB)\n",
      "Downloading outcome-1.3.0.post0-py2.py3-none-any.whl (10 kB)\n",
      "Installing collected packages: sortedcontainers, sniffio, PySocks, outcome, webdriver-manager, trio, trio-websocket, selenium\n",
      "Successfully installed PySocks-1.7.1 outcome-1.3.0.post0 selenium-4.17.2 sniffio-1.3.0 sortedcontainers-2.4.0 trio-0.24.0 trio-websocket-0.11.1 webdriver-manager-4.0.1\n",
      "Note: you may need to restart the kernel to use updated packages.\n"
     ]
    }
   ],
   "source": [
    "%pip install selenium webdriver-manager"
   ]
  },
  {
   "cell_type": "code",
   "execution_count": 15,
   "metadata": {},
   "outputs": [],
   "source": [
    "# selenium 4\n",
    "from selenium import webdriver\n",
    "from selenium.webdriver.chrome.service import Service as ChromeService\n",
    "from webdriver_manager.chrome import ChromeDriverManager\n",
    "\n",
    "driver = webdriver.Chrome(service=ChromeService(ChromeDriverManager().install()))"
   ]
  },
  {
   "cell_type": "code",
   "execution_count": 2,
   "metadata": {},
   "outputs": [],
   "source": [
    "stt='ADANIENT,ADANIPORTS,APOLLOHOSP,ASIANPAINT,AXISBANK,BAJAJFINSV,BAJFINANCE,BHARTIARTL,BPCL,BRITANNIA,CIPLA,COALINDIA,DIVISLAB,DRREDDY,EICHERMOT,GRASIM,HCLTECH,HDFCBANK,HDFCLIFE,HEROMOTOCO,HINDALCO,HINDUNILVR,ICICIBANK,INDUSINDBK,INFY,ITC,JSWSTEEL,KOTAKBANK,LT,LTIM,MARUTI,NESTLEIND,NTPC,ONGC,POWERGRID,RELIANCE,SBILIFE,SBIN,SUNPHARMA,TATACONSUM,TATAMOTORS,TATASTEEL,TCS,TECHM,TITAN,ULTRACEMCO,UPL,WIPRO'\n",
    "stocks = stt.split(',')"
   ]
  },
  {
   "cell_type": "code",
   "execution_count": 13,
   "metadata": {},
   "outputs": [
    {
     "name": "stdout",
     "output_type": "stream",
     "text": [
      "ADANIENT,ADANIPORTS,APOLLOHOSP,ASIANPAINT,AXISBANK,BAJAJFINSV,BAJFINANCE,BHARTIARTL,BPCL,BRITANNIA,CIPLA,COALINDIA,DIVISLAB,DRREDDY,EICHERMOT,GRASIM,HCLTECH,HDFCBANK,HDFCLIFE,HEROMOTOCO,HINDALCO,HINDUNILVR,ICICIBANK,INDUSINDBK,INFY,ITC,JSWSTEEL,KOTAKBANK,LT,LTIM,MARUTI,NESTLEIND,NTPC,ONGC,POWERGRID,RELIANCE,SBILIFE,SBIN,SUNPHARMA,TATACONSUM,TATAMOTORS,TATASTEEL,TCS,TECHM,TITAN,ULTRACEMCO,UPL,WIPRO\n"
     ]
    }
   ],
   "source": [
    "import re\n",
    "stocks = [st.replace('NSE:','').replace('\"','') for st in re.findall(r'NSE\\:[A-Z]*?\"', rough)]\n",
    "print(\",\".join(stocks))"
   ]
  },
  {
   "cell_type": "code",
   "execution_count": 11,
   "metadata": {},
   "outputs": [],
   "source": [
    "from selenium import webdriver\n",
    "from selenium.webdriver.common.by import By\n",
    "\n",
    "# List of URLs to scrape\n",
    "# urls = [\n",
    "#     \"https://in.tradingview.com/chart/myj92liI/?symbol=NSE%3ANIFTY\",\n",
    "#     # Add more URLs as needed\n",
    "# ]\n",
    "\n",
    "# Function to extract numerical values\n",
    "def extract_numerical_value(element):\n",
    "    # Extract the text and remove non-numeric characters\n",
    "    text = element.text.replace(\"INR\", \"\").replace(\"%\", \"\").replace(\",\", \"\").strip()\n",
    "    # Convert to float if possible, otherwise return None\n",
    "    try:\n",
    "        return float(text)\n",
    "    except ValueError:\n",
    "        return 100\n",
    "\n",
    "# Initialize the WebDriver\n",
    "# driver = webdriver.Chrome()  # Change to the appropriate WebDriver for your browser\n",
    "\n",
    "# Loop through each URL\n",
    "def get_results(stock):\n",
    "    url = f\"https://in.tradingview.com/chart/myj92liI/?symbol=NSE%3A{stock}\"\n",
    "    results={}\n",
    "    driver.get(url)\n",
    "    time.sleep(2)\n",
    "    # Find all elements with class \"containerCell-Yvm0jjs7\"\n",
    "    elements = driver.find_elements(By.CLASS_NAME, \"containerCell-Yvm0jjs7\")\n",
    "    # Loop through each element\n",
    "    for element in elements:\n",
    "        # Find the first row element\n",
    "        first_row = element.find_element(By.CLASS_NAME, \"firstRow-Yvm0jjs7\")\n",
    "        # Find the title element within the first row\n",
    "        title_element = first_row.find_element(By.CLASS_NAME, \"title-Yvm0jjs7\")\n",
    "        # Extract the title text\n",
    "        title_text = title_element.text\n",
    "        # Find the second row element\n",
    "        second_row = element.find_element(By.CLASS_NAME, \"secondRow-Yvm0jjs7\")\n",
    "        # Find the value element within the second row\n",
    "        value_element = second_row.find_element(By.TAG_NAME, \"div\")\n",
    "        # Extract the numerical value\n",
    "        numerical_value = extract_numerical_value(value_element)\n",
    "        # Print the dictionary entry\n",
    "        # if numerical_value is not None:\n",
    "            # print({title_text: numerical_value})\n",
    "        results[title_text] = numerical_value\n",
    "    return results\n",
    "        \n",
    "\n",
    "# Close the WebDriver\n",
    "\n"
   ]
  },
  {
   "cell_type": "code",
   "execution_count": 12,
   "metadata": {},
   "outputs": [],
   "source": [
    "import time"
   ]
  },
  {
   "cell_type": "code",
   "execution_count": 16,
   "metadata": {},
   "outputs": [
    {
     "name": "stdout",
     "output_type": "stream",
     "text": [
      "ADANIENT\n",
      "{'Net Profit': 85.0, 'Total Closed Trades': 5.0, 'Percent Profitable': 80.0, 'Profit Factor': 4.414, 'Max Drawdown': 33.15, 'Avg Trade': 17.0, 'Avg # Bars in Trades': 18.0}\n",
      "ADANIPORTS\n",
      "{'Net Profit': 83.4, 'Total Closed Trades': 14.0, 'Percent Profitable': 78.57, 'Profit Factor': 4.343, 'Max Drawdown': 16.4, 'Avg Trade': 5.96, 'Avg # Bars in Trades': 20.0}\n",
      "APOLLOHOSP\n",
      "{'Net Profit': 209.45, 'Total Closed Trades': 3.0, 'Percent Profitable': 100.0, 'Profit Factor': 100, 'Max Drawdown': 46.25, 'Avg Trade': 69.82, 'Avg # Bars in Trades': 21.0}\n",
      "ASIANPAINT\n",
      "{'Net Profit': 30.8, 'Total Closed Trades': 7.0, 'Percent Profitable': 57.14, 'Profit Factor': 1.314, 'Max Drawdown': 53.75, 'Avg Trade': 4.4, 'Avg # Bars in Trades': 42.0}\n",
      "AXISBANK\n",
      "{'Net Profit': 100, 'Total Closed Trades': 7.0, 'Percent Profitable': 42.86, 'Profit Factor': 0.707, 'Max Drawdown': 35.35, 'Avg Trade': 100, 'Avg # Bars in Trades': 21.0}\n",
      "BAJAJFINSV\n",
      "{'Net Profit': 100, 'Total Closed Trades': 7.0, 'Percent Profitable': 57.14, 'Profit Factor': 0.987, 'Max Drawdown': 47.05, 'Avg Trade': 100, 'Avg # Bars in Trades': 26.0}\n",
      "BAJFINANCE\n",
      "{'Net Profit': 121.15, 'Total Closed Trades': 10.0, 'Percent Profitable': 70.0, 'Profit Factor': 1.273, 'Max Drawdown': 370.7, 'Avg Trade': 12.11, 'Avg # Bars in Trades': 21.0}\n",
      "BHARTIARTL\n",
      "{'Net Profit': 10.0, 'Total Closed Trades': 9.0, 'Percent Profitable': 55.56, 'Profit Factor': 1.27, 'Max Drawdown': 41.9, 'Avg Trade': 1.11, 'Avg # Bars in Trades': 21.0}\n",
      "BPCL\n",
      "{'Net Profit': 13.6, 'Total Closed Trades': 8.0, 'Percent Profitable': 75.0, 'Profit Factor': 2.248, 'Max Drawdown': 7.35, 'Avg Trade': 1.7, 'Avg # Bars in Trades': 20.0}\n",
      "BRITANNIA\n",
      "{'Net Profit': 136.25, 'Total Closed Trades': 9.0, 'Percent Profitable': 66.67, 'Profit Factor': 1.897, 'Max Drawdown': 77.3, 'Avg Trade': 15.14, 'Avg # Bars in Trades': 18.0}\n",
      "CIPLA\n",
      "{'Net Profit': 16.5, 'Total Closed Trades': 8.0, 'Percent Profitable': 62.5, 'Profit Factor': 1.404, 'Max Drawdown': 42.25, 'Avg Trade': 2.06, 'Avg # Bars in Trades': 36.0}\n",
      "COALINDIA\n",
      "{'Net Profit': 6.75, 'Total Closed Trades': 4.0, 'Percent Profitable': 75.0, 'Profit Factor': 3.596, 'Max Drawdown': 5.75, 'Avg Trade': 1.69, 'Avg # Bars in Trades': 36.0}\n",
      "DIVISLAB\n",
      "{'Net Profit': 222.15, 'Total Closed Trades': 10.0, 'Percent Profitable': 80.0, 'Profit Factor': 4.083, 'Max Drawdown': 53.15, 'Avg Trade': 22.22, 'Avg # Bars in Trades': 22.0}\n",
      "DRREDDY\n",
      "{}\n",
      "EICHERMOT\n",
      "{'Net Profit': 100, 'Total Closed Trades': 4.0, 'Percent Profitable': 50.0, 'Profit Factor': 0.754, 'Max Drawdown': 89.25, 'Avg Trade': 100, 'Avg # Bars in Trades': 16.0}\n",
      "GRASIM\n",
      "{'Net Profit': 100, 'Total Closed Trades': 12.0, 'Percent Profitable': 41.67, 'Profit Factor': 0.752, 'Max Drawdown': 113.7, 'Avg Trade': 100, 'Avg # Bars in Trades': 21.0}\n",
      "HCLTECH\n",
      "{'Net Profit': 34.25, 'Total Closed Trades': 11.0, 'Percent Profitable': 63.64, 'Profit Factor': 1.605, 'Max Drawdown': 18.65, 'Avg Trade': 3.11, 'Avg # Bars in Trades': 29.0}\n",
      "HDFCBANK\n",
      "{'Net Profit': 3.05, 'Total Closed Trades': 6.0, 'Percent Profitable': 50.0, 'Profit Factor': 1.062, 'Max Drawdown': 42.75, 'Avg Trade': 0.51, 'Avg # Bars in Trades': 46.0}\n",
      "HDFCLIFE\n",
      "{'Net Profit': 100, 'Total Closed Trades': 5.0, 'Percent Profitable': 20.0, 'Profit Factor': 0.168, 'Max Drawdown': 32.15, 'Avg Trade': 100, 'Avg # Bars in Trades': 29.0}\n",
      "HEROMOTOCO\n",
      "{'Net Profit': 177.45, 'Total Closed Trades': 9.0, 'Percent Profitable': 77.78, 'Profit Factor': 3.446, 'Max Drawdown': 67.8, 'Avg Trade': 19.72, 'Avg # Bars in Trades': 20.0}\n",
      "HINDALCO\n",
      "{'Net Profit': 25.45, 'Total Closed Trades': 7.0, 'Percent Profitable': 85.71, 'Profit Factor': 6.719, 'Max Drawdown': 8.25, 'Avg Trade': 3.64, 'Avg # Bars in Trades': 26.0}\n",
      "HINDUNILVR\n",
      "{'Net Profit': 52.25, 'Total Closed Trades': 4.0, 'Percent Profitable': 75.0, 'Profit Factor': 3.01, 'Max Drawdown': 40.0, 'Avg Trade': 13.06, 'Avg # Bars in Trades': 41.0}\n",
      "ICICIBANK\n",
      "{'Net Profit': 100, 'Total Closed Trades': 2.0, 'Percent Profitable': 50.0, 'Profit Factor': 0.844, 'Max Drawdown': 11.2, 'Avg Trade': 100, 'Avg # Bars in Trades': 36.0}\n",
      "INDUSINDBK\n",
      "{'Net Profit': 100, 'Total Closed Trades': 7.0, 'Percent Profitable': 42.86, 'Profit Factor': 0.589, 'Max Drawdown': 48.4, 'Avg Trade': 100, 'Avg # Bars in Trades': 29.0}\n",
      "INFY\n",
      "{}\n",
      "ITC\n",
      "{'Net Profit': 8.7, 'Total Closed Trades': 4.0, 'Percent Profitable': 75.0, 'Profit Factor': 2.813, 'Max Drawdown': 5.25, 'Avg Trade': 2.18, 'Avg # Bars in Trades': 31.0}\n",
      "JSWSTEEL\n",
      "{'Net Profit': 100, 'Total Closed Trades': 5.0, 'Percent Profitable': 20.0, 'Profit Factor': 0.24, 'Max Drawdown': 26.75, 'Avg Trade': 100, 'Avg # Bars in Trades': 13.0}\n",
      "KOTAKBANK\n",
      "{'Net Profit': 100, 'Total Closed Trades': 6.0, 'Percent Profitable': 33.33, 'Profit Factor': 0.466, 'Max Drawdown': 48.6, 'Avg Trade': 100, 'Avg # Bars in Trades': 35.0}\n",
      "LT\n",
      "{'Net Profit': 41.75, 'Total Closed Trades': 9.0, 'Percent Profitable': 55.56, 'Profit Factor': 1.34, 'Max Drawdown': 95.95, 'Avg Trade': 4.64, 'Avg # Bars in Trades': 21.0}\n",
      "LTIM\n",
      "{'Net Profit': 143.25, 'Total Closed Trades': 7.0, 'Percent Profitable': 71.43, 'Profit Factor': 2.194, 'Max Drawdown': 75.55, 'Avg Trade': 20.46, 'Avg # Bars in Trades': 20.0}\n",
      "MARUTI\n",
      "{'Net Profit': 315.7, 'Total Closed Trades': 7.0, 'Percent Profitable': 71.43, 'Profit Factor': 2.615, 'Max Drawdown': 267.3, 'Avg Trade': 45.1, 'Avg # Bars in Trades': 31.0}\n",
      "NESTLEIND\n",
      "{'Net Profit': 42.1, 'Total Closed Trades': 4.0, 'Percent Profitable': 75.0, 'Profit Factor': 2.711, 'Max Drawdown': 24.6, 'Avg Trade': 10.52, 'Avg # Bars in Trades': 22.0}\n",
      "NTPC\n",
      "{'Net Profit': 0.35, 'Total Closed Trades': 9.0, 'Percent Profitable': 44.44, 'Profit Factor': 1.032, 'Max Drawdown': 9.15, 'Avg Trade': 0.04, 'Avg # Bars in Trades': 31.0}\n",
      "ONGC\n",
      "{'Net Profit': 100, 'Total Closed Trades': 7.0, 'Percent Profitable': 42.86, 'Profit Factor': 0.717, 'Max Drawdown': 8.15, 'Avg Trade': 100, 'Avg # Bars in Trades': 29.0}\n",
      "POWERGRID\n",
      "{'Net Profit': 100, 'Total Closed Trades': 5.0, 'Percent Profitable': 60.0, 'Profit Factor': 0.496, 'Max Drawdown': 9.25, 'Avg Trade': 100, 'Avg # Bars in Trades': 29.0}\n",
      "RELIANCE\n",
      "{'Net Profit': 100, 'Total Closed Trades': 9.0, 'Percent Profitable': 44.44, 'Profit Factor': 0.744, 'Max Drawdown': 96.65, 'Avg Trade': 100, 'Avg # Bars in Trades': 39.0}\n",
      "SBILIFE\n",
      "{'Net Profit': 100, 'Total Closed Trades': 9.0, 'Percent Profitable': 11.11, 'Profit Factor': 0.138, 'Max Drawdown': 113.95, 'Avg Trade': 100, 'Avg # Bars in Trades': 25.0}\n",
      "SBIN\n",
      "{'Net Profit': 100, 'Total Closed Trades': 15.0, 'Percent Profitable': 40.0, 'Profit Factor': 0.635, 'Max Drawdown': 37.6, 'Avg Trade': 100, 'Avg # Bars in Trades': 32.0}\n",
      "SUNPHARMA\n",
      "{'Net Profit': 38.4, 'Total Closed Trades': 13.0, 'Percent Profitable': 61.54, 'Profit Factor': 1.659, 'Max Drawdown': 55.65, 'Avg Trade': 2.95, 'Avg # Bars in Trades': 29.0}\n",
      "TATACONSUM\n",
      "{'Net Profit': 25.95, 'Total Closed Trades': 7.0, 'Percent Profitable': 71.43, 'Profit Factor': 2.518, 'Max Drawdown': 20.6, 'Avg Trade': 3.71, 'Avg # Bars in Trades': 23.0}\n",
      "TATAMOTORS\n",
      "{'Net Profit': 30.45, 'Total Closed Trades': 5.0, 'Percent Profitable': 100.0, 'Profit Factor': 100, 'Max Drawdown': 5.3, 'Avg Trade': 6.09, 'Avg # Bars in Trades': 17.0}\n",
      "TATASTEEL\n",
      "{'Net Profit': 2.35, 'Total Closed Trades': 8.0, 'Percent Profitable': 62.5, 'Profit Factor': 1.49, 'Max Drawdown': 4.05, 'Avg Trade': 0.29, 'Avg # Bars in Trades': 29.0}\n",
      "TCS\n",
      "{'Net Profit': 100, 'Total Closed Trades': 6.0, 'Percent Profitable': 50.0, 'Profit Factor': 0.851, 'Max Drawdown': 169.9, 'Avg Trade': 100, 'Avg # Bars in Trades': 45.0}\n",
      "TECHM\n",
      "{'Net Profit': 17.35, 'Total Closed Trades': 7.0, 'Percent Profitable': 57.14, 'Profit Factor': 1.483, 'Max Drawdown': 28.15, 'Avg Trade': 2.48, 'Avg # Bars in Trades': 26.0}\n",
      "TITAN\n",
      "{'Net Profit': 86.5, 'Total Closed Trades': 7.0, 'Percent Profitable': 71.43, 'Profit Factor': 2.177, 'Max Drawdown': 82.75, 'Avg Trade': 12.36, 'Avg # Bars in Trades': 20.0}\n",
      "ULTRACEMCO\n",
      "{'Net Profit': 277.0, 'Total Closed Trades': 7.0, 'Percent Profitable': 71.43, 'Profit Factor': 2.646, 'Max Drawdown': 180.4, 'Avg Trade': 39.57, 'Avg # Bars in Trades': 21.0}\n",
      "UPL\n",
      "{'Net Profit': 8.1, 'Total Closed Trades': 11.0, 'Percent Profitable': 54.55, 'Profit Factor': 1.247, 'Max Drawdown': 20.45, 'Avg Trade': 0.74, 'Avg # Bars in Trades': 32.0}\n",
      "WIPRO\n",
      "{'Net Profit': 15.05, 'Total Closed Trades': 11.0, 'Percent Profitable': 63.64, 'Profit Factor': 1.92, 'Max Drawdown': 10.1, 'Avg Trade': 1.37, 'Avg # Bars in Trades': 36.0}\n"
     ]
    }
   ],
   "source": [
    "results = {}\n",
    "for stock in stocks:\n",
    "    print(stock)\n",
    "    gg = get_results(stock)\n",
    "    results[stock] = gg\n",
    "    print(gg)\n",
    "    \n"
   ]
  },
  {
   "cell_type": "code",
   "execution_count": 17,
   "metadata": {},
   "outputs": [
    {
     "ename": "WebDriverException",
     "evalue": "Message: disconnected: not connected to DevTools\n  (failed to check if window was closed: disconnected: not connected to DevTools)\n  (Session info: chrome=121.0.6167.185)\nStacktrace:\n\tGetHandleVerifier [0x010FE123+48179]\n\t(No symbol) [0x01085D01]\n\t(No symbol) [0x00F6D72D]\n\t(No symbol) [0x00F5E3CE]\n\t(No symbol) [0x00F5DFC9]\n\t(No symbol) [0x00F6F360]\n\t(No symbol) [0x00FDA2F6]\n\t(No symbol) [0x00FC3A26]\n\t(No symbol) [0x00F9B7BC]\n\t(No symbol) [0x00F9C62D]\n\tGetHandleVerifier [0x01417C33+3299139]\n\tGetHandleVerifier [0x01455BF2+3553026]\n\tGetHandleVerifier [0x01450BCC+3532508]\n\tGetHandleVerifier [0x0119494E+664670]\n\t(No symbol) [0x01090AB4]\n\t(No symbol) [0x0108BF08]\n\t(No symbol) [0x0108C02D]\n\t(No symbol) [0x0107DD00]\n\tBaseThreadInitThunk [0x76DD7BA9+25]\n\tRtlInitializeExceptionChain [0x77DBBD2B+107]\n\tRtlClearBits [0x77DBBCAF+191]\n",
     "output_type": "error",
     "traceback": [
      "\u001b[1;31m---------------------------------------------------------------------------\u001b[0m",
      "\u001b[1;31mWebDriverException\u001b[0m                        Traceback (most recent call last)",
      "Cell \u001b[1;32mIn[17], line 2\u001b[0m\n\u001b[0;32m      1\u001b[0m \u001b[38;5;124m'\u001b[39m\u001b[38;5;124mnegativeValue\u001b[39m\u001b[38;5;124m'\u001b[39m\n\u001b[1;32m----> 2\u001b[0m \u001b[43mget_results\u001b[49m\u001b[43m(\u001b[49m\u001b[38;5;124;43m\"\u001b[39;49m\u001b[38;5;124;43mTCS\u001b[39;49m\u001b[38;5;124;43m\"\u001b[39;49m\u001b[43m)\u001b[49m\n",
      "Cell \u001b[1;32mIn[11], line 27\u001b[0m, in \u001b[0;36mget_results\u001b[1;34m(stock)\u001b[0m\n\u001b[0;32m     25\u001b[0m url \u001b[38;5;241m=\u001b[39m \u001b[38;5;124mf\u001b[39m\u001b[38;5;124m\"\u001b[39m\u001b[38;5;124mhttps://in.tradingview.com/chart/myj92liI/?symbol=NSE%3A\u001b[39m\u001b[38;5;132;01m{\u001b[39;00mstock\u001b[38;5;132;01m}\u001b[39;00m\u001b[38;5;124m\"\u001b[39m\n\u001b[0;32m     26\u001b[0m results\u001b[38;5;241m=\u001b[39m{}\n\u001b[1;32m---> 27\u001b[0m \u001b[43mdriver\u001b[49m\u001b[38;5;241;43m.\u001b[39;49m\u001b[43mget\u001b[49m\u001b[43m(\u001b[49m\u001b[43murl\u001b[49m\u001b[43m)\u001b[49m\n\u001b[0;32m     28\u001b[0m time\u001b[38;5;241m.\u001b[39msleep(\u001b[38;5;241m2\u001b[39m)\n\u001b[0;32m     29\u001b[0m \u001b[38;5;66;03m# Find all elements with class \"containerCell-Yvm0jjs7\"\u001b[39;00m\n",
      "File \u001b[1;32mc:\\Users\\Shubham\\Documents\\stock-analyzer\\stock-analyzer\\.venv\\lib\\site-packages\\selenium\\webdriver\\remote\\webdriver.py:356\u001b[0m, in \u001b[0;36mWebDriver.get\u001b[1;34m(self, url)\u001b[0m\n\u001b[0;32m    354\u001b[0m \u001b[38;5;28;01mdef\u001b[39;00m \u001b[38;5;21mget\u001b[39m(\u001b[38;5;28mself\u001b[39m, url: \u001b[38;5;28mstr\u001b[39m) \u001b[38;5;241m-\u001b[39m\u001b[38;5;241m>\u001b[39m \u001b[38;5;28;01mNone\u001b[39;00m:\n\u001b[0;32m    355\u001b[0m \u001b[38;5;250m    \u001b[39m\u001b[38;5;124;03m\"\"\"Loads a web page in the current browser session.\"\"\"\u001b[39;00m\n\u001b[1;32m--> 356\u001b[0m     \u001b[38;5;28;43mself\u001b[39;49m\u001b[38;5;241;43m.\u001b[39;49m\u001b[43mexecute\u001b[49m\u001b[43m(\u001b[49m\u001b[43mCommand\u001b[49m\u001b[38;5;241;43m.\u001b[39;49m\u001b[43mGET\u001b[49m\u001b[43m,\u001b[49m\u001b[43m \u001b[49m\u001b[43m{\u001b[49m\u001b[38;5;124;43m\"\u001b[39;49m\u001b[38;5;124;43murl\u001b[39;49m\u001b[38;5;124;43m\"\u001b[39;49m\u001b[43m:\u001b[49m\u001b[43m \u001b[49m\u001b[43murl\u001b[49m\u001b[43m}\u001b[49m\u001b[43m)\u001b[49m\n",
      "File \u001b[1;32mc:\\Users\\Shubham\\Documents\\stock-analyzer\\stock-analyzer\\.venv\\lib\\site-packages\\selenium\\webdriver\\remote\\webdriver.py:347\u001b[0m, in \u001b[0;36mWebDriver.execute\u001b[1;34m(self, driver_command, params)\u001b[0m\n\u001b[0;32m    345\u001b[0m response \u001b[38;5;241m=\u001b[39m \u001b[38;5;28mself\u001b[39m\u001b[38;5;241m.\u001b[39mcommand_executor\u001b[38;5;241m.\u001b[39mexecute(driver_command, params)\n\u001b[0;32m    346\u001b[0m \u001b[38;5;28;01mif\u001b[39;00m response:\n\u001b[1;32m--> 347\u001b[0m     \u001b[38;5;28;43mself\u001b[39;49m\u001b[38;5;241;43m.\u001b[39;49m\u001b[43merror_handler\u001b[49m\u001b[38;5;241;43m.\u001b[39;49m\u001b[43mcheck_response\u001b[49m\u001b[43m(\u001b[49m\u001b[43mresponse\u001b[49m\u001b[43m)\u001b[49m\n\u001b[0;32m    348\u001b[0m     response[\u001b[38;5;124m\"\u001b[39m\u001b[38;5;124mvalue\u001b[39m\u001b[38;5;124m\"\u001b[39m] \u001b[38;5;241m=\u001b[39m \u001b[38;5;28mself\u001b[39m\u001b[38;5;241m.\u001b[39m_unwrap_value(response\u001b[38;5;241m.\u001b[39mget(\u001b[38;5;124m\"\u001b[39m\u001b[38;5;124mvalue\u001b[39m\u001b[38;5;124m\"\u001b[39m, \u001b[38;5;28;01mNone\u001b[39;00m))\n\u001b[0;32m    349\u001b[0m     \u001b[38;5;28;01mreturn\u001b[39;00m response\n",
      "File \u001b[1;32mc:\\Users\\Shubham\\Documents\\stock-analyzer\\stock-analyzer\\.venv\\lib\\site-packages\\selenium\\webdriver\\remote\\errorhandler.py:229\u001b[0m, in \u001b[0;36mErrorHandler.check_response\u001b[1;34m(self, response)\u001b[0m\n\u001b[0;32m    227\u001b[0m         alert_text \u001b[38;5;241m=\u001b[39m value[\u001b[38;5;124m\"\u001b[39m\u001b[38;5;124malert\u001b[39m\u001b[38;5;124m\"\u001b[39m]\u001b[38;5;241m.\u001b[39mget(\u001b[38;5;124m\"\u001b[39m\u001b[38;5;124mtext\u001b[39m\u001b[38;5;124m\"\u001b[39m)\n\u001b[0;32m    228\u001b[0m     \u001b[38;5;28;01mraise\u001b[39;00m exception_class(message, screen, stacktrace, alert_text)  \u001b[38;5;66;03m# type: ignore[call-arg]  # mypy is not smart enough here\u001b[39;00m\n\u001b[1;32m--> 229\u001b[0m \u001b[38;5;28;01mraise\u001b[39;00m exception_class(message, screen, stacktrace)\n",
      "\u001b[1;31mWebDriverException\u001b[0m: Message: disconnected: not connected to DevTools\n  (failed to check if window was closed: disconnected: not connected to DevTools)\n  (Session info: chrome=121.0.6167.185)\nStacktrace:\n\tGetHandleVerifier [0x010FE123+48179]\n\t(No symbol) [0x01085D01]\n\t(No symbol) [0x00F6D72D]\n\t(No symbol) [0x00F5E3CE]\n\t(No symbol) [0x00F5DFC9]\n\t(No symbol) [0x00F6F360]\n\t(No symbol) [0x00FDA2F6]\n\t(No symbol) [0x00FC3A26]\n\t(No symbol) [0x00F9B7BC]\n\t(No symbol) [0x00F9C62D]\n\tGetHandleVerifier [0x01417C33+3299139]\n\tGetHandleVerifier [0x01455BF2+3553026]\n\tGetHandleVerifier [0x01450BCC+3532508]\n\tGetHandleVerifier [0x0119494E+664670]\n\t(No symbol) [0x01090AB4]\n\t(No symbol) [0x0108BF08]\n\t(No symbol) [0x0108C02D]\n\t(No symbol) [0x0107DD00]\n\tBaseThreadInitThunk [0x76DD7BA9+25]\n\tRtlInitializeExceptionChain [0x77DBBD2B+107]\n\tRtlClearBits [0x77DBBCAF+191]\n"
     ]
    }
   ],
   "source": [
    "'negativeValue'\n",
    "get_results(\"TCS\")"
   ]
  },
  {
   "cell_type": "code",
   "execution_count": 6,
   "metadata": {},
   "outputs": [],
   "source": [
    "time.sleep(1)"
   ]
  },
  {
   "cell_type": "code",
   "execution_count": 14,
   "metadata": {},
   "outputs": [],
   "source": [
    "driver.quit()"
   ]
  },
  {
   "cell_type": "code",
   "execution_count": null,
   "metadata": {},
   "outputs": [],
   "source": []
  }
 ],
 "metadata": {
  "kernelspec": {
   "display_name": ".venv",
   "language": "python",
   "name": "python3"
  },
  "language_info": {
   "codemirror_mode": {
    "name": "ipython",
    "version": 3
   },
   "file_extension": ".py",
   "mimetype": "text/x-python",
   "name": "python",
   "nbconvert_exporter": "python",
   "pygments_lexer": "ipython3",
   "version": "3.10.10"
  }
 },
 "nbformat": 4,
 "nbformat_minor": 2
}
