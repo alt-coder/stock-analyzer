{
 "cells": [
  {
   "cell_type": "code",
   "execution_count": 1,
   "metadata": {},
   "outputs": [],
   "source": [
    "import pandas as pd\n",
    "import numpy as np\n",
    "from tabulate import tabulate\n",
    "from datetime import datetime, timedelta"
   ]
  },
  {
   "cell_type": "code",
   "execution_count": 2,
   "metadata": {},
   "outputs": [],
   "source": [
    "class Dataset:\n",
    "    def __init__(self):\n",
    "        self.df = None\n",
    "    def append(self, df):\n",
    "        if self.df is None:\n",
    "            self.df = df\n",
    "        else:\n",
    "            self.df = pd.concat([self.df,df], ignore_index=True)"
   ]
  },
  {
   "cell_type": "code",
   "execution_count": 3,
   "metadata": {},
   "outputs": [],
   "source": [
    "\n",
    "# Name, Entry TIme, Entry PRice, QTY, Exit Time, Exit Price\n",
    "\n",
    "class Backtest:\n",
    "    def __init__(self):\n",
    "        self.columns = ['Equity Name', 'Trade', 'Entry Time', 'Entry Price', 'Exit Time', 'Exit Price', 'Quantity', 'Position Size', 'PNL', '% PNL']\n",
    "        self.backtesting = pd.DataFrame(columns=self.columns)\n",
    "\n",
    "    def buy(self, equity_name, entry_time, entry_price, qty):\n",
    "        self.trade_log = dict(zip(self.columns, [None] * len(self.columns)))\n",
    "        self.trade_log['Trade'] = 'Long Open'\n",
    "        self.trade_log['Quantity'] = qty\n",
    "        self.trade_log['Position Size'] = round(self.trade_log['Quantity'] * entry_price, 3)\n",
    "        self.trade_log['Equity Name'] = equity_name\n",
    "        self.trade_log['Entry Time'] = entry_time\n",
    "        self.trade_log['Entry Price'] = round(entry_price, 2)\n",
    "\n",
    "    def sell(self, exit_time, exit_price, exit_type, charge):\n",
    "        self.trade_log['Trade'] = 'Long Closed'\n",
    "        self.trade_log['Exit Time'] = exit_time\n",
    "        self.trade_log['Exit Price'] = round(exit_price, 2)\n",
    "        self.trade_log['Exit Type'] = exit_type\n",
    "        self.trade_log['PNL'] = round((self.trade_log['Exit Price'] - self.trade_log['Entry Price']) * self.trade_log['Quantity'] - charge, 3)\n",
    "        self.trade_log['% PNL'] = round((self.trade_log['PNL'] / self.trade_log['Position Size']) * 100, 3)\n",
    "        self.trade_log['Holding Period'] = exit_time - self.trade_log['Entry Time']\n",
    "        # self.backtesting = self.backtesting.append(self.trade_log, ignore_index=True)\n",
    "        self.backtesting.loc[len(self.backtesting)] = self.trade_log\n",
    "    def stats(self):\n",
    "        df = self.backtesting\n",
    "        parameters = ['Total Trade Scripts', 'Total Trade', 'PNL',  'Winners', 'Losers', 'Win Ratio','Total Profit', 'Total Loss', 'Average Loss per Trade', 'Average Profit per Trade', 'Average PNL Per Trade', 'Risk Reward']\n",
    "        total_traded_scripts = len(df['Equity Name'].unique())\n",
    "        total_trade = len(df.index)\n",
    "        pnl = df.PNL.sum()\n",
    "        winners = len(df[df.PNL > 0])\n",
    "        loosers = len(df[df.PNL <= 0])\n",
    "        win_ratio = str(round((winners/total_trade) * 100, 2)) + '%'\n",
    "        total_profit = round(df[df.PNL > 0].PNL.sum(), 2)\n",
    "        total_loss  = round(df[df.PNL <= 0].PNL.sum(), 2)\n",
    "        average_loss_per_trade = round(total_loss/loosers, 2)\n",
    "        average_profit_per_trade = round(total_profit/winners, 2)\n",
    "        average_pnl_per_trade = round(pnl/total_trade, 2)\n",
    "        risk_reward = f'1:{-1 * round(average_profit_per_trade/average_loss_per_trade, 2)}'\n",
    "        data_points = [total_traded_scripts,total_trade,pnl,winners, loosers, win_ratio, total_profit, total_loss, average_loss_per_trade, average_profit_per_trade, average_pnl_per_trade, risk_reward]\n",
    "        data = list(zip(parameters,data_points ))\n",
    "        print(tabulate(data, ['Parameters', 'Values'], tablefmt='psql'))\n",
    "        "
   ]
  },
  {
   "cell_type": "code",
   "execution_count": 4,
   "metadata": {},
   "outputs": [],
   "source": [
    "from datetime import datetime, timedelta\n",
    "today_date = datetime.now()- timedelta(days=7)\n",
    "stocks_to_buy =[]\n",
    "# dt=Dataset()\n",
    "def GoldenCrossverSignal(name):\n",
    "    path = f'./Data/{name}.csv'\n",
    "    data = pd.read_csv(path, parse_dates=['Date'], ) #index_col='Date'\n",
    "    data['Date'] = pd.to_datetime(data['Date'])\n",
    "    \n",
    "    data['Prev_Close'] = data.Close.shift(1)\n",
    "    data['20_SMA'] = data.Prev_Close.rolling(window=20, min_periods=1).mean()\n",
    "    data['50_SMA'] = data.Prev_Close.rolling(window=50, min_periods=1).mean()\n",
    "    data['20_SMA_diff_7'] =  data['20_SMA'] - data['20_SMA'].shift(7)\n",
    "    data['20_SMA_diff_14'] =  data['20_SMA'] - data['20_SMA'].shift(14)\n",
    "    data['50_SMA_diff_14'] = data['50_SMA'] - data['50_SMA'].shift(14) \n",
    "    data['50_SMA_diff_7'] = data['50_SMA'] - data['50_SMA'].shift(7) \n",
    "    data['50_SMA_diff'] =  data['50_SMA'].shift(-14) - data['50_SMA']\n",
    "    \n",
    "    # data = data.iloc[-x:y]\n",
    "    data['Signal'] = 0\n",
    "    data['Signal'] = np.where((data['50_SMA_diff'] > 0), 1, 0)\n",
    "    data['Position'] = data.Signal.diff()\n",
    "    prev=0\n",
    "    data['AlreadyBought'] =0\n",
    "    bought = 0\n",
    "    for i , val in data['Position'].iteritems():\n",
    "        if val ==1 or val == -1:\n",
    "            diff = i-prev\n",
    "            mid = diff//2\n",
    "            if mid > prev and  mid < i:   data.at[mid,'Position'] = 2\n",
    "            prev = i\n",
    "        if val == 1:\n",
    "            bought = 1\n",
    "        if val == -1:\n",
    "            bought = 0\n",
    "        data.at[i,'AlreadyBought'] = bought\n",
    "    \n",
    "        \n",
    "    # data.to_csv(\"test33.csv\")\n",
    "    df_pos = data[(data['Position'] == 1) | (data['Position'] == -1) | (data['Position'] == 2)].copy()\n",
    "    dt.append(df_pos)\n",
    "    # df_pos['Position'] = df_pos['Position'].apply(lambda x: 'Buy' if x == 1 else 'Sell')\n",
    "    \n",
    "    # print(df_pos.columns)\n",
    "    # Filter the DataFrame based on the conditions\n",
    "    \n",
    "    \n",
    "\n",
    "    return  df_pos,data,name\n",
    "# sty='3PLAND'\n",
    "# GoldenCrossverSignal(sty)"
   ]
  },
  {
   "cell_type": "code",
   "execution_count": 32,
   "metadata": {},
   "outputs": [],
   "source": [
    "# try:\n",
    "#         filtered_df = df_pos.loc[(df_pos[\"Date\"] >= seven_days_ago)]\n",
    "#         if len(filtered_df) : \n",
    "#             # print(filtered_df['Position'].iat[-1] )\n",
    "#             if   filtered_df['Position'].iat[-1] == \"Buy\":\n",
    "#                 stocks_to_buy.append(name)\n",
    "#                 sig_date = filtered_df['Date'].iloc[0]\n",
    "#                 z= sig_date - pd.Timedelta(days=0)\n",
    "#                 old_price = filtered_df.loc[filtered_df['Date'] == z]['Close'].iloc[0]\n",
    "#                 cur_price = data.loc[data['Date'] >= today_date]['Close'].iloc[0]\n",
    "#                 perc = ((cur_price-old_price)/old_price)*100\n",
    "#                 print(name,perc,sig_date)\n",
    "#     except Exception as e:\n",
    "#         print(f\"error {name} , {e}\")\n",
    "delta_date = datetime.now() - timedelta(days=365)\n",
    "\n",
    "def list_buy(df,data,name):\n",
    "    # print(df.columns)\n",
    "    filtered_df = df.loc[(df[\"Date\"] >= delta_date) & (df[\"Position\"] == \"Buy\")]\n",
    "    if len(filtered_df) == 0 : return\n",
    "    # Find the latest date of BUY\n",
    "    latest_buy = filtered_df['Date'].max()\n",
    "    dff =df.sort_values(by=\"Date\", ascending=False)\n",
    "    dff.to_csv(f\"./filtered/{name}.csv\")\n",
    "    # Check \n",
    "    sell_date = df[(df['Position'] == 'Sell') & (df['Date'] > delta_date)]['Date'].max()\n",
    "     \n",
    "    if latest_buy > sell_date :\n",
    "        latest_date = data[\"Date\"].max()\n",
    "        cur_p = data.loc[data[\"Date\"]==latest_date][\"Close\"].iloc[0]\n",
    "        buy_p = data.loc[data[\"Date\"]==latest_buy][\"Close\"].iloc[0]\n",
    "        percent = ((cur_p - buy_p ) / buy_p ) *100\n",
    "        print(name, buy_p, cur_p, percent, latest_buy)\n"
   ]
  },
  {
   "cell_type": "code",
   "execution_count": 5,
   "metadata": {},
   "outputs": [],
   "source": [
    "from tqdm import tqdm"
   ]
  },
  {
   "cell_type": "code",
   "execution_count": 9,
   "metadata": {},
   "outputs": [
    {
     "name": "stderr",
     "output_type": "stream",
     "text": [
      "  0%|          | 0/1935 [00:00<?, ?it/s]"
     ]
    },
    {
     "name": "stderr",
     "output_type": "stream",
     "text": [
      " 32%|███▏      | 625/1935 [00:21<00:44, 29.13it/s]C:\\Users\\Shubham Soni\\AppData\\Local\\Temp\\ipykernel_15748\\2612810024.py:8: FutureWarning: The behavior of DataFrame concatenation with empty or all-NA entries is deprecated. In a future version, this will no longer exclude empty or all-NA columns when determining the result dtypes. To retain the old behavior, exclude the relevant entries before the concat operation.\n",
      "  self.df = pd.concat([self.df,df], ignore_index=True)\n",
      "100%|██████████| 1935/1935 [01:09<00:00, 28.00it/s]\n"
     ]
    }
   ],
   "source": [
    "stocks = pd.read_csv('.\\EQUITY_L.csv')\n",
    "scripts = stocks[\"SYMBOL\"]\n",
    "# scripts=[\"IEX\"]\n",
    "for stock in tqdm(scripts[:]):\n",
    "    filtered_df, data, name = GoldenCrossverSignal(stock)\n",
    "    # list_buy(filtered_df,data,name)\n",
    "    "
   ]
  },
  {
   "cell_type": "code",
   "execution_count": 10,
   "metadata": {},
   "outputs": [],
   "source": [
    "dt.df.to_csv(\"dataset_stock.csv\")"
   ]
  },
  {
   "cell_type": "code",
   "execution_count": 11,
   "metadata": {},
   "outputs": [
    {
     "data": {
      "text/plain": [
       "<bound method NDFrame.describe of             Date         Open         High          Low        Close  \\\n",
       "0     2014-01-17    31.000000    31.000000    30.500000    30.650000   \n",
       "1     2014-02-07    32.200001    32.900002    31.350000    32.549999   \n",
       "2     2014-03-20    30.299999    30.450001    30.200001    30.250000   \n",
       "3     2014-07-04    35.299999    35.799999    35.000000    35.200001   \n",
       "4     2014-12-16    30.400000    30.400000    30.000000    30.100000   \n",
       "...          ...          ...          ...          ...          ...   \n",
       "67341 2023-05-17  1565.000000  1565.000000  1475.050049  1481.150024   \n",
       "67342 2023-07-24  1476.949951  1491.349976  1459.250000  1474.400024   \n",
       "67343 2023-10-19  1569.500000  1569.500000  1547.699951  1555.250000   \n",
       "67344 2023-12-06  1540.000000  1559.949951  1538.000000  1549.849976   \n",
       "67345 2023-12-28  1653.949951  1665.500000  1634.099976  1643.150024   \n",
       "\n",
       "         Adj Close  Volume   Prev_Close       20_SMA       50_SMA  \\\n",
       "0        29.225180  123045    30.650000    30.650000    30.650000   \n",
       "1        31.036856  114058    31.600000    30.868750    30.868750   \n",
       "2        28.843775   96068    30.299999    30.450000    30.741860   \n",
       "3        33.563663   77052    35.349998    35.645000    34.908000   \n",
       "4        28.700750   81793    30.200001    30.457500    30.597000   \n",
       "...            ...     ...          ...          ...          ...   \n",
       "67341  1481.150024  115582  1540.050049  1526.050006  1508.177007   \n",
       "67342  1474.400024   21597  1476.949951  1477.714996  1483.460002   \n",
       "67343  1555.250000   13020  1569.500000  1569.507483  1580.453992   \n",
       "67344  1549.849976   39094  1548.849976  1543.884991  1550.944993   \n",
       "67345  1643.150024  100753  1634.050049  1570.407495  1553.455996   \n",
       "\n",
       "       20_SMA_diff_7  20_SMA_diff_14  50_SMA_diff_14  50_SMA_diff_7  \\\n",
       "0                NaN             NaN             NaN            NaN   \n",
       "1           0.152083        0.218750        0.218750       0.152083   \n",
       "2          -0.230000       -0.475000       -0.118484      -0.022028   \n",
       "3           0.282500        0.025000        1.078000       0.620000   \n",
       "4          -0.167500       -0.332500       -0.497000      -0.188000   \n",
       "...              ...             ...             ...            ...   \n",
       "67341      -1.114996        5.072498       26.802002      11.807002   \n",
       "67342     -10.245007      -16.497504      -14.841001      -7.352000   \n",
       "67343     -14.007501      -37.372510       25.498999      13.619001   \n",
       "67344       5.352496        4.232489      -18.723003      -7.077998   \n",
       "67345      16.455005       26.810004        3.521003       5.936001   \n",
       "\n",
       "        50_SMA_diff  Signal  Position  \n",
       "0      1.700003e-01       1       1.0  \n",
       "1     -2.708331e-02       0      -1.0  \n",
       "2      2.213964e-02       1       1.0  \n",
       "3     -2.499977e-02       0      -1.0  \n",
       "4      3.814697e-08       1       1.0  \n",
       "...             ...     ...       ...  \n",
       "67341 -2.436001e+00       0      -1.0  \n",
       "67342  7.809937e-01       1       1.0  \n",
       "67343 -4.007998e+00       0      -1.0  \n",
       "67344  1.083003e+00       1       1.0  \n",
       "67345           NaN       0      -1.0  \n",
       "\n",
       "[67346 rows x 17 columns]>"
      ]
     },
     "execution_count": 11,
     "metadata": {},
     "output_type": "execute_result"
    }
   ],
   "source": [
    "dt.df.describe"
   ]
  },
  {
   "cell_type": "code",
   "execution_count": 33,
   "metadata": {},
   "outputs": [
    {
     "name": "stdout",
     "output_type": "stream",
     "text": [
      "3PLAND 30.450000762939453 36.25 19.047616064823544 2024-01-09 00:00:00\n"
     ]
    }
   ],
   "source": [
    "filtered_df, data, name = GoldenCrossverSignal(sty)\n",
    "list_buy(filtered_df,data,sty)"
   ]
  },
  {
   "cell_type": "code",
   "execution_count": null,
   "metadata": {},
   "outputs": [],
   "source": []
  },
  {
   "cell_type": "code",
   "execution_count": null,
   "metadata": {},
   "outputs": [],
   "source": [
    "import pandas as pd\n",
    "from sklearn.model_selection import train_test_split\n",
    "from sklearn.ensemble import RandomForestClassifier , RandomForestRegressor\n",
    "from sklearn.metrics import accuracy_score ,mean_squared_error ,classification_report\n",
    "# df = df.dropna()\n",
    "# Sample DataFrame with features and 'Label' as the last column\n",
    "# Assuming 'Label' is the last column, separate features and labels\n",
    "X = data_new.iloc[:, :-1]  # Features\n",
    "y = data_new.iloc[:, -1]   # Labels\n",
    "\n",
    "\n",
    "# Split the data into training and testing sets\n",
    "X_train, X_test, y_train, y_test = train_test_split(X, y, test_size=0.2, random_state=42)\n",
    "\n",
    "# Create a Random Forest Classifier\n",
    "clf = RandomForestClassifier(n_estimators=50, random_state=42, max_depth = 15)\n",
    "# clf = LogisticRegression()\n",
    "\n",
    "# Train the classifier\n",
    "clf.fit(X_train, y_train)\n",
    "\n",
    "# Make predictions on the test set\n",
    "y_pred = clf.predict_proba(X_test)[:,0]\n",
    "\n",
    "y_pred = [0 if x > 0.8 else  1 for x in y_pred ]\n",
    "\n",
    "# Evaluate the accuracy\n",
    "accuracy = accuracy_score(y_test, y_pred)\n",
    "print(f\"Accuracy: {accuracy:.2f}\")\n",
    "classification_report_output = classification_report(y_test, y_pred)\n",
    "print('Classification Report:')\n",
    "print(classification_report_output)\n",
    "# Plotting the confusion matrix\n",
    "conf_matrix = confusion_matrix(y_test, y_pred)\n",
    "plt.figure(figsize=(8, 6))\n",
    "sns.heatmap(conf_matrix, annot=True, fmt='d', cmap='Blues', cbar=False,\n",
    "            xticklabels=[ 'No Signal', 'Buy Signal'],\n",
    "            yticklabels=['No Signal', 'Buy Signal'])\n",
    "plt.title('Confusion Matrix')\n",
    "plt.xlabel('Predicted')\n",
    "plt.ylabel('Actual')\n",
    "plt.show()\n"
   ]
  }
 ],
 "metadata": {
  "kernelspec": {
   "display_name": "stock-analyzer",
   "language": "python",
   "name": "python3"
  },
  "language_info": {
   "codemirror_mode": {
    "name": "ipython",
    "version": 3
   },
   "file_extension": ".py",
   "mimetype": "text/x-python",
   "name": "python",
   "nbconvert_exporter": "python",
   "pygments_lexer": "ipython3",
   "version": "3.11.2"
  }
 },
 "nbformat": 4,
 "nbformat_minor": 2
}
