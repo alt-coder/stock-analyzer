{
  "metadata": {
    "kernelspec": {
      "display_name": "Python 3",
      "name": "python3"
    },
    "language_info": {
      "name": "python",
      "version": "3.7.12",
      "mimetype": "text/x-python",
      "codemirror_mode": {
        "name": "ipython",
        "version": 3
      },
      "pygments_lexer": "ipython3",
      "nbconvert_exporter": "python",
      "file_extension": ".py"
    },
    "kaggle": {
      "accelerator": "gpu",
      "dataSources": [
        {
          "sourceId": 3361665,
          "sourceType": "datasetVersion",
          "datasetId": 2027708
        }
      ],
      "dockerImageVersionId": 30260,
      "isInternetEnabled": false,
      "language": "python",
      "sourceType": "notebook",
      "isGpuEnabled": true
    },
    "colab": {
      "provenance": [],
      "gpuType": "T4"
    },
    "accelerator": "GPU"
  },
  "nbformat_minor": 0,
  "nbformat": 4,
  "cells": [
    {
      "cell_type": "markdown",
      "source": [
        "## Importing Libraries\n"
      ],
      "metadata": {
        "id": "J4N0hjpgHwBg"
      }
    },
    {
      "cell_type": "code",
      "source": [
        "import os\n",
        "from google.colab import drive\n",
        "drive.mount('/content/drive')\n",
        "os.chdir(\"/content/drive/MyDrive/stockdt/\")\n"
      ],
      "metadata": {
        "colab": {
          "base_uri": "https://localhost:8080/"
        },
        "id": "g-gTrTQWMKKg",
        "outputId": "5ecf7484-6269-48d6-b338-4b8aa20a3248"
      },
      "execution_count": null,
      "outputs": [
        {
          "output_type": "stream",
          "name": "stdout",
          "text": [
            "Mounted at /content/drive\n"
          ]
        }
      ]
    },
    {
      "cell_type": "code",
      "source": [
        "import numpy as np\n",
        "import pandas as pd\n",
        "\n",
        "import seaborn as sns\n",
        "import matplotlib.pyplot as plt\n",
        "from matplotlib import style\n",
        "import plotly.express as px\n",
        "\n",
        "\n",
        "from sklearn.preprocessing import MinMaxScaler , StandardScaler\n",
        "\n",
        "from keras.models import Sequential, load_model\n",
        "from keras.layers import LSTM, Dense, Dropout, GRU\n",
        "plt.style.use('fivethirtyeight')\n",
        "from keras.layers import GlobalMaxPooling1D, Bidirectional, GRU\n",
        "from tensorflow.keras.callbacks import EarlyStopping, ModelCheckpoint\n"
      ],
      "metadata": {
        "id": "e53CpIrryGzi",
        "execution": {
          "iopub.status.busy": "2024-01-22T12:20:47.132972Z",
          "iopub.execute_input": "2024-01-22T12:20:47.133553Z",
          "iopub.status.idle": "2024-01-22T12:20:56.192494Z",
          "shell.execute_reply.started": "2024-01-22T12:20:47.133426Z",
          "shell.execute_reply": "2024-01-22T12:20:56.191182Z"
        },
        "trusted": true
      },
      "execution_count": null,
      "outputs": []
    },
    {
      "cell_type": "markdown",
      "source": [
        "## Read Data"
      ],
      "metadata": {
        "id": "S503b_i2IrGq"
      }
    },
    {
      "cell_type": "code",
      "source": [
        "# import os\n",
        "# os.chdir(\"/content/drive/MyDrive/stockdt/\")\n",
        "def get_data(ticker, start= \"2008-12-01\",end=\"2023-01-1\"):\n",
        "  path = f'./Data/{ticker}.csv'\n",
        "  start_date = pd.to_datetime(start)\n",
        "  end_date = pd.to_datetime(end)\n",
        "  price_data = pd.read_csv(path, parse_dates=['Date'], index_col='Date')\n",
        "  price_data = price_data.loc[(price_data.index >= start_date) & (price_data.index <= end_date)]\n",
        "  return price_data\n"
      ],
      "metadata": {
        "id": "ibU73Hp8A0qa",
        "execution": {
          "iopub.status.busy": "2024-01-22T12:20:56.195001Z",
          "iopub.execute_input": "2024-01-22T12:20:56.196170Z",
          "iopub.status.idle": "2024-01-22T12:20:56.809186Z",
          "shell.execute_reply.started": "2024-01-22T12:20:56.196110Z",
          "shell.execute_reply": "2024-01-22T12:20:56.807821Z"
        },
        "trusted": true
      },
      "execution_count": null,
      "outputs": []
    },
    {
      "cell_type": "code",
      "source": [
        "import yfinance as yf\n",
        "import pandas as pd\n",
        "name = \"NAHARSPING\"\n",
        "data = yf.download(f'{name}.NS',period='730d', interval=\"1h\")"
      ],
      "metadata": {
        "colab": {
          "base_uri": "https://localhost:8080/"
        },
        "id": "EP5pRT8cPVge",
        "outputId": "97f2e92c-6409-4214-f3df-2e64a1c0c0a6"
      },
      "execution_count": null,
      "outputs": [
        {
          "output_type": "stream",
          "name": "stderr",
          "text": [
            "\r[*********************100%%**********************]  1 of 1 completed\n"
          ]
        }
      ]
    },
    {
      "cell_type": "code",
      "source": [
        "len(data)"
      ],
      "metadata": {
        "colab": {
          "base_uri": "https://localhost:8080/"
        },
        "id": "_yI2yBTpGdZP",
        "outputId": "cf45e40c-ede6-4396-ad8f-9206b2b4b0f0"
      },
      "execution_count": null,
      "outputs": [
        {
          "output_type": "execute_result",
          "data": {
            "text/plain": [
              "5074"
            ]
          },
          "metadata": {},
          "execution_count": 4
        }
      ]
    },
    {
      "cell_type": "code",
      "source": [
        "data = data.drop(data.index[0])\n",
        "data = data[[\"Adj Close\"]]"
      ],
      "metadata": {
        "id": "QsudBD3OLXxQ"
      },
      "execution_count": null,
      "outputs": []
    },
    {
      "cell_type": "code",
      "source": [
        "scaler = MinMaxScaler(feature_range=(0,1))\n",
        "df = data.copy().astype(float)\n",
        "# df.drop([\"Close\",\"Volume\"] , axis = 1, inplace=True)\n",
        "df\n"
      ],
      "metadata": {
        "id": "UrFjVae6e_-d",
        "execution": {
          "iopub.status.busy": "2024-01-22T12:21:46.213782Z",
          "iopub.execute_input": "2024-01-22T12:21:46.214153Z",
          "iopub.status.idle": "2024-01-22T12:21:46.223510Z",
          "shell.execute_reply.started": "2024-01-22T12:21:46.214120Z",
          "shell.execute_reply": "2024-01-22T12:21:46.221819Z"
        },
        "trusted": true,
        "colab": {
          "base_uri": "https://localhost:8080/",
          "height": 455
        },
        "outputId": "80d20c43-8536-4c69-eee4-9345c80c7c50"
      },
      "execution_count": null,
      "outputs": [
        {
          "output_type": "execute_result",
          "data": {
            "text/plain": [
              "                            Adj Close\n",
              "Datetime                             \n",
              "2021-02-12 10:15:00+05:30   79.099998\n",
              "2021-02-12 11:15:00+05:30   79.150002\n",
              "2021-02-12 12:15:00+05:30   79.500000\n",
              "2021-02-12 13:15:00+05:30   79.000000\n",
              "2021-02-12 14:15:00+05:30   78.300003\n",
              "...                               ...\n",
              "2024-01-24 11:15:00+05:30  288.350006\n",
              "2024-01-24 12:15:00+05:30  288.799988\n",
              "2024-01-24 13:15:00+05:30  296.500000\n",
              "2024-01-24 14:15:00+05:30  299.000000\n",
              "2024-01-24 15:15:00+05:30  299.399994\n",
              "\n",
              "[5076 rows x 1 columns]"
            ],
            "text/html": [
              "\n",
              "  <div id=\"df-ae773873-1922-4f36-8b28-6efdd032d378\" class=\"colab-df-container\">\n",
              "    <div>\n",
              "<style scoped>\n",
              "    .dataframe tbody tr th:only-of-type {\n",
              "        vertical-align: middle;\n",
              "    }\n",
              "\n",
              "    .dataframe tbody tr th {\n",
              "        vertical-align: top;\n",
              "    }\n",
              "\n",
              "    .dataframe thead th {\n",
              "        text-align: right;\n",
              "    }\n",
              "</style>\n",
              "<table border=\"1\" class=\"dataframe\">\n",
              "  <thead>\n",
              "    <tr style=\"text-align: right;\">\n",
              "      <th></th>\n",
              "      <th>Adj Close</th>\n",
              "    </tr>\n",
              "    <tr>\n",
              "      <th>Datetime</th>\n",
              "      <th></th>\n",
              "    </tr>\n",
              "  </thead>\n",
              "  <tbody>\n",
              "    <tr>\n",
              "      <th>2021-02-12 10:15:00+05:30</th>\n",
              "      <td>79.099998</td>\n",
              "    </tr>\n",
              "    <tr>\n",
              "      <th>2021-02-12 11:15:00+05:30</th>\n",
              "      <td>79.150002</td>\n",
              "    </tr>\n",
              "    <tr>\n",
              "      <th>2021-02-12 12:15:00+05:30</th>\n",
              "      <td>79.500000</td>\n",
              "    </tr>\n",
              "    <tr>\n",
              "      <th>2021-02-12 13:15:00+05:30</th>\n",
              "      <td>79.000000</td>\n",
              "    </tr>\n",
              "    <tr>\n",
              "      <th>2021-02-12 14:15:00+05:30</th>\n",
              "      <td>78.300003</td>\n",
              "    </tr>\n",
              "    <tr>\n",
              "      <th>...</th>\n",
              "      <td>...</td>\n",
              "    </tr>\n",
              "    <tr>\n",
              "      <th>2024-01-24 11:15:00+05:30</th>\n",
              "      <td>288.350006</td>\n",
              "    </tr>\n",
              "    <tr>\n",
              "      <th>2024-01-24 12:15:00+05:30</th>\n",
              "      <td>288.799988</td>\n",
              "    </tr>\n",
              "    <tr>\n",
              "      <th>2024-01-24 13:15:00+05:30</th>\n",
              "      <td>296.500000</td>\n",
              "    </tr>\n",
              "    <tr>\n",
              "      <th>2024-01-24 14:15:00+05:30</th>\n",
              "      <td>299.000000</td>\n",
              "    </tr>\n",
              "    <tr>\n",
              "      <th>2024-01-24 15:15:00+05:30</th>\n",
              "      <td>299.399994</td>\n",
              "    </tr>\n",
              "  </tbody>\n",
              "</table>\n",
              "<p>5076 rows × 1 columns</p>\n",
              "</div>\n",
              "    <div class=\"colab-df-buttons\">\n",
              "\n",
              "  <div class=\"colab-df-container\">\n",
              "    <button class=\"colab-df-convert\" onclick=\"convertToInteractive('df-ae773873-1922-4f36-8b28-6efdd032d378')\"\n",
              "            title=\"Convert this dataframe to an interactive table.\"\n",
              "            style=\"display:none;\">\n",
              "\n",
              "  <svg xmlns=\"http://www.w3.org/2000/svg\" height=\"24px\" viewBox=\"0 -960 960 960\">\n",
              "    <path d=\"M120-120v-720h720v720H120Zm60-500h600v-160H180v160Zm220 220h160v-160H400v160Zm0 220h160v-160H400v160ZM180-400h160v-160H180v160Zm440 0h160v-160H620v160ZM180-180h160v-160H180v160Zm440 0h160v-160H620v160Z\"/>\n",
              "  </svg>\n",
              "    </button>\n",
              "\n",
              "  <style>\n",
              "    .colab-df-container {\n",
              "      display:flex;\n",
              "      gap: 12px;\n",
              "    }\n",
              "\n",
              "    .colab-df-convert {\n",
              "      background-color: #E8F0FE;\n",
              "      border: none;\n",
              "      border-radius: 50%;\n",
              "      cursor: pointer;\n",
              "      display: none;\n",
              "      fill: #1967D2;\n",
              "      height: 32px;\n",
              "      padding: 0 0 0 0;\n",
              "      width: 32px;\n",
              "    }\n",
              "\n",
              "    .colab-df-convert:hover {\n",
              "      background-color: #E2EBFA;\n",
              "      box-shadow: 0px 1px 2px rgba(60, 64, 67, 0.3), 0px 1px 3px 1px rgba(60, 64, 67, 0.15);\n",
              "      fill: #174EA6;\n",
              "    }\n",
              "\n",
              "    .colab-df-buttons div {\n",
              "      margin-bottom: 4px;\n",
              "    }\n",
              "\n",
              "    [theme=dark] .colab-df-convert {\n",
              "      background-color: #3B4455;\n",
              "      fill: #D2E3FC;\n",
              "    }\n",
              "\n",
              "    [theme=dark] .colab-df-convert:hover {\n",
              "      background-color: #434B5C;\n",
              "      box-shadow: 0px 1px 3px 1px rgba(0, 0, 0, 0.15);\n",
              "      filter: drop-shadow(0px 1px 2px rgba(0, 0, 0, 0.3));\n",
              "      fill: #FFFFFF;\n",
              "    }\n",
              "  </style>\n",
              "\n",
              "    <script>\n",
              "      const buttonEl =\n",
              "        document.querySelector('#df-ae773873-1922-4f36-8b28-6efdd032d378 button.colab-df-convert');\n",
              "      buttonEl.style.display =\n",
              "        google.colab.kernel.accessAllowed ? 'block' : 'none';\n",
              "\n",
              "      async function convertToInteractive(key) {\n",
              "        const element = document.querySelector('#df-ae773873-1922-4f36-8b28-6efdd032d378');\n",
              "        const dataTable =\n",
              "          await google.colab.kernel.invokeFunction('convertToInteractive',\n",
              "                                                    [key], {});\n",
              "        if (!dataTable) return;\n",
              "\n",
              "        const docLinkHtml = 'Like what you see? Visit the ' +\n",
              "          '<a target=\"_blank\" href=https://colab.research.google.com/notebooks/data_table.ipynb>data table notebook</a>'\n",
              "          + ' to learn more about interactive tables.';\n",
              "        element.innerHTML = '';\n",
              "        dataTable['output_type'] = 'display_data';\n",
              "        await google.colab.output.renderOutput(dataTable, element);\n",
              "        const docLink = document.createElement('div');\n",
              "        docLink.innerHTML = docLinkHtml;\n",
              "        element.appendChild(docLink);\n",
              "      }\n",
              "    </script>\n",
              "  </div>\n",
              "\n",
              "\n",
              "<div id=\"df-5954e566-eb49-41d2-8678-f4b18e3986d3\">\n",
              "  <button class=\"colab-df-quickchart\" onclick=\"quickchart('df-5954e566-eb49-41d2-8678-f4b18e3986d3')\"\n",
              "            title=\"Suggest charts\"\n",
              "            style=\"display:none;\">\n",
              "\n",
              "<svg xmlns=\"http://www.w3.org/2000/svg\" height=\"24px\"viewBox=\"0 0 24 24\"\n",
              "     width=\"24px\">\n",
              "    <g>\n",
              "        <path d=\"M19 3H5c-1.1 0-2 .9-2 2v14c0 1.1.9 2 2 2h14c1.1 0 2-.9 2-2V5c0-1.1-.9-2-2-2zM9 17H7v-7h2v7zm4 0h-2V7h2v10zm4 0h-2v-4h2v4z\"/>\n",
              "    </g>\n",
              "</svg>\n",
              "  </button>\n",
              "\n",
              "<style>\n",
              "  .colab-df-quickchart {\n",
              "      --bg-color: #E8F0FE;\n",
              "      --fill-color: #1967D2;\n",
              "      --hover-bg-color: #E2EBFA;\n",
              "      --hover-fill-color: #174EA6;\n",
              "      --disabled-fill-color: #AAA;\n",
              "      --disabled-bg-color: #DDD;\n",
              "  }\n",
              "\n",
              "  [theme=dark] .colab-df-quickchart {\n",
              "      --bg-color: #3B4455;\n",
              "      --fill-color: #D2E3FC;\n",
              "      --hover-bg-color: #434B5C;\n",
              "      --hover-fill-color: #FFFFFF;\n",
              "      --disabled-bg-color: #3B4455;\n",
              "      --disabled-fill-color: #666;\n",
              "  }\n",
              "\n",
              "  .colab-df-quickchart {\n",
              "    background-color: var(--bg-color);\n",
              "    border: none;\n",
              "    border-radius: 50%;\n",
              "    cursor: pointer;\n",
              "    display: none;\n",
              "    fill: var(--fill-color);\n",
              "    height: 32px;\n",
              "    padding: 0;\n",
              "    width: 32px;\n",
              "  }\n",
              "\n",
              "  .colab-df-quickchart:hover {\n",
              "    background-color: var(--hover-bg-color);\n",
              "    box-shadow: 0 1px 2px rgba(60, 64, 67, 0.3), 0 1px 3px 1px rgba(60, 64, 67, 0.15);\n",
              "    fill: var(--button-hover-fill-color);\n",
              "  }\n",
              "\n",
              "  .colab-df-quickchart-complete:disabled,\n",
              "  .colab-df-quickchart-complete:disabled:hover {\n",
              "    background-color: var(--disabled-bg-color);\n",
              "    fill: var(--disabled-fill-color);\n",
              "    box-shadow: none;\n",
              "  }\n",
              "\n",
              "  .colab-df-spinner {\n",
              "    border: 2px solid var(--fill-color);\n",
              "    border-color: transparent;\n",
              "    border-bottom-color: var(--fill-color);\n",
              "    animation:\n",
              "      spin 1s steps(1) infinite;\n",
              "  }\n",
              "\n",
              "  @keyframes spin {\n",
              "    0% {\n",
              "      border-color: transparent;\n",
              "      border-bottom-color: var(--fill-color);\n",
              "      border-left-color: var(--fill-color);\n",
              "    }\n",
              "    20% {\n",
              "      border-color: transparent;\n",
              "      border-left-color: var(--fill-color);\n",
              "      border-top-color: var(--fill-color);\n",
              "    }\n",
              "    30% {\n",
              "      border-color: transparent;\n",
              "      border-left-color: var(--fill-color);\n",
              "      border-top-color: var(--fill-color);\n",
              "      border-right-color: var(--fill-color);\n",
              "    }\n",
              "    40% {\n",
              "      border-color: transparent;\n",
              "      border-right-color: var(--fill-color);\n",
              "      border-top-color: var(--fill-color);\n",
              "    }\n",
              "    60% {\n",
              "      border-color: transparent;\n",
              "      border-right-color: var(--fill-color);\n",
              "    }\n",
              "    80% {\n",
              "      border-color: transparent;\n",
              "      border-right-color: var(--fill-color);\n",
              "      border-bottom-color: var(--fill-color);\n",
              "    }\n",
              "    90% {\n",
              "      border-color: transparent;\n",
              "      border-bottom-color: var(--fill-color);\n",
              "    }\n",
              "  }\n",
              "</style>\n",
              "\n",
              "  <script>\n",
              "    async function quickchart(key) {\n",
              "      const quickchartButtonEl =\n",
              "        document.querySelector('#' + key + ' button');\n",
              "      quickchartButtonEl.disabled = true;  // To prevent multiple clicks.\n",
              "      quickchartButtonEl.classList.add('colab-df-spinner');\n",
              "      try {\n",
              "        const charts = await google.colab.kernel.invokeFunction(\n",
              "            'suggestCharts', [key], {});\n",
              "      } catch (error) {\n",
              "        console.error('Error during call to suggestCharts:', error);\n",
              "      }\n",
              "      quickchartButtonEl.classList.remove('colab-df-spinner');\n",
              "      quickchartButtonEl.classList.add('colab-df-quickchart-complete');\n",
              "    }\n",
              "    (() => {\n",
              "      let quickchartButtonEl =\n",
              "        document.querySelector('#df-5954e566-eb49-41d2-8678-f4b18e3986d3 button');\n",
              "      quickchartButtonEl.style.display =\n",
              "        google.colab.kernel.accessAllowed ? 'block' : 'none';\n",
              "    })();\n",
              "  </script>\n",
              "</div>\n",
              "\n",
              "  <div id=\"id_6c350212-5fe9-447d-aaa7-3b57ab873853\">\n",
              "    <style>\n",
              "      .colab-df-generate {\n",
              "        background-color: #E8F0FE;\n",
              "        border: none;\n",
              "        border-radius: 50%;\n",
              "        cursor: pointer;\n",
              "        display: none;\n",
              "        fill: #1967D2;\n",
              "        height: 32px;\n",
              "        padding: 0 0 0 0;\n",
              "        width: 32px;\n",
              "      }\n",
              "\n",
              "      .colab-df-generate:hover {\n",
              "        background-color: #E2EBFA;\n",
              "        box-shadow: 0px 1px 2px rgba(60, 64, 67, 0.3), 0px 1px 3px 1px rgba(60, 64, 67, 0.15);\n",
              "        fill: #174EA6;\n",
              "      }\n",
              "\n",
              "      [theme=dark] .colab-df-generate {\n",
              "        background-color: #3B4455;\n",
              "        fill: #D2E3FC;\n",
              "      }\n",
              "\n",
              "      [theme=dark] .colab-df-generate:hover {\n",
              "        background-color: #434B5C;\n",
              "        box-shadow: 0px 1px 3px 1px rgba(0, 0, 0, 0.15);\n",
              "        filter: drop-shadow(0px 1px 2px rgba(0, 0, 0, 0.3));\n",
              "        fill: #FFFFFF;\n",
              "      }\n",
              "    </style>\n",
              "    <button class=\"colab-df-generate\" onclick=\"generateWithVariable('df')\"\n",
              "            title=\"Generate code using this dataframe.\"\n",
              "            style=\"display:none;\">\n",
              "\n",
              "  <svg xmlns=\"http://www.w3.org/2000/svg\" height=\"24px\"viewBox=\"0 0 24 24\"\n",
              "       width=\"24px\">\n",
              "    <path d=\"M7,19H8.4L18.45,9,17,7.55,7,17.6ZM5,21V16.75L18.45,3.32a2,2,0,0,1,2.83,0l1.4,1.43a1.91,1.91,0,0,1,.58,1.4,1.91,1.91,0,0,1-.58,1.4L9.25,21ZM18.45,9,17,7.55Zm-12,3A5.31,5.31,0,0,0,4.9,8.1,5.31,5.31,0,0,0,1,6.5,5.31,5.31,0,0,0,4.9,4.9,5.31,5.31,0,0,0,6.5,1,5.31,5.31,0,0,0,8.1,4.9,5.31,5.31,0,0,0,12,6.5,5.46,5.46,0,0,0,6.5,12Z\"/>\n",
              "  </svg>\n",
              "    </button>\n",
              "    <script>\n",
              "      (() => {\n",
              "      const buttonEl =\n",
              "        document.querySelector('#id_6c350212-5fe9-447d-aaa7-3b57ab873853 button.colab-df-generate');\n",
              "      buttonEl.style.display =\n",
              "        google.colab.kernel.accessAllowed ? 'block' : 'none';\n",
              "\n",
              "      buttonEl.onclick = () => {\n",
              "        google.colab.notebook.generateWithVariable('df');\n",
              "      }\n",
              "      })();\n",
              "    </script>\n",
              "  </div>\n",
              "\n",
              "    </div>\n",
              "  </div>\n"
            ]
          },
          "metadata": {},
          "execution_count": 4
        }
      ]
    },
    {
      "cell_type": "code",
      "source": [
        "\n",
        "df_scaled = scaler.fit_transform(df)\n",
        "df_for_training_df = df_scaled[:4000]\n",
        "df_for_val_df = df_scaled[4000:4500]\n",
        "df_for_test_df = df_scaled[4500:]\n",
        "# df_for_training = df_for_training.astype(float)\n",
        "\n",
        "\n"
      ],
      "metadata": {
        "id": "mWF6eX6XA_kh",
        "execution": {
          "iopub.status.busy": "2024-01-22T12:20:56.810564Z",
          "iopub.execute_input": "2024-01-22T12:20:56.810930Z",
          "iopub.status.idle": "2024-01-22T12:20:56.829380Z",
          "shell.execute_reply.started": "2024-01-22T12:20:56.810899Z",
          "shell.execute_reply": "2024-01-22T12:20:56.827993Z"
        },
        "trusted": true
      },
      "execution_count": null,
      "outputs": []
    },
    {
      "cell_type": "code",
      "source": [
        "df_for_training_df"
      ],
      "metadata": {
        "colab": {
          "base_uri": "https://localhost:8080/"
        },
        "id": "-pXCupvsynsk",
        "outputId": "793dcc79-ec7e-447f-c111-612eddef7fea"
      },
      "execution_count": null,
      "outputs": [
        {
          "output_type": "execute_result",
          "data": {
            "text/plain": [
              "array([[0.00241525],\n",
              "       [0.00249854],\n",
              "       [0.00308153],\n",
              "       ...,\n",
              "       [0.32381109],\n",
              "       [0.32372782],\n",
              "       [0.32306156]])"
            ]
          },
          "metadata": {},
          "execution_count": 6
        }
      ]
    },
    {
      "cell_type": "code",
      "source": [
        "#Empty lists to be populated using formatted training data\n",
        "\n",
        "n_future = 3   # Number of days we want to look into the future based on the past days.\n",
        "n_past = 60  # Number of past days we want to use to predict the future.\n",
        "label_idx = 0 #\n",
        "#Reformat input data into a shape: (n_samples x timesteps x n_features)\n",
        "#In my example, my df_for_training_scaled has a shape (12823, 5)\n",
        "#12823 refers to the number of data points and 5 refers to the columns (multi-variables).\n",
        "def create_dataset(df):\n",
        "  trainX = []\n",
        "  trainY = []\n",
        "  for i in range(n_past, len(df) - n_future +1):\n",
        "      trainX.append(df[i - n_past:i, 0:df.shape[1]])\n",
        "      trainY.append(df[i + n_future - 1:i + n_future, label_idx])\n",
        "  return trainX, trainY\n",
        "trainX, trainY = create_dataset(df_for_training_df)\n",
        "trainX, trainY = np.array(trainX), np.array(trainY)\n",
        "\n",
        "validX, validY = create_dataset(df_for_val_df)\n",
        "validX, validY = np.array(validX), np.array(validY)\n",
        "\n",
        "testX, testY = create_dataset(df_for_test_df)\n",
        "testX, testY = np.array(testX), np.array(testY)\n",
        "\n",
        "print('trainX shape == {}.'.format(trainX.shape))\n",
        "print('trainY shape == {}.'.format(trainY.shape))"
      ],
      "metadata": {
        "colab": {
          "base_uri": "https://localhost:8080/"
        },
        "id": "10IIslAkEMLG",
        "outputId": "ad1a5478-e8d1-46c5-ded6-fc23ce342e2a"
      },
      "execution_count": null,
      "outputs": [
        {
          "output_type": "stream",
          "name": "stdout",
          "text": [
            "trainX shape == (3938, 60, 1).\n",
            "trainY shape == (3938, 1).\n"
          ]
        }
      ]
    },
    {
      "cell_type": "code",
      "source": [
        "\n"
      ],
      "metadata": {
        "id": "qyqRrj9NmxsI"
      },
      "execution_count": null,
      "outputs": []
    },
    {
      "cell_type": "code",
      "source": [
        "validY.shape"
      ],
      "metadata": {
        "colab": {
          "base_uri": "https://localhost:8080/"
        },
        "id": "4j7iFhqMlpqh",
        "outputId": "b32702b2-48eb-42ea-caf4-5a389ffbc846"
      },
      "execution_count": null,
      "outputs": [
        {
          "output_type": "execute_result",
          "data": {
            "text/plain": [
              "(493, 1)"
            ]
          },
          "metadata": {},
          "execution_count": 12
        }
      ]
    },
    {
      "cell_type": "code",
      "source": [
        "df.isna().any()"
      ],
      "metadata": {
        "id": "eP20f61PFDy3",
        "outputId": "d61d3260-28b5-4a8a-8d8b-966fe0232a93",
        "execution": {
          "iopub.status.busy": "2024-01-22T12:20:56.832389Z",
          "iopub.execute_input": "2024-01-22T12:20:56.832953Z",
          "iopub.status.idle": "2024-01-22T12:20:56.873877Z",
          "shell.execute_reply.started": "2024-01-22T12:20:56.832897Z",
          "shell.execute_reply": "2024-01-22T12:20:56.872557Z"
        },
        "trusted": true,
        "colab": {
          "base_uri": "https://localhost:8080/"
        }
      },
      "execution_count": null,
      "outputs": [
        {
          "output_type": "execute_result",
          "data": {
            "text/plain": [
              "Open         False\n",
              "High         False\n",
              "Low          False\n",
              "Adj Close    False\n",
              "dtype: bool"
            ]
          },
          "metadata": {},
          "execution_count": 91
        }
      ]
    },
    {
      "cell_type": "code",
      "source": [
        "df.info()"
      ],
      "metadata": {
        "id": "NKGrc08ChkHC",
        "outputId": "01edc230-1442-49ef-832c-bd2867dd7295",
        "execution": {
          "iopub.status.busy": "2024-01-22T12:21:06.082023Z",
          "iopub.execute_input": "2024-01-22T12:21:06.082609Z",
          "iopub.status.idle": "2024-01-22T12:21:06.127330Z",
          "shell.execute_reply.started": "2024-01-22T12:21:06.082559Z",
          "shell.execute_reply": "2024-01-22T12:21:06.125977Z"
        },
        "trusted": true,
        "colab": {
          "base_uri": "https://localhost:8080/"
        }
      },
      "execution_count": null,
      "outputs": [
        {
          "output_type": "stream",
          "name": "stdout",
          "text": [
            "<class 'pandas.core.frame.DataFrame'>\n",
            "DatetimeIndex: 5077 entries, 2021-02-10 09:15:00+05:30 to 2024-01-19 15:15:00+05:30\n",
            "Data columns (total 6 columns):\n",
            " #   Column     Non-Null Count  Dtype  \n",
            "---  ------     --------------  -----  \n",
            " 0   Open       5077 non-null   float64\n",
            " 1   High       5077 non-null   float64\n",
            " 2   Low        5077 non-null   float64\n",
            " 3   Close      5077 non-null   float64\n",
            " 4   Adj Close  5077 non-null   float64\n",
            " 5   Volume     5077 non-null   int64  \n",
            "dtypes: float64(5), int64(1)\n",
            "memory usage: 277.6 KB\n"
          ]
        }
      ]
    },
    {
      "cell_type": "code",
      "source": [
        "df.shape"
      ],
      "metadata": {
        "id": "er2Se0xChnCG",
        "outputId": "d30a0b59-e50c-4629-cc5a-74a613d6879f",
        "execution": {
          "iopub.status.busy": "2024-01-22T12:21:07.030772Z",
          "iopub.execute_input": "2024-01-22T12:21:07.031850Z",
          "iopub.status.idle": "2024-01-22T12:21:07.041213Z",
          "shell.execute_reply.started": "2024-01-22T12:21:07.031804Z",
          "shell.execute_reply": "2024-01-22T12:21:07.039575Z"
        },
        "trusted": true,
        "colab": {
          "base_uri": "https://localhost:8080/"
        }
      },
      "execution_count": null,
      "outputs": [
        {
          "output_type": "execute_result",
          "data": {
            "text/plain": [
              "(5077, 6)"
            ]
          },
          "metadata": {},
          "execution_count": 6
        }
      ]
    },
    {
      "cell_type": "code",
      "source": [
        "df.duplicated().sum()"
      ],
      "metadata": {
        "id": "0KGAajhuh15i",
        "outputId": "7a30e213-795f-41c4-8f5d-53edbecf88b9",
        "execution": {
          "iopub.status.busy": "2024-01-22T12:21:08.381194Z",
          "iopub.execute_input": "2024-01-22T12:21:08.381784Z",
          "iopub.status.idle": "2024-01-22T12:21:08.573981Z",
          "shell.execute_reply.started": "2024-01-22T12:21:08.381736Z",
          "shell.execute_reply": "2024-01-22T12:21:08.572697Z"
        },
        "trusted": true,
        "colab": {
          "base_uri": "https://localhost:8080/"
        }
      },
      "execution_count": null,
      "outputs": [
        {
          "output_type": "execute_result",
          "data": {
            "text/plain": [
              "0"
            ]
          },
          "metadata": {},
          "execution_count": 10
        }
      ]
    },
    {
      "cell_type": "markdown",
      "source": [
        "## Set time as index\n"
      ],
      "metadata": {
        "id": "TDwvyJn4JMI2"
      }
    },
    {
      "cell_type": "code",
      "source": [
        "df"
      ],
      "metadata": {
        "colab": {
          "base_uri": "https://localhost:8080/",
          "height": 455
        },
        "id": "5vbw4suFQecx",
        "outputId": "c3408b0f-d6e3-45f2-a9ab-955d8a4a7862"
      },
      "execution_count": null,
      "outputs": [
        {
          "output_type": "execute_result",
          "data": {
            "text/plain": [
              "                                 Open        High         Low       Close  \\\n",
              "Datetime                                                                    \n",
              "2021-02-10 09:15:00+05:30   82.400002   82.400002   79.550003   79.599998   \n",
              "2021-02-10 10:15:00+05:30   79.050003   80.000000   77.900002   79.500000   \n",
              "2021-02-10 11:15:00+05:30   80.199997   80.699997   80.000000   80.050003   \n",
              "2021-02-10 12:15:00+05:30   80.099998   80.349998   80.000000   80.000000   \n",
              "2021-02-10 13:15:00+05:30   80.000000   80.050003   79.550003   80.000000   \n",
              "...                               ...         ...         ...         ...   \n",
              "2024-01-19 11:15:00+05:30  306.049988  307.000000  301.649994  302.799988   \n",
              "2024-01-19 12:15:00+05:30  302.600006  305.399994  299.850006  304.000000   \n",
              "2024-01-19 13:15:00+05:30  303.549988  307.450012  301.000000  303.950012   \n",
              "2024-01-19 14:15:00+05:30  303.649994  305.000000  300.000000  302.850006   \n",
              "2024-01-19 15:15:00+05:30  303.299988  304.500000  301.250000  303.000000   \n",
              "\n",
              "                            Adj Close  Volume  \n",
              "Datetime                                       \n",
              "2021-02-10 09:15:00+05:30   79.599998       0  \n",
              "2021-02-10 10:15:00+05:30   79.500000    7774  \n",
              "2021-02-10 11:15:00+05:30   80.050003    3551  \n",
              "2021-02-10 12:15:00+05:30   80.000000      53  \n",
              "2021-02-10 13:15:00+05:30   80.000000    2381  \n",
              "...                               ...     ...  \n",
              "2024-01-19 11:15:00+05:30  302.799988   85009  \n",
              "2024-01-19 12:15:00+05:30  304.000000   48151  \n",
              "2024-01-19 13:15:00+05:30  303.950012   43767  \n",
              "2024-01-19 14:15:00+05:30  302.850006   46073  \n",
              "2024-01-19 15:15:00+05:30  303.000000   41344  \n",
              "\n",
              "[5077 rows x 6 columns]"
            ],
            "text/html": [
              "\n",
              "  <div id=\"df-a2ec0642-7722-4532-8276-79bfa87d1f75\" class=\"colab-df-container\">\n",
              "    <div>\n",
              "<style scoped>\n",
              "    .dataframe tbody tr th:only-of-type {\n",
              "        vertical-align: middle;\n",
              "    }\n",
              "\n",
              "    .dataframe tbody tr th {\n",
              "        vertical-align: top;\n",
              "    }\n",
              "\n",
              "    .dataframe thead th {\n",
              "        text-align: right;\n",
              "    }\n",
              "</style>\n",
              "<table border=\"1\" class=\"dataframe\">\n",
              "  <thead>\n",
              "    <tr style=\"text-align: right;\">\n",
              "      <th></th>\n",
              "      <th>Open</th>\n",
              "      <th>High</th>\n",
              "      <th>Low</th>\n",
              "      <th>Close</th>\n",
              "      <th>Adj Close</th>\n",
              "      <th>Volume</th>\n",
              "    </tr>\n",
              "    <tr>\n",
              "      <th>Datetime</th>\n",
              "      <th></th>\n",
              "      <th></th>\n",
              "      <th></th>\n",
              "      <th></th>\n",
              "      <th></th>\n",
              "      <th></th>\n",
              "    </tr>\n",
              "  </thead>\n",
              "  <tbody>\n",
              "    <tr>\n",
              "      <th>2021-02-10 09:15:00+05:30</th>\n",
              "      <td>82.400002</td>\n",
              "      <td>82.400002</td>\n",
              "      <td>79.550003</td>\n",
              "      <td>79.599998</td>\n",
              "      <td>79.599998</td>\n",
              "      <td>0</td>\n",
              "    </tr>\n",
              "    <tr>\n",
              "      <th>2021-02-10 10:15:00+05:30</th>\n",
              "      <td>79.050003</td>\n",
              "      <td>80.000000</td>\n",
              "      <td>77.900002</td>\n",
              "      <td>79.500000</td>\n",
              "      <td>79.500000</td>\n",
              "      <td>7774</td>\n",
              "    </tr>\n",
              "    <tr>\n",
              "      <th>2021-02-10 11:15:00+05:30</th>\n",
              "      <td>80.199997</td>\n",
              "      <td>80.699997</td>\n",
              "      <td>80.000000</td>\n",
              "      <td>80.050003</td>\n",
              "      <td>80.050003</td>\n",
              "      <td>3551</td>\n",
              "    </tr>\n",
              "    <tr>\n",
              "      <th>2021-02-10 12:15:00+05:30</th>\n",
              "      <td>80.099998</td>\n",
              "      <td>80.349998</td>\n",
              "      <td>80.000000</td>\n",
              "      <td>80.000000</td>\n",
              "      <td>80.000000</td>\n",
              "      <td>53</td>\n",
              "    </tr>\n",
              "    <tr>\n",
              "      <th>2021-02-10 13:15:00+05:30</th>\n",
              "      <td>80.000000</td>\n",
              "      <td>80.050003</td>\n",
              "      <td>79.550003</td>\n",
              "      <td>80.000000</td>\n",
              "      <td>80.000000</td>\n",
              "      <td>2381</td>\n",
              "    </tr>\n",
              "    <tr>\n",
              "      <th>...</th>\n",
              "      <td>...</td>\n",
              "      <td>...</td>\n",
              "      <td>...</td>\n",
              "      <td>...</td>\n",
              "      <td>...</td>\n",
              "      <td>...</td>\n",
              "    </tr>\n",
              "    <tr>\n",
              "      <th>2024-01-19 11:15:00+05:30</th>\n",
              "      <td>306.049988</td>\n",
              "      <td>307.000000</td>\n",
              "      <td>301.649994</td>\n",
              "      <td>302.799988</td>\n",
              "      <td>302.799988</td>\n",
              "      <td>85009</td>\n",
              "    </tr>\n",
              "    <tr>\n",
              "      <th>2024-01-19 12:15:00+05:30</th>\n",
              "      <td>302.600006</td>\n",
              "      <td>305.399994</td>\n",
              "      <td>299.850006</td>\n",
              "      <td>304.000000</td>\n",
              "      <td>304.000000</td>\n",
              "      <td>48151</td>\n",
              "    </tr>\n",
              "    <tr>\n",
              "      <th>2024-01-19 13:15:00+05:30</th>\n",
              "      <td>303.549988</td>\n",
              "      <td>307.450012</td>\n",
              "      <td>301.000000</td>\n",
              "      <td>303.950012</td>\n",
              "      <td>303.950012</td>\n",
              "      <td>43767</td>\n",
              "    </tr>\n",
              "    <tr>\n",
              "      <th>2024-01-19 14:15:00+05:30</th>\n",
              "      <td>303.649994</td>\n",
              "      <td>305.000000</td>\n",
              "      <td>300.000000</td>\n",
              "      <td>302.850006</td>\n",
              "      <td>302.850006</td>\n",
              "      <td>46073</td>\n",
              "    </tr>\n",
              "    <tr>\n",
              "      <th>2024-01-19 15:15:00+05:30</th>\n",
              "      <td>303.299988</td>\n",
              "      <td>304.500000</td>\n",
              "      <td>301.250000</td>\n",
              "      <td>303.000000</td>\n",
              "      <td>303.000000</td>\n",
              "      <td>41344</td>\n",
              "    </tr>\n",
              "  </tbody>\n",
              "</table>\n",
              "<p>5077 rows × 6 columns</p>\n",
              "</div>\n",
              "    <div class=\"colab-df-buttons\">\n",
              "\n",
              "  <div class=\"colab-df-container\">\n",
              "    <button class=\"colab-df-convert\" onclick=\"convertToInteractive('df-a2ec0642-7722-4532-8276-79bfa87d1f75')\"\n",
              "            title=\"Convert this dataframe to an interactive table.\"\n",
              "            style=\"display:none;\">\n",
              "\n",
              "  <svg xmlns=\"http://www.w3.org/2000/svg\" height=\"24px\" viewBox=\"0 -960 960 960\">\n",
              "    <path d=\"M120-120v-720h720v720H120Zm60-500h600v-160H180v160Zm220 220h160v-160H400v160Zm0 220h160v-160H400v160ZM180-400h160v-160H180v160Zm440 0h160v-160H620v160ZM180-180h160v-160H180v160Zm440 0h160v-160H620v160Z\"/>\n",
              "  </svg>\n",
              "    </button>\n",
              "\n",
              "  <style>\n",
              "    .colab-df-container {\n",
              "      display:flex;\n",
              "      gap: 12px;\n",
              "    }\n",
              "\n",
              "    .colab-df-convert {\n",
              "      background-color: #E8F0FE;\n",
              "      border: none;\n",
              "      border-radius: 50%;\n",
              "      cursor: pointer;\n",
              "      display: none;\n",
              "      fill: #1967D2;\n",
              "      height: 32px;\n",
              "      padding: 0 0 0 0;\n",
              "      width: 32px;\n",
              "    }\n",
              "\n",
              "    .colab-df-convert:hover {\n",
              "      background-color: #E2EBFA;\n",
              "      box-shadow: 0px 1px 2px rgba(60, 64, 67, 0.3), 0px 1px 3px 1px rgba(60, 64, 67, 0.15);\n",
              "      fill: #174EA6;\n",
              "    }\n",
              "\n",
              "    .colab-df-buttons div {\n",
              "      margin-bottom: 4px;\n",
              "    }\n",
              "\n",
              "    [theme=dark] .colab-df-convert {\n",
              "      background-color: #3B4455;\n",
              "      fill: #D2E3FC;\n",
              "    }\n",
              "\n",
              "    [theme=dark] .colab-df-convert:hover {\n",
              "      background-color: #434B5C;\n",
              "      box-shadow: 0px 1px 3px 1px rgba(0, 0, 0, 0.15);\n",
              "      filter: drop-shadow(0px 1px 2px rgba(0, 0, 0, 0.3));\n",
              "      fill: #FFFFFF;\n",
              "    }\n",
              "  </style>\n",
              "\n",
              "    <script>\n",
              "      const buttonEl =\n",
              "        document.querySelector('#df-a2ec0642-7722-4532-8276-79bfa87d1f75 button.colab-df-convert');\n",
              "      buttonEl.style.display =\n",
              "        google.colab.kernel.accessAllowed ? 'block' : 'none';\n",
              "\n",
              "      async function convertToInteractive(key) {\n",
              "        const element = document.querySelector('#df-a2ec0642-7722-4532-8276-79bfa87d1f75');\n",
              "        const dataTable =\n",
              "          await google.colab.kernel.invokeFunction('convertToInteractive',\n",
              "                                                    [key], {});\n",
              "        if (!dataTable) return;\n",
              "\n",
              "        const docLinkHtml = 'Like what you see? Visit the ' +\n",
              "          '<a target=\"_blank\" href=https://colab.research.google.com/notebooks/data_table.ipynb>data table notebook</a>'\n",
              "          + ' to learn more about interactive tables.';\n",
              "        element.innerHTML = '';\n",
              "        dataTable['output_type'] = 'display_data';\n",
              "        await google.colab.output.renderOutput(dataTable, element);\n",
              "        const docLink = document.createElement('div');\n",
              "        docLink.innerHTML = docLinkHtml;\n",
              "        element.appendChild(docLink);\n",
              "      }\n",
              "    </script>\n",
              "  </div>\n",
              "\n",
              "\n",
              "<div id=\"df-b40a03ab-12c2-4273-bec7-76f99362b8cc\">\n",
              "  <button class=\"colab-df-quickchart\" onclick=\"quickchart('df-b40a03ab-12c2-4273-bec7-76f99362b8cc')\"\n",
              "            title=\"Suggest charts\"\n",
              "            style=\"display:none;\">\n",
              "\n",
              "<svg xmlns=\"http://www.w3.org/2000/svg\" height=\"24px\"viewBox=\"0 0 24 24\"\n",
              "     width=\"24px\">\n",
              "    <g>\n",
              "        <path d=\"M19 3H5c-1.1 0-2 .9-2 2v14c0 1.1.9 2 2 2h14c1.1 0 2-.9 2-2V5c0-1.1-.9-2-2-2zM9 17H7v-7h2v7zm4 0h-2V7h2v10zm4 0h-2v-4h2v4z\"/>\n",
              "    </g>\n",
              "</svg>\n",
              "  </button>\n",
              "\n",
              "<style>\n",
              "  .colab-df-quickchart {\n",
              "      --bg-color: #E8F0FE;\n",
              "      --fill-color: #1967D2;\n",
              "      --hover-bg-color: #E2EBFA;\n",
              "      --hover-fill-color: #174EA6;\n",
              "      --disabled-fill-color: #AAA;\n",
              "      --disabled-bg-color: #DDD;\n",
              "  }\n",
              "\n",
              "  [theme=dark] .colab-df-quickchart {\n",
              "      --bg-color: #3B4455;\n",
              "      --fill-color: #D2E3FC;\n",
              "      --hover-bg-color: #434B5C;\n",
              "      --hover-fill-color: #FFFFFF;\n",
              "      --disabled-bg-color: #3B4455;\n",
              "      --disabled-fill-color: #666;\n",
              "  }\n",
              "\n",
              "  .colab-df-quickchart {\n",
              "    background-color: var(--bg-color);\n",
              "    border: none;\n",
              "    border-radius: 50%;\n",
              "    cursor: pointer;\n",
              "    display: none;\n",
              "    fill: var(--fill-color);\n",
              "    height: 32px;\n",
              "    padding: 0;\n",
              "    width: 32px;\n",
              "  }\n",
              "\n",
              "  .colab-df-quickchart:hover {\n",
              "    background-color: var(--hover-bg-color);\n",
              "    box-shadow: 0 1px 2px rgba(60, 64, 67, 0.3), 0 1px 3px 1px rgba(60, 64, 67, 0.15);\n",
              "    fill: var(--button-hover-fill-color);\n",
              "  }\n",
              "\n",
              "  .colab-df-quickchart-complete:disabled,\n",
              "  .colab-df-quickchart-complete:disabled:hover {\n",
              "    background-color: var(--disabled-bg-color);\n",
              "    fill: var(--disabled-fill-color);\n",
              "    box-shadow: none;\n",
              "  }\n",
              "\n",
              "  .colab-df-spinner {\n",
              "    border: 2px solid var(--fill-color);\n",
              "    border-color: transparent;\n",
              "    border-bottom-color: var(--fill-color);\n",
              "    animation:\n",
              "      spin 1s steps(1) infinite;\n",
              "  }\n",
              "\n",
              "  @keyframes spin {\n",
              "    0% {\n",
              "      border-color: transparent;\n",
              "      border-bottom-color: var(--fill-color);\n",
              "      border-left-color: var(--fill-color);\n",
              "    }\n",
              "    20% {\n",
              "      border-color: transparent;\n",
              "      border-left-color: var(--fill-color);\n",
              "      border-top-color: var(--fill-color);\n",
              "    }\n",
              "    30% {\n",
              "      border-color: transparent;\n",
              "      border-left-color: var(--fill-color);\n",
              "      border-top-color: var(--fill-color);\n",
              "      border-right-color: var(--fill-color);\n",
              "    }\n",
              "    40% {\n",
              "      border-color: transparent;\n",
              "      border-right-color: var(--fill-color);\n",
              "      border-top-color: var(--fill-color);\n",
              "    }\n",
              "    60% {\n",
              "      border-color: transparent;\n",
              "      border-right-color: var(--fill-color);\n",
              "    }\n",
              "    80% {\n",
              "      border-color: transparent;\n",
              "      border-right-color: var(--fill-color);\n",
              "      border-bottom-color: var(--fill-color);\n",
              "    }\n",
              "    90% {\n",
              "      border-color: transparent;\n",
              "      border-bottom-color: var(--fill-color);\n",
              "    }\n",
              "  }\n",
              "</style>\n",
              "\n",
              "  <script>\n",
              "    async function quickchart(key) {\n",
              "      const quickchartButtonEl =\n",
              "        document.querySelector('#' + key + ' button');\n",
              "      quickchartButtonEl.disabled = true;  // To prevent multiple clicks.\n",
              "      quickchartButtonEl.classList.add('colab-df-spinner');\n",
              "      try {\n",
              "        const charts = await google.colab.kernel.invokeFunction(\n",
              "            'suggestCharts', [key], {});\n",
              "      } catch (error) {\n",
              "        console.error('Error during call to suggestCharts:', error);\n",
              "      }\n",
              "      quickchartButtonEl.classList.remove('colab-df-spinner');\n",
              "      quickchartButtonEl.classList.add('colab-df-quickchart-complete');\n",
              "    }\n",
              "    (() => {\n",
              "      let quickchartButtonEl =\n",
              "        document.querySelector('#df-b40a03ab-12c2-4273-bec7-76f99362b8cc button');\n",
              "      quickchartButtonEl.style.display =\n",
              "        google.colab.kernel.accessAllowed ? 'block' : 'none';\n",
              "    })();\n",
              "  </script>\n",
              "</div>\n",
              "\n",
              "  <div id=\"id_a83601d0-06ba-4819-91ee-1dea9c4816c0\">\n",
              "    <style>\n",
              "      .colab-df-generate {\n",
              "        background-color: #E8F0FE;\n",
              "        border: none;\n",
              "        border-radius: 50%;\n",
              "        cursor: pointer;\n",
              "        display: none;\n",
              "        fill: #1967D2;\n",
              "        height: 32px;\n",
              "        padding: 0 0 0 0;\n",
              "        width: 32px;\n",
              "      }\n",
              "\n",
              "      .colab-df-generate:hover {\n",
              "        background-color: #E2EBFA;\n",
              "        box-shadow: 0px 1px 2px rgba(60, 64, 67, 0.3), 0px 1px 3px 1px rgba(60, 64, 67, 0.15);\n",
              "        fill: #174EA6;\n",
              "      }\n",
              "\n",
              "      [theme=dark] .colab-df-generate {\n",
              "        background-color: #3B4455;\n",
              "        fill: #D2E3FC;\n",
              "      }\n",
              "\n",
              "      [theme=dark] .colab-df-generate:hover {\n",
              "        background-color: #434B5C;\n",
              "        box-shadow: 0px 1px 3px 1px rgba(0, 0, 0, 0.15);\n",
              "        filter: drop-shadow(0px 1px 2px rgba(0, 0, 0, 0.3));\n",
              "        fill: #FFFFFF;\n",
              "      }\n",
              "    </style>\n",
              "    <button class=\"colab-df-generate\" onclick=\"generateWithVariable('data')\"\n",
              "            title=\"Generate code using this dataframe.\"\n",
              "            style=\"display:none;\">\n",
              "\n",
              "  <svg xmlns=\"http://www.w3.org/2000/svg\" height=\"24px\"viewBox=\"0 0 24 24\"\n",
              "       width=\"24px\">\n",
              "    <path d=\"M7,19H8.4L18.45,9,17,7.55,7,17.6ZM5,21V16.75L18.45,3.32a2,2,0,0,1,2.83,0l1.4,1.43a1.91,1.91,0,0,1,.58,1.4,1.91,1.91,0,0,1-.58,1.4L9.25,21ZM18.45,9,17,7.55Zm-12,3A5.31,5.31,0,0,0,4.9,8.1,5.31,5.31,0,0,0,1,6.5,5.31,5.31,0,0,0,4.9,4.9,5.31,5.31,0,0,0,6.5,1,5.31,5.31,0,0,0,8.1,4.9,5.31,5.31,0,0,0,12,6.5,5.46,5.46,0,0,0,6.5,12Z\"/>\n",
              "  </svg>\n",
              "    </button>\n",
              "    <script>\n",
              "      (() => {\n",
              "      const buttonEl =\n",
              "        document.querySelector('#id_a83601d0-06ba-4819-91ee-1dea9c4816c0 button.colab-df-generate');\n",
              "      buttonEl.style.display =\n",
              "        google.colab.kernel.accessAllowed ? 'block' : 'none';\n",
              "\n",
              "      buttonEl.onclick = () => {\n",
              "        google.colab.notebook.generateWithVariable('data');\n",
              "      }\n",
              "      })();\n",
              "    </script>\n",
              "  </div>\n",
              "\n",
              "    </div>\n",
              "  </div>\n"
            ]
          },
          "metadata": {},
          "execution_count": 49
        }
      ]
    },
    {
      "cell_type": "code",
      "source": [
        "# df['time'] = pd.to_datetime(df['Date'])\n",
        "# df.set_index('time',inplace=True)"
      ],
      "metadata": {
        "id": "BKyUPAEJPKpk",
        "execution": {
          "iopub.status.busy": "2024-01-22T12:21:10.342671Z",
          "iopub.execute_input": "2024-01-22T12:21:10.344228Z",
          "iopub.status.idle": "2024-01-22T12:21:36.952565Z",
          "shell.execute_reply.started": "2024-01-22T12:21:10.344165Z",
          "shell.execute_reply": "2024-01-22T12:21:36.951071Z"
        },
        "trusted": true
      },
      "execution_count": null,
      "outputs": []
    },
    {
      "cell_type": "code",
      "source": [
        "df.head()"
      ],
      "metadata": {
        "id": "Dnlw12Ld1_r2",
        "outputId": "f8d24f35-f89d-4c79-e638-96306773bbf9",
        "execution": {
          "iopub.status.busy": "2024-01-22T12:21:36.955072Z",
          "iopub.execute_input": "2024-01-22T12:21:36.955642Z",
          "iopub.status.idle": "2024-01-22T12:21:36.974252Z",
          "shell.execute_reply.started": "2024-01-22T12:21:36.955589Z",
          "shell.execute_reply": "2024-01-22T12:21:36.972800Z"
        },
        "trusted": true,
        "colab": {
          "base_uri": "https://localhost:8080/",
          "height": 238
        }
      },
      "execution_count": null,
      "outputs": [
        {
          "output_type": "execute_result",
          "data": {
            "text/plain": [
              "                                Open       High        Low      Close  \\\n",
              "Datetime                                                                \n",
              "2021-02-10 09:15:00+05:30  82.400002  82.400002  79.550003  79.599998   \n",
              "2021-02-10 10:15:00+05:30  79.050003  80.000000  77.900002  79.500000   \n",
              "2021-02-10 11:15:00+05:30  80.199997  80.699997  80.000000  80.050003   \n",
              "2021-02-10 12:15:00+05:30  80.099998  80.349998  80.000000  80.000000   \n",
              "2021-02-10 13:15:00+05:30  80.000000  80.050003  79.550003  80.000000   \n",
              "\n",
              "                           Adj Close  Volume  \n",
              "Datetime                                      \n",
              "2021-02-10 09:15:00+05:30  79.599998       0  \n",
              "2021-02-10 10:15:00+05:30  79.500000    7774  \n",
              "2021-02-10 11:15:00+05:30  80.050003    3551  \n",
              "2021-02-10 12:15:00+05:30  80.000000      53  \n",
              "2021-02-10 13:15:00+05:30  80.000000    2381  "
            ],
            "text/html": [
              "\n",
              "  <div id=\"df-6062cde8-f971-47a5-bd63-8ad98d0118c7\" class=\"colab-df-container\">\n",
              "    <div>\n",
              "<style scoped>\n",
              "    .dataframe tbody tr th:only-of-type {\n",
              "        vertical-align: middle;\n",
              "    }\n",
              "\n",
              "    .dataframe tbody tr th {\n",
              "        vertical-align: top;\n",
              "    }\n",
              "\n",
              "    .dataframe thead th {\n",
              "        text-align: right;\n",
              "    }\n",
              "</style>\n",
              "<table border=\"1\" class=\"dataframe\">\n",
              "  <thead>\n",
              "    <tr style=\"text-align: right;\">\n",
              "      <th></th>\n",
              "      <th>Open</th>\n",
              "      <th>High</th>\n",
              "      <th>Low</th>\n",
              "      <th>Close</th>\n",
              "      <th>Adj Close</th>\n",
              "      <th>Volume</th>\n",
              "    </tr>\n",
              "    <tr>\n",
              "      <th>Datetime</th>\n",
              "      <th></th>\n",
              "      <th></th>\n",
              "      <th></th>\n",
              "      <th></th>\n",
              "      <th></th>\n",
              "      <th></th>\n",
              "    </tr>\n",
              "  </thead>\n",
              "  <tbody>\n",
              "    <tr>\n",
              "      <th>2021-02-10 09:15:00+05:30</th>\n",
              "      <td>82.400002</td>\n",
              "      <td>82.400002</td>\n",
              "      <td>79.550003</td>\n",
              "      <td>79.599998</td>\n",
              "      <td>79.599998</td>\n",
              "      <td>0</td>\n",
              "    </tr>\n",
              "    <tr>\n",
              "      <th>2021-02-10 10:15:00+05:30</th>\n",
              "      <td>79.050003</td>\n",
              "      <td>80.000000</td>\n",
              "      <td>77.900002</td>\n",
              "      <td>79.500000</td>\n",
              "      <td>79.500000</td>\n",
              "      <td>7774</td>\n",
              "    </tr>\n",
              "    <tr>\n",
              "      <th>2021-02-10 11:15:00+05:30</th>\n",
              "      <td>80.199997</td>\n",
              "      <td>80.699997</td>\n",
              "      <td>80.000000</td>\n",
              "      <td>80.050003</td>\n",
              "      <td>80.050003</td>\n",
              "      <td>3551</td>\n",
              "    </tr>\n",
              "    <tr>\n",
              "      <th>2021-02-10 12:15:00+05:30</th>\n",
              "      <td>80.099998</td>\n",
              "      <td>80.349998</td>\n",
              "      <td>80.000000</td>\n",
              "      <td>80.000000</td>\n",
              "      <td>80.000000</td>\n",
              "      <td>53</td>\n",
              "    </tr>\n",
              "    <tr>\n",
              "      <th>2021-02-10 13:15:00+05:30</th>\n",
              "      <td>80.000000</td>\n",
              "      <td>80.050003</td>\n",
              "      <td>79.550003</td>\n",
              "      <td>80.000000</td>\n",
              "      <td>80.000000</td>\n",
              "      <td>2381</td>\n",
              "    </tr>\n",
              "  </tbody>\n",
              "</table>\n",
              "</div>\n",
              "    <div class=\"colab-df-buttons\">\n",
              "\n",
              "  <div class=\"colab-df-container\">\n",
              "    <button class=\"colab-df-convert\" onclick=\"convertToInteractive('df-6062cde8-f971-47a5-bd63-8ad98d0118c7')\"\n",
              "            title=\"Convert this dataframe to an interactive table.\"\n",
              "            style=\"display:none;\">\n",
              "\n",
              "  <svg xmlns=\"http://www.w3.org/2000/svg\" height=\"24px\" viewBox=\"0 -960 960 960\">\n",
              "    <path d=\"M120-120v-720h720v720H120Zm60-500h600v-160H180v160Zm220 220h160v-160H400v160Zm0 220h160v-160H400v160ZM180-400h160v-160H180v160Zm440 0h160v-160H620v160ZM180-180h160v-160H180v160Zm440 0h160v-160H620v160Z\"/>\n",
              "  </svg>\n",
              "    </button>\n",
              "\n",
              "  <style>\n",
              "    .colab-df-container {\n",
              "      display:flex;\n",
              "      gap: 12px;\n",
              "    }\n",
              "\n",
              "    .colab-df-convert {\n",
              "      background-color: #E8F0FE;\n",
              "      border: none;\n",
              "      border-radius: 50%;\n",
              "      cursor: pointer;\n",
              "      display: none;\n",
              "      fill: #1967D2;\n",
              "      height: 32px;\n",
              "      padding: 0 0 0 0;\n",
              "      width: 32px;\n",
              "    }\n",
              "\n",
              "    .colab-df-convert:hover {\n",
              "      background-color: #E2EBFA;\n",
              "      box-shadow: 0px 1px 2px rgba(60, 64, 67, 0.3), 0px 1px 3px 1px rgba(60, 64, 67, 0.15);\n",
              "      fill: #174EA6;\n",
              "    }\n",
              "\n",
              "    .colab-df-buttons div {\n",
              "      margin-bottom: 4px;\n",
              "    }\n",
              "\n",
              "    [theme=dark] .colab-df-convert {\n",
              "      background-color: #3B4455;\n",
              "      fill: #D2E3FC;\n",
              "    }\n",
              "\n",
              "    [theme=dark] .colab-df-convert:hover {\n",
              "      background-color: #434B5C;\n",
              "      box-shadow: 0px 1px 3px 1px rgba(0, 0, 0, 0.15);\n",
              "      filter: drop-shadow(0px 1px 2px rgba(0, 0, 0, 0.3));\n",
              "      fill: #FFFFFF;\n",
              "    }\n",
              "  </style>\n",
              "\n",
              "    <script>\n",
              "      const buttonEl =\n",
              "        document.querySelector('#df-6062cde8-f971-47a5-bd63-8ad98d0118c7 button.colab-df-convert');\n",
              "      buttonEl.style.display =\n",
              "        google.colab.kernel.accessAllowed ? 'block' : 'none';\n",
              "\n",
              "      async function convertToInteractive(key) {\n",
              "        const element = document.querySelector('#df-6062cde8-f971-47a5-bd63-8ad98d0118c7');\n",
              "        const dataTable =\n",
              "          await google.colab.kernel.invokeFunction('convertToInteractive',\n",
              "                                                    [key], {});\n",
              "        if (!dataTable) return;\n",
              "\n",
              "        const docLinkHtml = 'Like what you see? Visit the ' +\n",
              "          '<a target=\"_blank\" href=https://colab.research.google.com/notebooks/data_table.ipynb>data table notebook</a>'\n",
              "          + ' to learn more about interactive tables.';\n",
              "        element.innerHTML = '';\n",
              "        dataTable['output_type'] = 'display_data';\n",
              "        await google.colab.output.renderOutput(dataTable, element);\n",
              "        const docLink = document.createElement('div');\n",
              "        docLink.innerHTML = docLinkHtml;\n",
              "        element.appendChild(docLink);\n",
              "      }\n",
              "    </script>\n",
              "  </div>\n",
              "\n",
              "\n",
              "<div id=\"df-52520cfd-17bf-4ea5-abd8-b048e26ad020\">\n",
              "  <button class=\"colab-df-quickchart\" onclick=\"quickchart('df-52520cfd-17bf-4ea5-abd8-b048e26ad020')\"\n",
              "            title=\"Suggest charts\"\n",
              "            style=\"display:none;\">\n",
              "\n",
              "<svg xmlns=\"http://www.w3.org/2000/svg\" height=\"24px\"viewBox=\"0 0 24 24\"\n",
              "     width=\"24px\">\n",
              "    <g>\n",
              "        <path d=\"M19 3H5c-1.1 0-2 .9-2 2v14c0 1.1.9 2 2 2h14c1.1 0 2-.9 2-2V5c0-1.1-.9-2-2-2zM9 17H7v-7h2v7zm4 0h-2V7h2v10zm4 0h-2v-4h2v4z\"/>\n",
              "    </g>\n",
              "</svg>\n",
              "  </button>\n",
              "\n",
              "<style>\n",
              "  .colab-df-quickchart {\n",
              "      --bg-color: #E8F0FE;\n",
              "      --fill-color: #1967D2;\n",
              "      --hover-bg-color: #E2EBFA;\n",
              "      --hover-fill-color: #174EA6;\n",
              "      --disabled-fill-color: #AAA;\n",
              "      --disabled-bg-color: #DDD;\n",
              "  }\n",
              "\n",
              "  [theme=dark] .colab-df-quickchart {\n",
              "      --bg-color: #3B4455;\n",
              "      --fill-color: #D2E3FC;\n",
              "      --hover-bg-color: #434B5C;\n",
              "      --hover-fill-color: #FFFFFF;\n",
              "      --disabled-bg-color: #3B4455;\n",
              "      --disabled-fill-color: #666;\n",
              "  }\n",
              "\n",
              "  .colab-df-quickchart {\n",
              "    background-color: var(--bg-color);\n",
              "    border: none;\n",
              "    border-radius: 50%;\n",
              "    cursor: pointer;\n",
              "    display: none;\n",
              "    fill: var(--fill-color);\n",
              "    height: 32px;\n",
              "    padding: 0;\n",
              "    width: 32px;\n",
              "  }\n",
              "\n",
              "  .colab-df-quickchart:hover {\n",
              "    background-color: var(--hover-bg-color);\n",
              "    box-shadow: 0 1px 2px rgba(60, 64, 67, 0.3), 0 1px 3px 1px rgba(60, 64, 67, 0.15);\n",
              "    fill: var(--button-hover-fill-color);\n",
              "  }\n",
              "\n",
              "  .colab-df-quickchart-complete:disabled,\n",
              "  .colab-df-quickchart-complete:disabled:hover {\n",
              "    background-color: var(--disabled-bg-color);\n",
              "    fill: var(--disabled-fill-color);\n",
              "    box-shadow: none;\n",
              "  }\n",
              "\n",
              "  .colab-df-spinner {\n",
              "    border: 2px solid var(--fill-color);\n",
              "    border-color: transparent;\n",
              "    border-bottom-color: var(--fill-color);\n",
              "    animation:\n",
              "      spin 1s steps(1) infinite;\n",
              "  }\n",
              "\n",
              "  @keyframes spin {\n",
              "    0% {\n",
              "      border-color: transparent;\n",
              "      border-bottom-color: var(--fill-color);\n",
              "      border-left-color: var(--fill-color);\n",
              "    }\n",
              "    20% {\n",
              "      border-color: transparent;\n",
              "      border-left-color: var(--fill-color);\n",
              "      border-top-color: var(--fill-color);\n",
              "    }\n",
              "    30% {\n",
              "      border-color: transparent;\n",
              "      border-left-color: var(--fill-color);\n",
              "      border-top-color: var(--fill-color);\n",
              "      border-right-color: var(--fill-color);\n",
              "    }\n",
              "    40% {\n",
              "      border-color: transparent;\n",
              "      border-right-color: var(--fill-color);\n",
              "      border-top-color: var(--fill-color);\n",
              "    }\n",
              "    60% {\n",
              "      border-color: transparent;\n",
              "      border-right-color: var(--fill-color);\n",
              "    }\n",
              "    80% {\n",
              "      border-color: transparent;\n",
              "      border-right-color: var(--fill-color);\n",
              "      border-bottom-color: var(--fill-color);\n",
              "    }\n",
              "    90% {\n",
              "      border-color: transparent;\n",
              "      border-bottom-color: var(--fill-color);\n",
              "    }\n",
              "  }\n",
              "</style>\n",
              "\n",
              "  <script>\n",
              "    async function quickchart(key) {\n",
              "      const quickchartButtonEl =\n",
              "        document.querySelector('#' + key + ' button');\n",
              "      quickchartButtonEl.disabled = true;  // To prevent multiple clicks.\n",
              "      quickchartButtonEl.classList.add('colab-df-spinner');\n",
              "      try {\n",
              "        const charts = await google.colab.kernel.invokeFunction(\n",
              "            'suggestCharts', [key], {});\n",
              "      } catch (error) {\n",
              "        console.error('Error during call to suggestCharts:', error);\n",
              "      }\n",
              "      quickchartButtonEl.classList.remove('colab-df-spinner');\n",
              "      quickchartButtonEl.classList.add('colab-df-quickchart-complete');\n",
              "    }\n",
              "    (() => {\n",
              "      let quickchartButtonEl =\n",
              "        document.querySelector('#df-52520cfd-17bf-4ea5-abd8-b048e26ad020 button');\n",
              "      quickchartButtonEl.style.display =\n",
              "        google.colab.kernel.accessAllowed ? 'block' : 'none';\n",
              "    })();\n",
              "  </script>\n",
              "</div>\n",
              "\n",
              "    </div>\n",
              "  </div>\n"
            ]
          },
          "metadata": {},
          "execution_count": 51
        }
      ]
    },
    {
      "cell_type": "markdown",
      "source": [
        "## Data Visualization"
      ],
      "metadata": {
        "id": "0NECk8YUJmP9"
      }
    },
    {
      "cell_type": "code",
      "source": [
        "fig = px.line(x=df.index[2800+14:3400],y=validY[:,0])\n",
        "fig.show()"
      ],
      "metadata": {
        "id": "BGjcsb0yIGjo",
        "outputId": "c7b80218-d2c8-4a74-a18d-df9f576756dd",
        "execution": {
          "iopub.status.busy": "2024-01-22T12:21:36.976144Z",
          "iopub.execute_input": "2024-01-22T12:21:36.977524Z",
          "iopub.status.idle": "2024-01-22T12:21:46.153740Z",
          "shell.execute_reply.started": "2024-01-22T12:21:36.977442Z",
          "shell.execute_reply": "2024-01-22T12:21:46.151641Z"
        },
        "trusted": true,
        "colab": {
          "base_uri": "https://localhost:8080/",
          "height": 542
        }
      },
      "execution_count": null,
      "outputs": [
        {
          "output_type": "display_data",
          "data": {
            "text/html": [
              "<html>\n",
              "<head><meta charset=\"utf-8\" /></head>\n",
              "<body>\n",
              "    <div>            <script src=\"https://cdnjs.cloudflare.com/ajax/libs/mathjax/2.7.5/MathJax.js?config=TeX-AMS-MML_SVG\"></script><script type=\"text/javascript\">if (window.MathJax && window.MathJax.Hub && window.MathJax.Hub.Config) {window.MathJax.Hub.Config({SVG: {font: \"STIX-Web\"}});}</script>                <script type=\"text/javascript\">window.PlotlyConfig = {MathJaxConfig: 'local'};</script>\n",
              "        <script charset=\"utf-8\" src=\"https://cdn.plot.ly/plotly-2.24.1.min.js\"></script>                <div id=\"974ee45e-edc3-4b8b-bb8d-6b9419d79679\" class=\"plotly-graph-div\" style=\"height:525px; width:100%;\"></div>            <script type=\"text/javascript\">                                    window.PLOTLYENV=window.PLOTLYENV || {};                                    if (document.getElementById(\"974ee45e-edc3-4b8b-bb8d-6b9419d79679\")) {                    Plotly.newPlot(                        \"974ee45e-edc3-4b8b-bb8d-6b9419d79679\",                        [{\"hovertemplate\":\"x=%{x}\\u003cbr\\u003ey=%{y}\\u003cextra\\u003e\\u003c\\u002fextra\\u003e\",\"legendgroup\":\"\",\"line\":{\"color\":\"#636efa\",\"dash\":\"solid\"},\"marker\":{\"symbol\":\"circle\"},\"mode\":\"lines\",\"name\":\"\",\"orientation\":\"v\",\"showlegend\":false,\"x\":[\"2019-03-22T00:00:00\",\"2019-03-25T00:00:00\",\"2019-03-26T00:00:00\",\"2019-03-27T00:00:00\",\"2019-03-28T00:00:00\",\"2019-04-01T00:00:00\",\"2019-04-02T00:00:00\",\"2019-04-03T00:00:00\",\"2019-04-04T00:00:00\",\"2019-04-05T00:00:00\",\"2019-04-08T00:00:00\",\"2019-04-09T00:00:00\",\"2019-04-10T00:00:00\",\"2019-04-11T00:00:00\",\"2019-04-12T00:00:00\",\"2019-04-15T00:00:00\",\"2019-04-16T00:00:00\",\"2019-04-18T00:00:00\",\"2019-04-22T00:00:00\",\"2019-04-23T00:00:00\",\"2019-04-24T00:00:00\",\"2019-04-25T00:00:00\",\"2019-04-26T00:00:00\",\"2019-04-30T00:00:00\",\"2019-05-02T00:00:00\",\"2019-05-03T00:00:00\",\"2019-05-06T00:00:00\",\"2019-05-07T00:00:00\",\"2019-05-08T00:00:00\",\"2019-05-09T00:00:00\",\"2019-05-10T00:00:00\",\"2019-05-13T00:00:00\",\"2019-05-14T00:00:00\",\"2019-05-15T00:00:00\",\"2019-05-16T00:00:00\",\"2019-05-17T00:00:00\",\"2019-05-20T00:00:00\",\"2019-05-21T00:00:00\",\"2019-05-22T00:00:00\",\"2019-05-23T00:00:00\",\"2019-05-24T00:00:00\",\"2019-05-27T00:00:00\",\"2019-05-28T00:00:00\",\"2019-05-29T00:00:00\",\"2019-05-30T00:00:00\",\"2019-05-31T00:00:00\",\"2019-06-03T00:00:00\",\"2019-06-04T00:00:00\",\"2019-06-06T00:00:00\",\"2019-06-07T00:00:00\",\"2019-06-10T00:00:00\",\"2019-06-11T00:00:00\",\"2019-06-12T00:00:00\",\"2019-06-13T00:00:00\",\"2019-06-14T00:00:00\",\"2019-06-17T00:00:00\",\"2019-06-18T00:00:00\",\"2019-06-19T00:00:00\",\"2019-06-20T00:00:00\",\"2019-06-21T00:00:00\",\"2019-06-24T00:00:00\",\"2019-06-25T00:00:00\",\"2019-06-26T00:00:00\",\"2019-06-27T00:00:00\",\"2019-06-28T00:00:00\",\"2019-07-01T00:00:00\",\"2019-07-02T00:00:00\",\"2019-07-03T00:00:00\",\"2019-07-04T00:00:00\",\"2019-07-05T00:00:00\",\"2019-07-08T00:00:00\",\"2019-07-09T00:00:00\",\"2019-07-10T00:00:00\",\"2019-07-11T00:00:00\",\"2019-07-12T00:00:00\",\"2019-07-15T00:00:00\",\"2019-07-16T00:00:00\",\"2019-07-17T00:00:00\",\"2019-07-18T00:00:00\",\"2019-07-19T00:00:00\",\"2019-07-22T00:00:00\",\"2019-07-23T00:00:00\",\"2019-07-24T00:00:00\",\"2019-07-25T00:00:00\",\"2019-07-26T00:00:00\",\"2019-07-29T00:00:00\",\"2019-07-30T00:00:00\",\"2019-07-31T00:00:00\",\"2019-08-01T00:00:00\",\"2019-08-02T00:00:00\",\"2019-08-05T00:00:00\",\"2019-08-06T00:00:00\",\"2019-08-07T00:00:00\",\"2019-08-08T00:00:00\",\"2019-08-09T00:00:00\",\"2019-08-13T00:00:00\",\"2019-08-14T00:00:00\",\"2019-08-16T00:00:00\",\"2019-08-19T00:00:00\",\"2019-08-20T00:00:00\",\"2019-08-21T00:00:00\",\"2019-08-22T00:00:00\",\"2019-08-23T00:00:00\",\"2019-08-26T00:00:00\",\"2019-08-27T00:00:00\",\"2019-08-28T00:00:00\",\"2019-08-29T00:00:00\",\"2019-08-30T00:00:00\",\"2019-09-03T00:00:00\",\"2019-09-04T00:00:00\",\"2019-09-05T00:00:00\",\"2019-09-06T00:00:00\",\"2019-09-09T00:00:00\",\"2019-09-11T00:00:00\",\"2019-09-12T00:00:00\",\"2019-09-13T00:00:00\",\"2019-09-16T00:00:00\",\"2019-09-17T00:00:00\",\"2019-09-18T00:00:00\",\"2019-09-19T00:00:00\",\"2019-09-20T00:00:00\",\"2019-09-23T00:00:00\",\"2019-09-24T00:00:00\",\"2019-09-25T00:00:00\",\"2019-09-26T00:00:00\",\"2019-09-27T00:00:00\",\"2019-09-30T00:00:00\",\"2019-10-01T00:00:00\",\"2019-10-03T00:00:00\",\"2019-10-04T00:00:00\",\"2019-10-07T00:00:00\",\"2019-10-09T00:00:00\",\"2019-10-10T00:00:00\",\"2019-10-11T00:00:00\",\"2019-10-14T00:00:00\",\"2019-10-15T00:00:00\",\"2019-10-16T00:00:00\",\"2019-10-17T00:00:00\",\"2019-10-18T00:00:00\",\"2019-10-22T00:00:00\",\"2019-10-23T00:00:00\",\"2019-10-24T00:00:00\",\"2019-10-25T00:00:00\",\"2019-10-29T00:00:00\",\"2019-10-30T00:00:00\",\"2019-10-31T00:00:00\",\"2019-11-01T00:00:00\",\"2019-11-04T00:00:00\",\"2019-11-05T00:00:00\",\"2019-11-06T00:00:00\",\"2019-11-07T00:00:00\",\"2019-11-08T00:00:00\",\"2019-11-11T00:00:00\",\"2019-11-13T00:00:00\",\"2019-11-14T00:00:00\",\"2019-11-15T00:00:00\",\"2019-11-18T00:00:00\",\"2019-11-19T00:00:00\",\"2019-11-20T00:00:00\",\"2019-11-21T00:00:00\",\"2019-11-22T00:00:00\",\"2019-11-25T00:00:00\",\"2019-11-26T00:00:00\",\"2019-11-27T00:00:00\",\"2019-11-28T00:00:00\",\"2019-11-29T00:00:00\",\"2019-12-02T00:00:00\",\"2019-12-03T00:00:00\",\"2019-12-04T00:00:00\",\"2019-12-05T00:00:00\",\"2019-12-06T00:00:00\",\"2019-12-09T00:00:00\",\"2019-12-10T00:00:00\",\"2019-12-11T00:00:00\",\"2019-12-12T00:00:00\",\"2019-12-13T00:00:00\",\"2019-12-16T00:00:00\",\"2019-12-17T00:00:00\",\"2019-12-18T00:00:00\",\"2019-12-19T00:00:00\",\"2019-12-20T00:00:00\",\"2019-12-23T00:00:00\",\"2019-12-24T00:00:00\",\"2019-12-26T00:00:00\",\"2019-12-27T00:00:00\",\"2019-12-30T00:00:00\",\"2019-12-31T00:00:00\",\"2020-01-01T00:00:00\",\"2020-01-02T00:00:00\",\"2020-01-03T00:00:00\",\"2020-01-06T00:00:00\",\"2020-01-07T00:00:00\",\"2020-01-08T00:00:00\",\"2020-01-09T00:00:00\",\"2020-01-10T00:00:00\",\"2020-01-13T00:00:00\",\"2020-01-14T00:00:00\",\"2020-01-15T00:00:00\",\"2020-01-16T00:00:00\",\"2020-01-17T00:00:00\",\"2020-01-20T00:00:00\",\"2020-01-21T00:00:00\",\"2020-01-22T00:00:00\",\"2020-01-23T00:00:00\",\"2020-01-24T00:00:00\",\"2020-01-27T00:00:00\",\"2020-01-28T00:00:00\",\"2020-01-29T00:00:00\",\"2020-01-30T00:00:00\",\"2020-01-31T00:00:00\",\"2020-02-03T00:00:00\",\"2020-02-04T00:00:00\",\"2020-02-05T00:00:00\",\"2020-02-06T00:00:00\",\"2020-02-07T00:00:00\",\"2020-02-10T00:00:00\",\"2020-02-11T00:00:00\",\"2020-02-12T00:00:00\",\"2020-02-13T00:00:00\",\"2020-02-14T00:00:00\",\"2020-02-17T00:00:00\",\"2020-02-18T00:00:00\",\"2020-02-19T00:00:00\",\"2020-02-20T00:00:00\",\"2020-02-24T00:00:00\",\"2020-02-25T00:00:00\",\"2020-02-26T00:00:00\",\"2020-02-27T00:00:00\",\"2020-02-28T00:00:00\",\"2020-03-02T00:00:00\",\"2020-03-03T00:00:00\",\"2020-03-04T00:00:00\",\"2020-03-05T00:00:00\",\"2020-03-06T00:00:00\",\"2020-03-09T00:00:00\",\"2020-03-11T00:00:00\",\"2020-03-12T00:00:00\",\"2020-03-13T00:00:00\",\"2020-03-16T00:00:00\",\"2020-03-17T00:00:00\",\"2020-03-18T00:00:00\",\"2020-03-19T00:00:00\",\"2020-03-20T00:00:00\",\"2020-03-23T00:00:00\",\"2020-03-24T00:00:00\",\"2020-03-25T00:00:00\",\"2020-03-26T00:00:00\",\"2020-03-27T00:00:00\",\"2020-03-30T00:00:00\",\"2020-03-31T00:00:00\",\"2020-04-01T00:00:00\",\"2020-04-03T00:00:00\",\"2020-04-07T00:00:00\",\"2020-04-08T00:00:00\",\"2020-04-09T00:00:00\",\"2020-04-13T00:00:00\",\"2020-04-15T00:00:00\",\"2020-04-16T00:00:00\",\"2020-04-17T00:00:00\",\"2020-04-20T00:00:00\",\"2020-04-21T00:00:00\",\"2020-04-22T00:00:00\",\"2020-04-23T00:00:00\",\"2020-04-24T00:00:00\",\"2020-04-27T00:00:00\",\"2020-04-28T00:00:00\",\"2020-04-29T00:00:00\",\"2020-04-30T00:00:00\",\"2020-05-04T00:00:00\",\"2020-05-05T00:00:00\",\"2020-05-06T00:00:00\",\"2020-05-07T00:00:00\",\"2020-05-08T00:00:00\",\"2020-05-11T00:00:00\",\"2020-05-12T00:00:00\",\"2020-05-13T00:00:00\",\"2020-05-14T00:00:00\",\"2020-05-15T00:00:00\",\"2020-05-18T00:00:00\",\"2020-05-19T00:00:00\",\"2020-05-20T00:00:00\",\"2020-05-21T00:00:00\",\"2020-05-22T00:00:00\",\"2020-05-26T00:00:00\",\"2020-05-27T00:00:00\",\"2020-05-28T00:00:00\",\"2020-05-29T00:00:00\",\"2020-06-01T00:00:00\",\"2020-06-02T00:00:00\",\"2020-06-03T00:00:00\",\"2020-06-04T00:00:00\",\"2020-06-05T00:00:00\",\"2020-06-08T00:00:00\",\"2020-06-09T00:00:00\",\"2020-06-10T00:00:00\",\"2020-06-11T00:00:00\",\"2020-06-12T00:00:00\",\"2020-06-15T00:00:00\",\"2020-06-16T00:00:00\",\"2020-06-17T00:00:00\",\"2020-06-18T00:00:00\",\"2020-06-19T00:00:00\",\"2020-06-22T00:00:00\",\"2020-06-23T00:00:00\",\"2020-06-24T00:00:00\",\"2020-06-25T00:00:00\",\"2020-06-26T00:00:00\",\"2020-06-29T00:00:00\",\"2020-06-30T00:00:00\",\"2020-07-01T00:00:00\",\"2020-07-02T00:00:00\",\"2020-07-03T00:00:00\",\"2020-07-06T00:00:00\",\"2020-07-07T00:00:00\",\"2020-07-08T00:00:00\",\"2020-07-09T00:00:00\",\"2020-07-10T00:00:00\",\"2020-07-13T00:00:00\",\"2020-07-14T00:00:00\",\"2020-07-15T00:00:00\",\"2020-07-16T00:00:00\",\"2020-07-17T00:00:00\",\"2020-07-20T00:00:00\",\"2020-07-21T00:00:00\",\"2020-07-22T00:00:00\",\"2020-07-23T00:00:00\",\"2020-07-24T00:00:00\",\"2020-07-27T00:00:00\",\"2020-07-28T00:00:00\",\"2020-07-29T00:00:00\",\"2020-07-30T00:00:00\",\"2020-07-31T00:00:00\",\"2020-08-03T00:00:00\",\"2020-08-04T00:00:00\",\"2020-08-05T00:00:00\",\"2020-08-06T00:00:00\",\"2020-08-07T00:00:00\",\"2020-08-10T00:00:00\",\"2020-08-11T00:00:00\",\"2020-08-12T00:00:00\",\"2020-08-13T00:00:00\",\"2020-08-14T00:00:00\",\"2020-08-17T00:00:00\",\"2020-08-18T00:00:00\",\"2020-08-19T00:00:00\",\"2020-08-20T00:00:00\",\"2020-08-21T00:00:00\",\"2020-08-24T00:00:00\",\"2020-08-25T00:00:00\",\"2020-08-26T00:00:00\",\"2020-08-27T00:00:00\",\"2020-08-28T00:00:00\",\"2020-08-31T00:00:00\",\"2020-09-01T00:00:00\",\"2020-09-02T00:00:00\",\"2020-09-03T00:00:00\",\"2020-09-04T00:00:00\",\"2020-09-07T00:00:00\",\"2020-09-08T00:00:00\",\"2020-09-09T00:00:00\",\"2020-09-10T00:00:00\",\"2020-09-11T00:00:00\",\"2020-09-14T00:00:00\",\"2020-09-15T00:00:00\",\"2020-09-16T00:00:00\",\"2020-09-17T00:00:00\",\"2020-09-18T00:00:00\",\"2020-09-21T00:00:00\",\"2020-09-22T00:00:00\",\"2020-09-23T00:00:00\",\"2020-09-24T00:00:00\",\"2020-09-25T00:00:00\",\"2020-09-28T00:00:00\",\"2020-09-29T00:00:00\",\"2020-09-30T00:00:00\",\"2020-10-01T00:00:00\",\"2020-10-05T00:00:00\",\"2020-10-06T00:00:00\",\"2020-10-07T00:00:00\",\"2020-10-08T00:00:00\",\"2020-10-09T00:00:00\",\"2020-10-12T00:00:00\",\"2020-10-13T00:00:00\",\"2020-10-14T00:00:00\",\"2020-10-15T00:00:00\",\"2020-10-16T00:00:00\",\"2020-10-19T00:00:00\",\"2020-10-20T00:00:00\",\"2020-10-21T00:00:00\",\"2020-10-22T00:00:00\",\"2020-10-23T00:00:00\",\"2020-10-26T00:00:00\",\"2020-10-27T00:00:00\",\"2020-10-28T00:00:00\",\"2020-10-29T00:00:00\",\"2020-10-30T00:00:00\",\"2020-11-02T00:00:00\",\"2020-11-03T00:00:00\",\"2020-11-04T00:00:00\",\"2020-11-05T00:00:00\",\"2020-11-06T00:00:00\",\"2020-11-09T00:00:00\",\"2020-11-10T00:00:00\",\"2020-11-11T00:00:00\",\"2020-11-12T00:00:00\",\"2020-11-13T00:00:00\",\"2020-11-17T00:00:00\",\"2020-11-18T00:00:00\",\"2020-11-19T00:00:00\",\"2020-11-20T00:00:00\",\"2020-11-23T00:00:00\",\"2020-11-24T00:00:00\",\"2020-11-25T00:00:00\",\"2020-11-26T00:00:00\",\"2020-11-27T00:00:00\",\"2020-12-01T00:00:00\",\"2020-12-02T00:00:00\",\"2020-12-03T00:00:00\",\"2020-12-04T00:00:00\",\"2020-12-07T00:00:00\",\"2020-12-08T00:00:00\",\"2020-12-09T00:00:00\",\"2020-12-10T00:00:00\",\"2020-12-11T00:00:00\",\"2020-12-14T00:00:00\",\"2020-12-15T00:00:00\",\"2020-12-16T00:00:00\",\"2020-12-17T00:00:00\",\"2020-12-18T00:00:00\",\"2020-12-21T00:00:00\",\"2020-12-22T00:00:00\",\"2020-12-23T00:00:00\",\"2020-12-24T00:00:00\",\"2020-12-28T00:00:00\",\"2020-12-29T00:00:00\",\"2020-12-30T00:00:00\",\"2020-12-31T00:00:00\",\"2021-01-01T00:00:00\",\"2021-01-04T00:00:00\",\"2021-01-05T00:00:00\",\"2021-01-06T00:00:00\",\"2021-01-07T00:00:00\",\"2021-01-08T00:00:00\",\"2021-01-11T00:00:00\",\"2021-01-12T00:00:00\",\"2021-01-13T00:00:00\",\"2021-01-14T00:00:00\",\"2021-01-15T00:00:00\",\"2021-01-18T00:00:00\",\"2021-01-19T00:00:00\",\"2021-01-20T00:00:00\",\"2021-01-21T00:00:00\",\"2021-01-22T00:00:00\",\"2021-01-25T00:00:00\",\"2021-01-27T00:00:00\",\"2021-01-28T00:00:00\",\"2021-01-29T00:00:00\",\"2021-02-01T00:00:00\",\"2021-02-02T00:00:00\",\"2021-02-03T00:00:00\",\"2021-02-04T00:00:00\",\"2021-02-05T00:00:00\",\"2021-02-08T00:00:00\",\"2021-02-09T00:00:00\",\"2021-02-10T00:00:00\",\"2021-02-11T00:00:00\",\"2021-02-12T00:00:00\",\"2021-02-15T00:00:00\",\"2021-02-16T00:00:00\",\"2021-02-17T00:00:00\",\"2021-02-18T00:00:00\",\"2021-02-19T00:00:00\",\"2021-02-22T00:00:00\",\"2021-02-23T00:00:00\",\"2021-02-24T00:00:00\",\"2021-02-25T00:00:00\",\"2021-02-26T00:00:00\",\"2021-03-01T00:00:00\",\"2021-03-02T00:00:00\",\"2021-03-03T00:00:00\",\"2021-03-04T00:00:00\",\"2021-03-05T00:00:00\",\"2021-03-08T00:00:00\",\"2021-03-09T00:00:00\",\"2021-03-10T00:00:00\",\"2021-03-12T00:00:00\",\"2021-03-15T00:00:00\",\"2021-03-16T00:00:00\",\"2021-03-17T00:00:00\",\"2021-03-18T00:00:00\",\"2021-03-19T00:00:00\",\"2021-03-22T00:00:00\",\"2021-03-23T00:00:00\",\"2021-03-24T00:00:00\",\"2021-03-25T00:00:00\",\"2021-03-26T00:00:00\",\"2021-03-30T00:00:00\",\"2021-03-31T00:00:00\",\"2021-04-01T00:00:00\",\"2021-04-05T00:00:00\",\"2021-04-06T00:00:00\",\"2021-04-07T00:00:00\",\"2021-04-08T00:00:00\",\"2021-04-09T00:00:00\",\"2021-04-12T00:00:00\",\"2021-04-13T00:00:00\",\"2021-04-15T00:00:00\",\"2021-04-16T00:00:00\",\"2021-04-19T00:00:00\",\"2021-04-20T00:00:00\",\"2021-04-22T00:00:00\",\"2021-04-23T00:00:00\",\"2021-04-26T00:00:00\",\"2021-04-27T00:00:00\",\"2021-04-28T00:00:00\",\"2021-04-29T00:00:00\",\"2021-04-30T00:00:00\",\"2021-05-03T00:00:00\",\"2021-05-04T00:00:00\",\"2021-05-05T00:00:00\",\"2021-05-06T00:00:00\",\"2021-05-07T00:00:00\",\"2021-05-10T00:00:00\",\"2021-05-11T00:00:00\",\"2021-05-12T00:00:00\",\"2021-05-14T00:00:00\",\"2021-05-17T00:00:00\",\"2021-05-18T00:00:00\",\"2021-05-19T00:00:00\",\"2021-05-20T00:00:00\",\"2021-05-21T00:00:00\",\"2021-05-24T00:00:00\",\"2021-05-25T00:00:00\",\"2021-05-26T00:00:00\",\"2021-05-27T00:00:00\",\"2021-05-28T00:00:00\",\"2021-05-31T00:00:00\",\"2021-06-01T00:00:00\",\"2021-06-02T00:00:00\",\"2021-06-03T00:00:00\",\"2021-06-04T00:00:00\",\"2021-06-07T00:00:00\",\"2021-06-08T00:00:00\",\"2021-06-09T00:00:00\",\"2021-06-10T00:00:00\",\"2021-06-11T00:00:00\",\"2021-06-14T00:00:00\",\"2021-06-15T00:00:00\",\"2021-06-16T00:00:00\",\"2021-06-17T00:00:00\",\"2021-06-18T00:00:00\",\"2021-06-21T00:00:00\",\"2021-06-22T00:00:00\",\"2021-06-23T00:00:00\",\"2021-06-24T00:00:00\",\"2021-06-25T00:00:00\",\"2021-06-28T00:00:00\",\"2021-06-29T00:00:00\",\"2021-06-30T00:00:00\",\"2021-07-01T00:00:00\",\"2021-07-02T00:00:00\",\"2021-07-05T00:00:00\",\"2021-07-06T00:00:00\",\"2021-07-07T00:00:00\",\"2021-07-08T00:00:00\",\"2021-07-09T00:00:00\",\"2021-07-12T00:00:00\",\"2021-07-13T00:00:00\",\"2021-07-14T00:00:00\",\"2021-07-15T00:00:00\",\"2021-07-16T00:00:00\",\"2021-07-19T00:00:00\",\"2021-07-20T00:00:00\",\"2021-07-22T00:00:00\",\"2021-07-23T00:00:00\",\"2021-07-26T00:00:00\",\"2021-07-27T00:00:00\",\"2021-07-28T00:00:00\",\"2021-07-29T00:00:00\",\"2021-07-30T00:00:00\",\"2021-08-02T00:00:00\",\"2021-08-03T00:00:00\",\"2021-08-04T00:00:00\",\"2021-08-05T00:00:00\",\"2021-08-06T00:00:00\",\"2021-08-09T00:00:00\"],\"xaxis\":\"x\",\"y\":[0.4563728953398447,0.4511284727495172,0.45771910051072795,0.45576744727266416,0.4621511699547981,0.4672167770632324,0.4694672876496614,0.4659292956150579,0.46358169380994463,0.4670532786441016,0.46391377970488934,0.46735981947020444,0.462881748945134,0.46351528660949814,0.465903750546216,0.468299848067959,0.4732454133099213,0.47149043714485506,0.4634003337997096,0.4624551662525592,0.47012891491120923,0.46581943186195274,0.47158498383519765,0.47125289794025293,0.47005736876136683,0.4694187420403193,0.4635944663443655,0.45846759098488077,0.4513941514440154,0.44844878504945906,0.4472788508321275,0.4406013598583116,0.4443743465691756,0.4410509430913866,0.44616504591645045,0.4538311609900755,0.47534519801164066,0.46925778814953034,0.470729224028994,0.46659855646163073,0.47615495673684394,0.4802753962981279,0.4804797568488631,0.4770234890774686,0.4813559726672254,0.4801757605511019,0.4886439508721926,0.4852260505967736,0.47613709514573965,0.477511439806519,0.4801706714944186,0.4823624084654262,0.47932768422263583,0.4797287218463686,0.4750922918515633,0.46737004747628375,0.4683586216833804,0.4683560771550387,0.475524013493534,0.47002414021478733,0.4687750262625884,0.4737205416118382,0.4763312276903956,0.4760246868642928,0.4733322266298138,0.47725339469704575,0.47953713383005436,0.4798666751966574,0.4813993793271716,0.4744715766143327,0.46156872242811764,0.4614308189705415,0.45851868112256455,0.46281025268800413,0.4612570925453314,0.46308865402421084,0.46688209674723335,0.46815426113264513,0.46352551461557745,0.4544493316989645,0.4507172071197051,0.4499431715767104,0.44689053585010297,0.44591218964908574,0.4475547076399925,0.4426960555033477,0.43739290919031126,0.4390584277217182,0.43200798872135315,0.4328943826530821,0.4260099866001894,0.4303858768498924,0.4256472665797194,0.43468767642141126,0.43863184502914354,0.42924143780869006,0.4345318614800182,0.43547189007777265,0.4357835698532714,0.43389832381565396,0.4288761732598785,0.4198153074060281,0.42431123952220295,0.4359853359829523,0.4384121175229331,0.43538502686516767,0.4303884213782341,0.4342176371761777,0.4227044946062173,0.42509295854293516,0.4252590014904075,0.4302811520461831,0.43318560641642234,0.4348537193688836,0.4321510311283253,0.4369075528823151,0.43320860695692254,0.4237109304044182,0.4248885979922,0.4179479728522275,0.44703871720647104,0.4636941020913915,0.46308102043918586,0.45551968006198273,0.4622124880985612,0.459208397981296,0.45726951727765297,0.4514171519845157,0.449072094707744,0.44195779303527416,0.4394876048353472,0.4490363216328228,0.44501297329022316,0.4486148279969314,0.45045921190294436,0.4549116874664604,0.4567356153603147,0.4629864737488433,0.46684377914397046,0.46308865402421084,0.46389332369273073,0.462794885732529,0.462861342825688,0.4732300463544461,0.47615495673684394,0.4778588427642264,0.4785306481391409,0.48112092809825235,0.4798896757371577,0.4823854090059265,0.4847355553393815,0.4794273199696617,0.4796980877208433,0.4759685076699256,0.47758548059199046,0.47877846524253487,0.4782190182563547,0.48105960995448926,0.48407392807783367,0.482505500765111,0.4797466333301855,0.4878878268130148,0.4860460373280562,0.48926471600213584,0.49184222342682626,0.4869835213974689,0.48658248377373614,0.48382361633881066,0.4863270330853171,0.48506000764930124,0.4801093533506555,0.4809267955535964,0.4768038114639708,0.4795295002450294,0.48267917729760834,0.48854945407456263,0.48687625206541796,0.492549801876662,0.4954440781335345,0.4973880478938608,0.49800621860274985,0.49754386283525387,0.495081308220352,0.4905853761041772,0.4966778750229709,0.49719132092815066,0.49272607283021364,0.49344387928612854,0.4985375759917464,0.49569952882195356,0.48376484272338927,0.4868251619277342,0.48541504419203363,0.4951503098418527,0.49723986653749275,0.5009566740539896,0.5026298760631341,0.5016591634471419,0.5022824731054268,0.5021215192146378,0.4955922095971901,0.4927975690873434,0.48958148483431796,0.49333401553302336,0.49680305583883877,0.490199655543207,0.4869707488630479,0.49073610198888695,0.4859489461093719,0.48218359298353297,0.46919651989847977,0.48308026481405375,0.4886746348904304,0.49116782363085754,0.48914462424295135,0.48572926849587406,0.48963257497200174,0.4943992748393582,0.49304284166239576,0.48991611525760437,0.48645984748620996,0.4837367531262057,0.4905521974503102,0.4882505468334848,0.47540397162706205,0.4737946322900223,0.46769444989349085,0.46538516569164035,0.4433372267527369,0.4398120072525543,0.44852542025598474,0.44585341603366435,0.4467730385119728,0.43249080050100763,0.4050043064271206,0.4053593928625655,0.361000380818602,0.3796508256015324,0.3409347292432876,0.32916608609219555,0.3037104249912398,0.29321908517495543,0.3178445315385494,0.25984699726135163,0.2695949855528791,0.2959983587293269,0.3125311572194337,0.31349164182934675,0.2941207961694471,0.310298508224109,0.29272604538922176,0.2840407219829749,0.3202329954752673,0.31801311901436347,0.33656652247132224,0.330535291803579,0.3270330728438967,0.3304816571375535,0.3444778103345745,0.3442274487028387,0.32990180403192737,0.3404186889170536,0.34688673028345085,0.338737853322884,0.34527225199701506,0.35030976950826576,0.35912022383766784,0.3747819454588083,0.3458444715176162,0.3413536284581248,0.3446898543630472,0.34101899803483837,0.34369868573489637,0.34307028701992814,0.3408912726906288,0.3504451284375003,0.3381426332617826,0.3378411814923632,0.321819334271807,0.3246726985043624,0.3342495547917341,0.3362778432363237,0.3328548040115088,0.33233367462859154,0.34694036494947633,0.3558887726291672,0.360497113026789,0.37305765331197993,0.38087184995654777,0.3850842417871201,0.383426356840738,0.3892021368200622,0.39049470732492,0.3843230286712589,0.38787379324028337,0.3769328202982115,0.3805551310170783,0.372421571119274,0.37754590195041715,0.3758676108845892,0.3866220848670301,0.39442610339823125,0.39783891461696697,0.40600310864029643,0.39753746284754743,0.39669961452516067,0.4015071765241216,0.39790023276073005,0.39737396442841677,0.4039109575236022,0.41012609272992206,0.4129692289563982,0.42095465739054705,0.42279390234716396,0.4179965184615697,0.423498936268658,0.42117942406072817,0.4229497172885571,0.4129692289563982,0.4135235868858951,0.41974381114889836,0.4280076409192538,0.4341640025101523,0.44131916631422663,0.4398043237748167,0.4440371716175475,0.442948961663425,0.43976346164321223,0.4483849223773543,0.4433934059471041,0.43824866899651493,0.4367823720664472,0.4274916005930198,0.4378961270894117,0.43822312392767304,0.44325550248952783,0.44396562546770524,0.4468318121273942,0.4495063608780564,0.4487860098937997,0.448379833320671,0.4421442919949051,0.4456541445396124,0.45271735607439845,0.45389502366218026,0.44898014243845563,0.45201486668124613,0.4568607961761826,0.4571571089962061,0.46110891118896336,0.46160195097469714,0.46611574468197625,0.4528272198275036,0.4570549287208385,0.46036301513586486,0.45997729457489467,0.45008621398368254,0.45116933488112165,0.44924322671189976,0.447232849751127,0.4559820358294786,0.456758615900815,0.4555119965842451,0.45968861533989613,0.46391632423323104,0.4593973915765559,0.45882776647700907,0.44583041549316405,0.44087981108723096,0.4397660061715539,0.42309530422387087,0.4355970708936404,0.44465534232643655,0.44439225805299254,0.4456771450801127,0.45433183436083424,0.4587459923210875,0.4668719186338667,0.47077771974562344,0.47566960042884776,0.4797364053241062,0.48059216513031,0.48077352514054494,0.48264085969434556,0.4677889466911209,0.47198347693058884,0.47763402620133266,0.47884741697132294,0.480934479031334,0.47882955538021865,0.4805614811120721,0.47225424468177046,0.47846937988809035,0.47030513597204826,0.46730104585478305,0.46585011588019054,0.4672167770632324,0.47459161848080456,0.479445181560766,0.49026606274365336,0.49758472496685846,0.5076750271594099,0.5163628950939985,0.5223941257617416,0.5194129862922641,0.520902283762832,0.5287829375005589,0.5320552508406642,0.5235461983879689,0.5280089019575642,0.5314523971945377,0.5380277078929859,0.5279757233036974,0.5345458950527496,0.5336237280460995,0.5407814363785155,0.5410215700041718,0.5420510562355856,0.5484194119622443,0.5533853833236527,0.5552859464240327,0.5622418387340552,0.5596464697182605,0.5614627141343772,0.5637260471479398,0.5642215815693027,0.5700893138179152,0.5730525418035759,0.5740666610795144,0.5519880880150857,0.5590333880660548,0.5659203286472891,0.5734893525022299,0.57982198504668,0.5828567092894705,0.5853780375197938,0.5853678095137146,0.5872453720735944,0.5930901037817067,0.5964926869943631,0.5937721371627005,0.5933174149802296,0.6040412548371452,0.6110661487686684,0.6150869525829263,0.6151584488400562,0.6167294705738332,0.6084580072184527,0.6006718502783558,0.6129258497374439,0.6192380262697356,0.6164612473509932,0.6053006466881361,0.59850565837619,0.5846397750517204,0.5769787989274913,0.5676318482596966,0.6006667612216724,0.619398930267812,0.6266588687683082,0.6320591063000289,0.6335202642807006,0.643306570175491,0.6429744842805463,0.6428314418735741,0.6462442530923098,0.6457333517154717,0.6534684185178848,0.65340455584578,0.6480630919294808,0.64346752406628,0.6364579471975195,0.6208218205379334,0.6224617940004986,0.6364707197319404,0.6423639471566823,0.6133345708389144,0.6252078889010031,0.6332571301145441,0.6499380600683063,0.6415158708282162,0.6342278427305363,0.6351526041582407,0.6424176317154203,0.6463208882988355,0.6389715919501052,0.6337884875035407,0.6328152303592067,0.6231515108592299,0.6148008178762695,0.6243112669631948,0.6239230018738829,0.6279258942043241,0.6143691461270114,0.6028994102169972,0.6122182213948957,0.6294764599259425,0.6215881726031905,0.6306132154894072,0.6188854843626322,0.6212203136333246,0.6281455718178219,0.6309427568560102,0.6289527860146835,0.602179009340028,0.6120904960506862,0.6160065750612349,0.6178662261372978,0.6046645644954302,0.6014433412930088,0.6070504839038063,0.6037398030677258,0.6110789213030894,0.6196646089623102,0.630470173082435,0.632020788696766,0.6185431704616082,0.6186990352957139,0.6116664578864531,0.6178662261372978,0.6233303263411233,0.628355071317953,0.6344449758156925,0.629765139160941,0.6218844854232141,0.6209290898699844,0.6334640850863336,0.6429131661367832,0.6389307298185006,0.6325904137963129,0.6463464333676774,0.6474908724088797,0.6480400913889806,0.6527914741935744,0.6546511252696373,0.6596477806492835,0.6671656644738279,0.6667594879006992,0.6668284895221998,0.6726603988031786,0.6716335069928191,0.6757922641573659,0.6752021331529479,0.6698504412305694,0.675082091286476,0.6782292238107134,0.6788678505317609,0.6818004443918964,0.6766045674109108,0.6727140833619166,0.6723027678393919,0.6755291299912093,0.6768702461054091,0.6724867222706812,0.677774551520955,0.6813457222094255,0.6790134873597873,0.6756287657382352,0.6742518765491141,0.6721316358352363,0.6742876496240353,0.6800173786296465,0.6791948473700222,0.6823318017808929,0.6745788733873755,0.672632309205995,0.6727753516129672,0.6788933956006028,0.6810187752638767,0.6846078574361639,0.6845669953045593,0.6758305817606287,0.669684398283097,0.6794911601900459,0.6811260445959276,0.6795116162022043,0.6755265854628676,0.6736337058402251,0.6771614698687494,0.6763746617913338,0.6826127975381538,0.6951605153962113,0.70170259754808,0.7035316144986177,0.7006501606688786,0.7016745079508965],\"yaxis\":\"y\",\"type\":\"scatter\"}],                        {\"template\":{\"data\":{\"histogram2dcontour\":[{\"type\":\"histogram2dcontour\",\"colorbar\":{\"outlinewidth\":0,\"ticks\":\"\"},\"colorscale\":[[0.0,\"#0d0887\"],[0.1111111111111111,\"#46039f\"],[0.2222222222222222,\"#7201a8\"],[0.3333333333333333,\"#9c179e\"],[0.4444444444444444,\"#bd3786\"],[0.5555555555555556,\"#d8576b\"],[0.6666666666666666,\"#ed7953\"],[0.7777777777777778,\"#fb9f3a\"],[0.8888888888888888,\"#fdca26\"],[1.0,\"#f0f921\"]]}],\"choropleth\":[{\"type\":\"choropleth\",\"colorbar\":{\"outlinewidth\":0,\"ticks\":\"\"}}],\"histogram2d\":[{\"type\":\"histogram2d\",\"colorbar\":{\"outlinewidth\":0,\"ticks\":\"\"},\"colorscale\":[[0.0,\"#0d0887\"],[0.1111111111111111,\"#46039f\"],[0.2222222222222222,\"#7201a8\"],[0.3333333333333333,\"#9c179e\"],[0.4444444444444444,\"#bd3786\"],[0.5555555555555556,\"#d8576b\"],[0.6666666666666666,\"#ed7953\"],[0.7777777777777778,\"#fb9f3a\"],[0.8888888888888888,\"#fdca26\"],[1.0,\"#f0f921\"]]}],\"heatmap\":[{\"type\":\"heatmap\",\"colorbar\":{\"outlinewidth\":0,\"ticks\":\"\"},\"colorscale\":[[0.0,\"#0d0887\"],[0.1111111111111111,\"#46039f\"],[0.2222222222222222,\"#7201a8\"],[0.3333333333333333,\"#9c179e\"],[0.4444444444444444,\"#bd3786\"],[0.5555555555555556,\"#d8576b\"],[0.6666666666666666,\"#ed7953\"],[0.7777777777777778,\"#fb9f3a\"],[0.8888888888888888,\"#fdca26\"],[1.0,\"#f0f921\"]]}],\"heatmapgl\":[{\"type\":\"heatmapgl\",\"colorbar\":{\"outlinewidth\":0,\"ticks\":\"\"},\"colorscale\":[[0.0,\"#0d0887\"],[0.1111111111111111,\"#46039f\"],[0.2222222222222222,\"#7201a8\"],[0.3333333333333333,\"#9c179e\"],[0.4444444444444444,\"#bd3786\"],[0.5555555555555556,\"#d8576b\"],[0.6666666666666666,\"#ed7953\"],[0.7777777777777778,\"#fb9f3a\"],[0.8888888888888888,\"#fdca26\"],[1.0,\"#f0f921\"]]}],\"contourcarpet\":[{\"type\":\"contourcarpet\",\"colorbar\":{\"outlinewidth\":0,\"ticks\":\"\"}}],\"contour\":[{\"type\":\"contour\",\"colorbar\":{\"outlinewidth\":0,\"ticks\":\"\"},\"colorscale\":[[0.0,\"#0d0887\"],[0.1111111111111111,\"#46039f\"],[0.2222222222222222,\"#7201a8\"],[0.3333333333333333,\"#9c179e\"],[0.4444444444444444,\"#bd3786\"],[0.5555555555555556,\"#d8576b\"],[0.6666666666666666,\"#ed7953\"],[0.7777777777777778,\"#fb9f3a\"],[0.8888888888888888,\"#fdca26\"],[1.0,\"#f0f921\"]]}],\"surface\":[{\"type\":\"surface\",\"colorbar\":{\"outlinewidth\":0,\"ticks\":\"\"},\"colorscale\":[[0.0,\"#0d0887\"],[0.1111111111111111,\"#46039f\"],[0.2222222222222222,\"#7201a8\"],[0.3333333333333333,\"#9c179e\"],[0.4444444444444444,\"#bd3786\"],[0.5555555555555556,\"#d8576b\"],[0.6666666666666666,\"#ed7953\"],[0.7777777777777778,\"#fb9f3a\"],[0.8888888888888888,\"#fdca26\"],[1.0,\"#f0f921\"]]}],\"mesh3d\":[{\"type\":\"mesh3d\",\"colorbar\":{\"outlinewidth\":0,\"ticks\":\"\"}}],\"scatter\":[{\"fillpattern\":{\"fillmode\":\"overlay\",\"size\":10,\"solidity\":0.2},\"type\":\"scatter\"}],\"parcoords\":[{\"type\":\"parcoords\",\"line\":{\"colorbar\":{\"outlinewidth\":0,\"ticks\":\"\"}}}],\"scatterpolargl\":[{\"type\":\"scatterpolargl\",\"marker\":{\"colorbar\":{\"outlinewidth\":0,\"ticks\":\"\"}}}],\"bar\":[{\"error_x\":{\"color\":\"#2a3f5f\"},\"error_y\":{\"color\":\"#2a3f5f\"},\"marker\":{\"line\":{\"color\":\"#E5ECF6\",\"width\":0.5},\"pattern\":{\"fillmode\":\"overlay\",\"size\":10,\"solidity\":0.2}},\"type\":\"bar\"}],\"scattergeo\":[{\"type\":\"scattergeo\",\"marker\":{\"colorbar\":{\"outlinewidth\":0,\"ticks\":\"\"}}}],\"scatterpolar\":[{\"type\":\"scatterpolar\",\"marker\":{\"colorbar\":{\"outlinewidth\":0,\"ticks\":\"\"}}}],\"histogram\":[{\"marker\":{\"pattern\":{\"fillmode\":\"overlay\",\"size\":10,\"solidity\":0.2}},\"type\":\"histogram\"}],\"scattergl\":[{\"type\":\"scattergl\",\"marker\":{\"colorbar\":{\"outlinewidth\":0,\"ticks\":\"\"}}}],\"scatter3d\":[{\"type\":\"scatter3d\",\"line\":{\"colorbar\":{\"outlinewidth\":0,\"ticks\":\"\"}},\"marker\":{\"colorbar\":{\"outlinewidth\":0,\"ticks\":\"\"}}}],\"scattermapbox\":[{\"type\":\"scattermapbox\",\"marker\":{\"colorbar\":{\"outlinewidth\":0,\"ticks\":\"\"}}}],\"scatterternary\":[{\"type\":\"scatterternary\",\"marker\":{\"colorbar\":{\"outlinewidth\":0,\"ticks\":\"\"}}}],\"scattercarpet\":[{\"type\":\"scattercarpet\",\"marker\":{\"colorbar\":{\"outlinewidth\":0,\"ticks\":\"\"}}}],\"carpet\":[{\"aaxis\":{\"endlinecolor\":\"#2a3f5f\",\"gridcolor\":\"white\",\"linecolor\":\"white\",\"minorgridcolor\":\"white\",\"startlinecolor\":\"#2a3f5f\"},\"baxis\":{\"endlinecolor\":\"#2a3f5f\",\"gridcolor\":\"white\",\"linecolor\":\"white\",\"minorgridcolor\":\"white\",\"startlinecolor\":\"#2a3f5f\"},\"type\":\"carpet\"}],\"table\":[{\"cells\":{\"fill\":{\"color\":\"#EBF0F8\"},\"line\":{\"color\":\"white\"}},\"header\":{\"fill\":{\"color\":\"#C8D4E3\"},\"line\":{\"color\":\"white\"}},\"type\":\"table\"}],\"barpolar\":[{\"marker\":{\"line\":{\"color\":\"#E5ECF6\",\"width\":0.5},\"pattern\":{\"fillmode\":\"overlay\",\"size\":10,\"solidity\":0.2}},\"type\":\"barpolar\"}],\"pie\":[{\"automargin\":true,\"type\":\"pie\"}]},\"layout\":{\"autotypenumbers\":\"strict\",\"colorway\":[\"#636efa\",\"#EF553B\",\"#00cc96\",\"#ab63fa\",\"#FFA15A\",\"#19d3f3\",\"#FF6692\",\"#B6E880\",\"#FF97FF\",\"#FECB52\"],\"font\":{\"color\":\"#2a3f5f\"},\"hovermode\":\"closest\",\"hoverlabel\":{\"align\":\"left\"},\"paper_bgcolor\":\"white\",\"plot_bgcolor\":\"#E5ECF6\",\"polar\":{\"bgcolor\":\"#E5ECF6\",\"angularaxis\":{\"gridcolor\":\"white\",\"linecolor\":\"white\",\"ticks\":\"\"},\"radialaxis\":{\"gridcolor\":\"white\",\"linecolor\":\"white\",\"ticks\":\"\"}},\"ternary\":{\"bgcolor\":\"#E5ECF6\",\"aaxis\":{\"gridcolor\":\"white\",\"linecolor\":\"white\",\"ticks\":\"\"},\"baxis\":{\"gridcolor\":\"white\",\"linecolor\":\"white\",\"ticks\":\"\"},\"caxis\":{\"gridcolor\":\"white\",\"linecolor\":\"white\",\"ticks\":\"\"}},\"coloraxis\":{\"colorbar\":{\"outlinewidth\":0,\"ticks\":\"\"}},\"colorscale\":{\"sequential\":[[0.0,\"#0d0887\"],[0.1111111111111111,\"#46039f\"],[0.2222222222222222,\"#7201a8\"],[0.3333333333333333,\"#9c179e\"],[0.4444444444444444,\"#bd3786\"],[0.5555555555555556,\"#d8576b\"],[0.6666666666666666,\"#ed7953\"],[0.7777777777777778,\"#fb9f3a\"],[0.8888888888888888,\"#fdca26\"],[1.0,\"#f0f921\"]],\"sequentialminus\":[[0.0,\"#0d0887\"],[0.1111111111111111,\"#46039f\"],[0.2222222222222222,\"#7201a8\"],[0.3333333333333333,\"#9c179e\"],[0.4444444444444444,\"#bd3786\"],[0.5555555555555556,\"#d8576b\"],[0.6666666666666666,\"#ed7953\"],[0.7777777777777778,\"#fb9f3a\"],[0.8888888888888888,\"#fdca26\"],[1.0,\"#f0f921\"]],\"diverging\":[[0,\"#8e0152\"],[0.1,\"#c51b7d\"],[0.2,\"#de77ae\"],[0.3,\"#f1b6da\"],[0.4,\"#fde0ef\"],[0.5,\"#f7f7f7\"],[0.6,\"#e6f5d0\"],[0.7,\"#b8e186\"],[0.8,\"#7fbc41\"],[0.9,\"#4d9221\"],[1,\"#276419\"]]},\"xaxis\":{\"gridcolor\":\"white\",\"linecolor\":\"white\",\"ticks\":\"\",\"title\":{\"standoff\":15},\"zerolinecolor\":\"white\",\"automargin\":true,\"zerolinewidth\":2},\"yaxis\":{\"gridcolor\":\"white\",\"linecolor\":\"white\",\"ticks\":\"\",\"title\":{\"standoff\":15},\"zerolinecolor\":\"white\",\"automargin\":true,\"zerolinewidth\":2},\"scene\":{\"xaxis\":{\"backgroundcolor\":\"#E5ECF6\",\"gridcolor\":\"white\",\"linecolor\":\"white\",\"showbackground\":true,\"ticks\":\"\",\"zerolinecolor\":\"white\",\"gridwidth\":2},\"yaxis\":{\"backgroundcolor\":\"#E5ECF6\",\"gridcolor\":\"white\",\"linecolor\":\"white\",\"showbackground\":true,\"ticks\":\"\",\"zerolinecolor\":\"white\",\"gridwidth\":2},\"zaxis\":{\"backgroundcolor\":\"#E5ECF6\",\"gridcolor\":\"white\",\"linecolor\":\"white\",\"showbackground\":true,\"ticks\":\"\",\"zerolinecolor\":\"white\",\"gridwidth\":2}},\"shapedefaults\":{\"line\":{\"color\":\"#2a3f5f\"}},\"annotationdefaults\":{\"arrowcolor\":\"#2a3f5f\",\"arrowhead\":0,\"arrowwidth\":1},\"geo\":{\"bgcolor\":\"white\",\"landcolor\":\"#E5ECF6\",\"subunitcolor\":\"white\",\"showland\":true,\"showlakes\":true,\"lakecolor\":\"white\"},\"title\":{\"x\":0.05},\"mapbox\":{\"style\":\"light\"}}},\"xaxis\":{\"anchor\":\"y\",\"domain\":[0.0,1.0],\"title\":{\"text\":\"x\"}},\"yaxis\":{\"anchor\":\"x\",\"domain\":[0.0,1.0],\"title\":{\"text\":\"y\"}},\"legend\":{\"tracegroupgap\":0},\"margin\":{\"t\":60}},                        {\"responsive\": true}                    ).then(function(){\n",
              "                            \n",
              "var gd = document.getElementById('974ee45e-edc3-4b8b-bb8d-6b9419d79679');\n",
              "var x = new MutationObserver(function (mutations, observer) {{\n",
              "        var display = window.getComputedStyle(gd).display;\n",
              "        if (!display || display === 'none') {{\n",
              "            console.log([gd, 'removed!']);\n",
              "            Plotly.purge(gd);\n",
              "            observer.disconnect();\n",
              "        }}\n",
              "}});\n",
              "\n",
              "// Listen for the removal of the full notebook cells\n",
              "var notebookContainer = gd.closest('#notebook-container');\n",
              "if (notebookContainer) {{\n",
              "    x.observe(notebookContainer, {childList: true});\n",
              "}}\n",
              "\n",
              "// Listen for the clearing of the current output cell\n",
              "var outputEl = gd.closest('.output');\n",
              "if (outputEl) {{\n",
              "    x.observe(outputEl, {childList: true});\n",
              "}}\n",
              "\n",
              "                        })                };                            </script>        </div>\n",
              "</body>\n",
              "</html>"
            ]
          },
          "metadata": {}
        }
      ]
    },
    {
      "cell_type": "code",
      "source": [
        "validY.shape"
      ],
      "metadata": {
        "colab": {
          "base_uri": "https://localhost:8080/"
        },
        "id": "oxTbQ0S1gG2l",
        "outputId": "7ec5c484-4c11-4b47-83ac-611a4fdb0cf9"
      },
      "execution_count": null,
      "outputs": [
        {
          "output_type": "execute_result",
          "data": {
            "text/plain": [
              "(586, 1)"
            ]
          },
          "metadata": {},
          "execution_count": 22
        }
      ]
    },
    {
      "cell_type": "code",
      "source": [
        "df.index.min()"
      ],
      "metadata": {
        "id": "mJJbq1FJemuj",
        "execution": {
          "iopub.status.busy": "2024-01-22T12:21:46.158853Z",
          "iopub.execute_input": "2024-01-22T12:21:46.160309Z",
          "iopub.status.idle": "2024-01-22T12:21:46.176706Z",
          "shell.execute_reply.started": "2024-01-22T12:21:46.160258Z",
          "shell.execute_reply": "2024-01-22T12:21:46.174392Z"
        },
        "trusted": true
      },
      "execution_count": null,
      "outputs": []
    },
    {
      "cell_type": "code",
      "source": [
        "df.index.max()\n"
      ],
      "metadata": {
        "id": "DkUUrBZ9eqDC",
        "outputId": "95f39c71-b9df-44cc-9502-bcccd887d9b6",
        "execution": {
          "iopub.status.busy": "2024-01-22T12:21:46.178648Z",
          "iopub.execute_input": "2024-01-22T12:21:46.179422Z",
          "iopub.status.idle": "2024-01-22T12:21:46.196693Z",
          "shell.execute_reply.started": "2024-01-22T12:21:46.179381Z",
          "shell.execute_reply": "2024-01-22T12:21:46.195494Z"
        },
        "trusted": true,
        "colab": {
          "base_uri": "https://localhost:8080/"
        }
      },
      "execution_count": null,
      "outputs": [
        {
          "output_type": "execute_result",
          "data": {
            "text/plain": [
              "Timestamp('2024-01-19 15:15:00+0530', tz='Asia/Kolkata')"
            ]
          },
          "metadata": {},
          "execution_count": 10
        }
      ]
    },
    {
      "cell_type": "code",
      "source": [
        "dataset = df.filter(['Adj Close'])\n",
        "\n",
        "data = dataset.values\n",
        "\n",
        "data = data.reshape(-1,1)"
      ],
      "metadata": {
        "id": "4XXO2q_ce3cS",
        "execution": {
          "iopub.status.busy": "2024-01-22T12:21:46.198298Z",
          "iopub.execute_input": "2024-01-22T12:21:46.198780Z",
          "iopub.status.idle": "2024-01-22T12:21:46.212089Z",
          "shell.execute_reply.started": "2024-01-22T12:21:46.198723Z",
          "shell.execute_reply": "2024-01-22T12:21:46.210426Z"
        },
        "trusted": true
      },
      "execution_count": null,
      "outputs": []
    },
    {
      "cell_type": "markdown",
      "source": [
        "## Data Normalizing and spliting"
      ],
      "metadata": {
        "id": "iYwOFOFwKEah"
      }
    },
    {
      "cell_type": "code",
      "source": [
        "\n",
        "data = scaler.fit_transform(data)\n",
        "train_set = int(len(data)*0.8)\n",
        "test_set = train_set - len(data)\n",
        "train, test = data[0:train_set,:], data[train_set:len(data),:]"
      ],
      "metadata": {
        "id": "FR8BV3EOfC-H",
        "execution": {
          "iopub.status.busy": "2024-01-22T12:21:46.225045Z",
          "iopub.execute_input": "2024-01-22T12:21:46.226525Z",
          "iopub.status.idle": "2024-01-22T12:21:46.237847Z",
          "shell.execute_reply.started": "2024-01-22T12:21:46.226453Z",
          "shell.execute_reply": "2024-01-22T12:21:46.236295Z"
        },
        "trusted": true
      },
      "execution_count": null,
      "outputs": []
    },
    {
      "cell_type": "code",
      "source": [
        "\n",
        "def create_dataset(dataset, predictiontime):\n",
        "\n",
        "    dataX, dataY = [],[]\n",
        "\n",
        "    for i in range(predictiontime,dataset.shape[0]):\n",
        "        dataX.append(dataset[i - predictiontime : i, 0])\n",
        "        dataY.append(dataset[i, 0])\n",
        "    return np.array(dataX), np.array(dataY)"
      ],
      "metadata": {
        "id": "ww28EUrkfUXD",
        "execution": {
          "iopub.status.busy": "2024-01-22T12:21:57.927698Z",
          "iopub.execute_input": "2024-01-22T12:21:57.928165Z",
          "iopub.status.idle": "2024-01-22T12:21:57.936689Z",
          "shell.execute_reply.started": "2024-01-22T12:21:57.928125Z",
          "shell.execute_reply": "2024-01-22T12:21:57.935037Z"
        },
        "trusted": true
      },
      "execution_count": null,
      "outputs": []
    },
    {
      "cell_type": "code",
      "source": [
        "x_train, y_train = create_dataset(train, 60)\n",
        "x_test, y_test = create_dataset(test,60)\n",
        "\n",
        "\n",
        "x_train = np.reshape(x_train, (x_train.shape[0], x_train.shape[1],1))\n",
        "x_test = np.reshape(x_test, (x_test.shape[0], x_test.shape[1],1))"
      ],
      "metadata": {
        "id": "YtbXdqpMfc7e",
        "execution": {
          "iopub.status.busy": "2024-01-22T12:21:58.353438Z",
          "iopub.execute_input": "2024-01-22T12:21:58.353902Z",
          "iopub.status.idle": "2024-01-22T12:21:58.835907Z",
          "shell.execute_reply.started": "2024-01-22T12:21:58.353864Z",
          "shell.execute_reply": "2024-01-22T12:21:58.834566Z"
        },
        "trusted": true
      },
      "execution_count": null,
      "outputs": []
    },
    {
      "cell_type": "code",
      "source": [
        "x_train.shape"
      ],
      "metadata": {
        "id": "MyW-v2D0v522",
        "outputId": "9d6bc5fc-490d-41c1-87dc-94c5da5d0da7",
        "execution": {
          "iopub.status.busy": "2024-01-22T12:21:59.660213Z",
          "iopub.execute_input": "2024-01-22T12:21:59.660640Z",
          "iopub.status.idle": "2024-01-22T12:21:59.669831Z",
          "shell.execute_reply.started": "2024-01-22T12:21:59.660607Z",
          "shell.execute_reply": "2024-01-22T12:21:59.668311Z"
        },
        "trusted": true,
        "colab": {
          "base_uri": "https://localhost:8080/"
        }
      },
      "execution_count": null,
      "outputs": [
        {
          "output_type": "execute_result",
          "data": {
            "text/plain": [
              "(4001, 60, 1)"
            ]
          },
          "metadata": {},
          "execution_count": 17
        }
      ]
    },
    {
      "cell_type": "code",
      "source": [
        "x_test.shape"
      ],
      "metadata": {
        "id": "r3Lodod-v8wa",
        "outputId": "c938c31c-c382-451d-f417-c37008dc940c",
        "execution": {
          "iopub.status.busy": "2024-01-22T12:22:00.870510Z",
          "iopub.execute_input": "2024-01-22T12:22:00.871018Z",
          "iopub.status.idle": "2024-01-22T12:22:00.879009Z",
          "shell.execute_reply.started": "2024-01-22T12:22:00.870977Z",
          "shell.execute_reply": "2024-01-22T12:22:00.877535Z"
        },
        "trusted": true,
        "colab": {
          "base_uri": "https://localhost:8080/"
        }
      },
      "execution_count": null,
      "outputs": [
        {
          "output_type": "execute_result",
          "data": {
            "text/plain": [
              "(956, 60, 1)"
            ]
          },
          "metadata": {},
          "execution_count": 18
        }
      ]
    },
    {
      "cell_type": "markdown",
      "source": [
        "## Create and fit LSTM model"
      ],
      "metadata": {
        "id": "OYVz4ndFKnj1"
      }
    },
    {
      "cell_type": "code",
      "source": [
        "# model = Sequential()\n",
        "# model.add(LSTM(units=96, return_sequences=True, input_shape=(x_train.shape[1], 1)))\n",
        "# model.add(Dropout(0.2))\n",
        "# model.add(LSTM(units=96, return_sequences=True))\n",
        "# model.add(Dropout(0.2))\n",
        "# model.add(LSTM(units=96, return_sequences=True))\n",
        "# model.add(Dropout(0.2))\n",
        "# model.add(LSTM(units=96))\n",
        "# model.add(Dropout(0.2))\n",
        "# model.add(Dense(units=1))\n",
        "# model.compile(loss='mean_squared_error', optimizer='adam')"
      ],
      "metadata": {
        "id": "K7sKgjPFVBCL"
      },
      "execution_count": null,
      "outputs": []
    },
    {
      "cell_type": "code",
      "source": [
        "\n",
        "model = Sequential()\n",
        "model.add(Bidirectional(GRU(units=200, return_sequences=True, input_shape=(trainX.shape[1], trainX.shape[2]))))\n",
        "model.add(Dropout(0.2))\n",
        "# model.add(Bidirectional(GRU(units=200, input_shape=(trainX.shape[1], trainX.shape[2]), return_sequences=True,)))\n",
        "# model.add(Dropout(0.2))\n",
        "model.add(LSTM(units=100, return_sequences=True))\n",
        "model.add(Dropout(0.2))\n",
        "model.add(LSTM(units=100, return_sequences=True))\n",
        "model.add(Dropout(0.1))\n",
        "model.add(LSTM(units=100))\n",
        "model.add(Dropout(0.2))\n",
        "model.add(Dense(units=1))\n",
        "model.compile(loss='mean_squared_error', optimizer='adam')"
      ],
      "metadata": {
        "id": "2f8dR0ArwAx9",
        "execution": {
          "iopub.status.busy": "2024-01-22T12:22:04.059212Z",
          "iopub.execute_input": "2024-01-22T12:22:04.060573Z",
          "iopub.status.idle": "2024-01-22T12:22:05.744418Z",
          "shell.execute_reply.started": "2024-01-22T12:22:04.060515Z",
          "shell.execute_reply": "2024-01-22T12:22:05.742925Z"
        },
        "trusted": true
      },
      "execution_count": null,
      "outputs": []
    },
    {
      "cell_type": "code",
      "source": [
        "test_predict = model.predict(testX)\n",
        "print(test_predict.shape)\n",
        "model.summary()"
      ],
      "metadata": {
        "colab": {
          "base_uri": "https://localhost:8080/"
        },
        "id": "3gtotoo8neBF",
        "outputId": "d855118c-8c3d-4bc0-a2e8-dd18c8d8caf0"
      },
      "execution_count": null,
      "outputs": [
        {
          "output_type": "stream",
          "name": "stdout",
          "text": [
            "19/19 [==============================] - 3s 4ms/step\n",
            "(600, 1)\n",
            "Model: \"sequential_8\"\n",
            "_________________________________________________________________\n",
            " Layer (type)                Output Shape              Param #   \n",
            "=================================================================\n",
            " bidirectional_9 (Bidirecti  (None, 7, 128)            27264     \n",
            " onal)                                                           \n",
            "                                                                 \n",
            " dropout_29 (Dropout)        (None, 7, 128)            0         \n",
            "                                                                 \n",
            " lstm_14 (LSTM)              (None, 7, 128)            131584    \n",
            "                                                                 \n",
            " dropout_30 (Dropout)        (None, 7, 128)            0         \n",
            "                                                                 \n",
            " lstm_15 (LSTM)              (None, 256)               394240    \n",
            "                                                                 \n",
            " dropout_31 (Dropout)        (None, 256)               0         \n",
            "                                                                 \n",
            " dense_12 (Dense)            (None, 256)               65792     \n",
            "                                                                 \n",
            " dropout_32 (Dropout)        (None, 256)               0         \n",
            "                                                                 \n",
            " dense_13 (Dense)            (None, 512)               131584    \n",
            "                                                                 \n",
            " dropout_33 (Dropout)        (None, 512)               0         \n",
            "                                                                 \n",
            " dense_14 (Dense)            (None, 1)                 513       \n",
            "                                                                 \n",
            "=================================================================\n",
            "Total params: 750977 (2.86 MB)\n",
            "Trainable params: 750977 (2.86 MB)\n",
            "Non-trainable params: 0 (0.00 Byte)\n",
            "_________________________________________________________________\n"
          ]
        }
      ]
    },
    {
      "cell_type": "code",
      "source": [
        "model= Sequential()\n",
        "model.add(Bidirectional(GRU(units=200, return_sequences=True,  input_shape=(trainX.shape[1], trainX.shape[2]))))\n",
        "model.add(Dropout(0.2))\n",
        "model.add(Bidirectional(GRU(units=200, return_sequences=True, )))\n",
        "model.add(Dropout(0.2))\n",
        "model.add(LSTM(units=100, return_sequences=True))\n",
        "model.add(Dropout(0.2))\n",
        "model.add(LSTM(units=100, return_sequences=True))\n",
        "model.add(Dropout(0.1))\n",
        "model.add(LSTM(units=100))\n",
        "model.add(Dropout(0.2))\n",
        "model.add(Dense(units=1))\n",
        "model.compile(loss='mean_squared_error', optimizer='adam')"
      ],
      "metadata": {
        "id": "UHWoDiZoi2xH"
      },
      "execution_count": null,
      "outputs": []
    },
    {
      "cell_type": "code",
      "source": [
        "early_stopping = EarlyStopping(monitor='val_loss', patience=20, restore_best_weights=True)\n",
        "# checkpoint = ModelCheckpoint(\"Naharspining_gru.wt\",\n",
        "#                     monitor=\"val_loss\", mode=\"min\",\n",
        "#                     save_best_only=True, verbose=1)\n",
        "\n",
        "model.fit(trainX,trainY,epochs=100, batch_size=16 , validation_data=(validX, validY), callbacks=[early_stopping,checkpoint])\n",
        "model.load_weights(\"Naharspining_gru.wt\")\n",
        "test_predict = model.predict(testX)"
      ],
      "metadata": {
        "id": "kDHrAmdIwUB9",
        "outputId": "aafeabbd-27c0-435c-a17c-63dc430f6779",
        "execution": {
          "iopub.status.busy": "2024-01-22T12:22:06.263242Z",
          "iopub.execute_input": "2024-01-22T12:22:06.264003Z",
          "iopub.status.idle": "2024-01-22T12:24:32.242943Z",
          "shell.execute_reply.started": "2024-01-22T12:22:06.263964Z",
          "shell.execute_reply": "2024-01-22T12:24:32.240962Z"
        },
        "trusted": true,
        "colab": {
          "base_uri": "https://localhost:8080/"
        }
      },
      "execution_count": null,
      "outputs": [
        {
          "output_type": "stream",
          "name": "stdout",
          "text": [
            "Epoch 1/100\n",
            "246/247 [============================>.] - ETA: 0s - loss: 0.0011\n",
            "Epoch 1: val_loss did not improve from 0.00004\n",
            "247/247 [==============================] - 6s 26ms/step - loss: 0.0011 - val_loss: 5.5035e-04\n",
            "Epoch 2/100\n",
            "247/247 [==============================] - ETA: 0s - loss: 0.0011\n",
            "Epoch 2: val_loss did not improve from 0.00004\n",
            "247/247 [==============================] - 6s 23ms/step - loss: 0.0011 - val_loss: 6.5540e-05\n",
            "Epoch 3/100\n",
            "246/247 [============================>.] - ETA: 0s - loss: 0.0013\n",
            "Epoch 3: val_loss did not improve from 0.00004\n",
            "247/247 [==============================] - 6s 26ms/step - loss: 0.0013 - val_loss: 5.2494e-04\n",
            "Epoch 4/100\n",
            "246/247 [============================>.] - ETA: 0s - loss: 8.9282e-04\n",
            "Epoch 4: val_loss did not improve from 0.00004\n",
            "247/247 [==============================] - 6s 23ms/step - loss: 8.9279e-04 - val_loss: 4.4004e-05\n",
            "Epoch 5/100\n",
            "245/247 [============================>.] - ETA: 0s - loss: 9.4887e-04\n",
            "Epoch 5: val_loss did not improve from 0.00004\n",
            "247/247 [==============================] - 6s 25ms/step - loss: 9.4628e-04 - val_loss: 7.2800e-05\n",
            "Epoch 6/100\n",
            "246/247 [============================>.] - ETA: 0s - loss: 8.7941e-04\n",
            "Epoch 6: val_loss did not improve from 0.00004\n",
            "247/247 [==============================] - 6s 23ms/step - loss: 8.7909e-04 - val_loss: 9.2038e-05\n",
            "Epoch 7/100\n",
            "245/247 [============================>.] - ETA: 0s - loss: 7.2082e-04\n",
            "Epoch 7: val_loss improved from 0.00004 to 0.00004, saving model to Naharspining_gru.wt\n",
            "247/247 [==============================] - 30s 121ms/step - loss: 7.2217e-04 - val_loss: 3.5121e-05\n",
            "Epoch 8/100\n",
            "245/247 [============================>.] - ETA: 0s - loss: 8.2041e-04\n",
            "Epoch 8: val_loss did not improve from 0.00004\n",
            "247/247 [==============================] - 6s 24ms/step - loss: 8.2194e-04 - val_loss: 6.6033e-05\n",
            "Epoch 9/100\n",
            "247/247 [==============================] - ETA: 0s - loss: 8.1869e-04\n",
            "Epoch 9: val_loss did not improve from 0.00004\n",
            "247/247 [==============================] - 6s 26ms/step - loss: 8.1869e-04 - val_loss: 4.1602e-05\n",
            "Epoch 10/100\n",
            "246/247 [============================>.] - ETA: 0s - loss: 7.4902e-04\n",
            "Epoch 10: val_loss did not improve from 0.00004\n",
            "247/247 [==============================] - 6s 23ms/step - loss: 7.4884e-04 - val_loss: 5.9168e-04\n",
            "Epoch 11/100\n",
            "245/247 [============================>.] - ETA: 0s - loss: 7.6075e-04\n",
            "Epoch 11: val_loss did not improve from 0.00004\n",
            "247/247 [==============================] - 6s 25ms/step - loss: 7.6115e-04 - val_loss: 1.2198e-04\n",
            "Epoch 12/100\n",
            "246/247 [============================>.] - ETA: 0s - loss: 8.2940e-04\n",
            "Epoch 12: val_loss did not improve from 0.00004\n",
            "247/247 [==============================] - 6s 23ms/step - loss: 8.2899e-04 - val_loss: 1.8743e-04\n",
            "Epoch 13/100\n",
            "246/247 [============================>.] - ETA: 0s - loss: 9.8991e-04\n",
            "Epoch 13: val_loss did not improve from 0.00004\n",
            "247/247 [==============================] - 6s 25ms/step - loss: 9.8948e-04 - val_loss: 6.8993e-04\n",
            "Epoch 14/100\n",
            "246/247 [============================>.] - ETA: 0s - loss: 6.8081e-04\n",
            "Epoch 14: val_loss did not improve from 0.00004\n",
            "247/247 [==============================] - 6s 23ms/step - loss: 6.8063e-04 - val_loss: 6.1072e-04\n",
            "Epoch 15/100\n",
            "245/247 [============================>.] - ETA: 0s - loss: 7.2813e-04\n",
            "Epoch 15: val_loss improved from 0.00004 to 0.00003, saving model to Naharspining_gru.wt\n",
            "247/247 [==============================] - 30s 120ms/step - loss: 7.3002e-04 - val_loss: 3.3361e-05\n",
            "Epoch 16/100\n",
            "245/247 [============================>.] - ETA: 0s - loss: 6.9635e-04\n",
            "Epoch 16: val_loss did not improve from 0.00003\n",
            "247/247 [==============================] - 6s 24ms/step - loss: 6.9637e-04 - val_loss: 7.0564e-05\n",
            "Epoch 17/100\n",
            "247/247 [==============================] - ETA: 0s - loss: 7.1516e-04\n",
            "Epoch 17: val_loss did not improve from 0.00003\n",
            "247/247 [==============================] - 6s 25ms/step - loss: 7.1516e-04 - val_loss: 2.3643e-04\n",
            "Epoch 18/100\n",
            "247/247 [==============================] - ETA: 0s - loss: 6.7473e-04\n",
            "Epoch 18: val_loss did not improve from 0.00003\n",
            "247/247 [==============================] - 6s 23ms/step - loss: 6.7473e-04 - val_loss: 2.7883e-04\n",
            "Epoch 19/100\n",
            "245/247 [============================>.] - ETA: 0s - loss: 6.8855e-04\n",
            "Epoch 19: val_loss did not improve from 0.00003\n",
            "247/247 [==============================] - 6s 25ms/step - loss: 6.8729e-04 - val_loss: 1.1955e-04\n",
            "Epoch 20/100\n",
            "246/247 [============================>.] - ETA: 0s - loss: 6.2467e-04\n",
            "Epoch 20: val_loss did not improve from 0.00003\n",
            "247/247 [==============================] - 6s 23ms/step - loss: 6.2438e-04 - val_loss: 2.4770e-04\n",
            "Epoch 21/100\n",
            "247/247 [==============================] - ETA: 0s - loss: 6.8079e-04\n",
            "Epoch 21: val_loss did not improve from 0.00003\n",
            "247/247 [==============================] - 6s 26ms/step - loss: 6.8079e-04 - val_loss: 1.5625e-04\n",
            "Epoch 22/100\n",
            "246/247 [============================>.] - ETA: 0s - loss: 6.2929e-04\n",
            "Epoch 22: val_loss did not improve from 0.00003\n",
            "247/247 [==============================] - 6s 23ms/step - loss: 6.2909e-04 - val_loss: 3.4399e-05\n",
            "Epoch 23/100\n",
            "247/247 [==============================] - ETA: 0s - loss: 6.5001e-04\n",
            "Epoch 23: val_loss did not improve from 0.00003\n",
            "247/247 [==============================] - 6s 25ms/step - loss: 6.5001e-04 - val_loss: 5.3534e-05\n",
            "Epoch 24/100\n",
            "246/247 [============================>.] - ETA: 0s - loss: 6.5051e-04\n",
            "Epoch 24: val_loss did not improve from 0.00003\n",
            "247/247 [==============================] - 6s 23ms/step - loss: 6.5033e-04 - val_loss: 7.3543e-05\n",
            "Epoch 25/100\n",
            "247/247 [==============================] - ETA: 0s - loss: 6.1814e-04\n",
            "Epoch 25: val_loss did not improve from 0.00003\n",
            "247/247 [==============================] - 6s 25ms/step - loss: 6.1814e-04 - val_loss: 1.9369e-04\n",
            "Epoch 26/100\n",
            "246/247 [============================>.] - ETA: 0s - loss: 6.4858e-04\n",
            "Epoch 26: val_loss did not improve from 0.00003\n",
            "247/247 [==============================] - 6s 23ms/step - loss: 6.4831e-04 - val_loss: 2.8166e-04\n",
            "Epoch 27/100\n",
            "247/247 [==============================] - ETA: 0s - loss: 6.5271e-04\n",
            "Epoch 27: val_loss did not improve from 0.00003\n",
            "247/247 [==============================] - 6s 25ms/step - loss: 6.5271e-04 - val_loss: 4.1988e-05\n",
            "Epoch 28/100\n",
            "246/247 [============================>.] - ETA: 0s - loss: 6.5172e-04\n",
            "Epoch 28: val_loss did not improve from 0.00003\n",
            "247/247 [==============================] - 6s 24ms/step - loss: 6.5183e-04 - val_loss: 3.7527e-05\n",
            "Epoch 29/100\n",
            "245/247 [============================>.] - ETA: 0s - loss: 5.9453e-04\n",
            "Epoch 29: val_loss did not improve from 0.00003\n",
            "247/247 [==============================] - 6s 25ms/step - loss: 5.9691e-04 - val_loss: 7.7806e-05\n",
            "Epoch 30/100\n",
            "246/247 [============================>.] - ETA: 0s - loss: 5.8391e-04\n",
            "Epoch 30: val_loss did not improve from 0.00003\n",
            "247/247 [==============================] - 6s 23ms/step - loss: 5.8451e-04 - val_loss: 1.4106e-04\n",
            "Epoch 31/100\n",
            "246/247 [============================>.] - ETA: 0s - loss: 5.8250e-04\n",
            "Epoch 31: val_loss did not improve from 0.00003\n",
            "247/247 [==============================] - 6s 25ms/step - loss: 5.8281e-04 - val_loss: 4.4395e-05\n",
            "Epoch 32/100\n",
            "247/247 [==============================] - ETA: 0s - loss: 5.8524e-04\n",
            "Epoch 32: val_loss did not improve from 0.00003\n",
            "247/247 [==============================] - 6s 24ms/step - loss: 5.8524e-04 - val_loss: 1.2738e-04\n",
            "Epoch 33/100\n",
            "245/247 [============================>.] - ETA: 0s - loss: 5.5552e-04\n",
            "Epoch 33: val_loss did not improve from 0.00003\n",
            "247/247 [==============================] - 6s 24ms/step - loss: 5.5724e-04 - val_loss: 7.3204e-04\n",
            "Epoch 34/100\n",
            "247/247 [==============================] - ETA: 0s - loss: 5.8877e-04\n",
            "Epoch 34: val_loss did not improve from 0.00003\n",
            "247/247 [==============================] - 6s 24ms/step - loss: 5.8877e-04 - val_loss: 4.8098e-05\n",
            "Epoch 35/100\n",
            "247/247 [==============================] - ETA: 0s - loss: 6.0825e-04\n",
            "Epoch 35: val_loss did not improve from 0.00003\n",
            "247/247 [==============================] - 6s 25ms/step - loss: 6.0825e-04 - val_loss: 5.0828e-05\n",
            "17/17 [==============================] - 0s 9ms/step\n"
          ]
        }
      ]
    },
    {
      "cell_type": "code",
      "source": [
        "test_predict = model.predict(validX).reshape(-1)\n",
        "# test_predict = scaler.inverse_transform(np.tile(test_predict, df_for_training_df.shape[1]))[:,0]\n",
        "# valid_pred = model.predict(validX)\n",
        "# y_test_copy = np.tile(valid_pred, df_for_training_df.shape[1])\n",
        "y_test_scaled = validY.reshape(-1)\n"
      ],
      "metadata": {
        "colab": {
          "base_uri": "https://localhost:8080/"
        },
        "id": "J9bQ3z9owkf7",
        "outputId": "fb76cdf5-770c-4cf7-94ca-bce0be08541d"
      },
      "execution_count": null,
      "outputs": [
        {
          "output_type": "stream",
          "name": "stdout",
          "text": [
            "16/16 [==============================] - 0s 4ms/step\n"
          ]
        }
      ]
    },
    {
      "cell_type": "code",
      "source": [
        "test_predict = model.predict(testX)\n",
        "test_predict = scaler.inverse_transform(np.tile(test_predict, df_for_training_df.shape[1]))[:,0]\n",
        "y_test_copy = np.tile(testY, df_for_training_df.shape[1]) #np.repeat(testY, df_for_training_df.shape[1], axis=-1)\n",
        "y_test_scaled = scaler.inverse_transform(y_test_copy)[:,0]"
      ],
      "metadata": {
        "id": "xeDK8xSxyVvo",
        "execution": {
          "iopub.status.busy": "2022-10-16T18:50:47.497671Z",
          "iopub.execute_input": "2022-10-16T18:50:47.498068Z",
          "iopub.status.idle": "2022-10-16T18:50:47.504857Z",
          "shell.execute_reply.started": "2022-10-16T18:50:47.498033Z",
          "shell.execute_reply": "2022-10-16T18:50:47.503572Z"
        },
        "trusted": true,
        "colab": {
          "base_uri": "https://localhost:8080/"
        },
        "outputId": "eb48d236-9f4d-40d7-bea7-66bb7b3dd973"
      },
      "execution_count": null,
      "outputs": [
        {
          "output_type": "stream",
          "name": "stdout",
          "text": [
            "17/17 [==============================] - 0s 10ms/step\n"
          ]
        }
      ]
    },
    {
      "cell_type": "code",
      "source": [
        "from sklearn.metrics import mean_squared_error, mean_squared_log_error\n",
        "# Calculate Mean Squared Error (MSE)\n",
        "mse = mean_squared_error(y_test_scaled, test_predict)\n",
        "\n",
        "# Calculate Root Mean Squared Error (RMSE)\n",
        "rmse = np.sqrt(mse)\n",
        "\n",
        "# Display the results\n",
        "print(f\"Mean Squared Error (MSE): {mse}\")\n",
        "print(f\"Root Mean Squared Error (RMSE): {rmse}\")"
      ],
      "metadata": {
        "colab": {
          "base_uri": "https://localhost:8080/"
        },
        "id": "Q3Tyj6_pUOD2",
        "outputId": "cfde7ccb-2eb7-479f-e8b5-261e2b4d7e15"
      },
      "execution_count": null,
      "outputs": [
        {
          "output_type": "stream",
          "name": "stdout",
          "text": [
            "Mean Squared Error (MSE): 38.146853679793814\n",
            "Root Mean Squared Error (RMSE): 6.176313923352165\n"
          ]
        }
      ]
    },
    {
      "cell_type": "markdown",
      "source": [
        " ## Visualizing the prediction of the neural network"
      ],
      "metadata": {
        "id": "cvdDqkzXLOQ3"
      }
    },
    {
      "cell_type": "code",
      "source": [
        "\n",
        "fig, ax = plt.subplots(figsize=(20,12))\n",
        "\n",
        "ax.plot(y_test_scaled, color='blue', label='True Values')\n",
        "plt.plot(test_predict, color='red',label='prediction')\n",
        "plt.legend()\n",
        "plt.show()"
      ],
      "metadata": {
        "id": "h0lM5VzTyfNQ",
        "outputId": "c52dd13b-9cfa-4565-f977-cbf40bd104cc",
        "execution": {
          "iopub.status.busy": "2022-10-16T18:50:52.163925Z",
          "iopub.execute_input": "2022-10-16T18:50:52.164604Z",
          "iopub.status.idle": "2022-10-16T18:50:52.534326Z",
          "shell.execute_reply.started": "2022-10-16T18:50:52.164568Z",
          "shell.execute_reply": "2022-10-16T18:50:52.533322Z"
        },
        "trusted": true,
        "colab": {
          "base_uri": "https://localhost:8080/",
          "height": 717
        }
      },
      "execution_count": null,
      "outputs": [
        {
          "output_type": "display_data",
          "data": {
            "text/plain": [
              "<Figure size 2000x1200 with 1 Axes>"
            ],
            "image/png": "[encoded data removed]"
          },
          "metadata": {}
        }
      ]
    },
    {
      "cell_type": "code",
      "source": [
        "fig, ax2 = plt.subplots(figsize=(20, 12))\n",
        "plt.plot(df['Close'].values, color=(0, 0, 0.9, 0.6), label=\"True Price\")\n",
        "ax2.plot(range(len(y_train) + 50, len(y_train) + 50 + len(test_predict)), test_predict, color=(0, 0.9, 0,0.6),\n",
        "             label='Predicted Testing Price')\n",
        "plt.legend()"
      ],
      "metadata": {
        "id": "T_IYqeT_zS70",
        "outputId": "e8f4f9c4-3bbc-4127-c928-8ddfcf6eb8fe",
        "execution": {
          "iopub.status.busy": "2022-10-16T18:51:00.166383Z",
          "iopub.execute_input": "2022-10-16T18:51:00.166739Z",
          "iopub.status.idle": "2022-10-16T18:51:00.749833Z",
          "shell.execute_reply.started": "2022-10-16T18:51:00.166703Z",
          "shell.execute_reply": "2022-10-16T18:51:00.748933Z"
        },
        "trusted": true,
        "colab": {
          "base_uri": "https://localhost:8080/",
          "height": 734
        }
      },
      "execution_count": null,
      "outputs": [
        {
          "output_type": "execute_result",
          "data": {
            "text/plain": [
              "<matplotlib.legend.Legend at 0x7eb3fcf10c70>"
            ]
          },
          "metadata": {},
          "execution_count": 25
        },
        {
          "output_type": "display_data",
          "data": {
            "text/plain": [
              "<Figure size 2000x1200 with 1 Axes>"
            ],
            "image/png": "[encoded data removed]"
          },
          "metadata": {}
        }
      ]
    },
    {
      "cell_type": "code",
      "source": [],
      "metadata": {
        "id": "dr2b31CdLDXs"
      },
      "execution_count": null,
      "outputs": []
    }
  ]
}